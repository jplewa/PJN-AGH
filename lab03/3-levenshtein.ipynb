{
 "cells": [
  {
   "cell_type": "markdown",
   "metadata": {},
   "source": [
    "# Lab3: Levenshtein distance and spelling corrections"
   ]
  },
  {
   "cell_type": "code",
   "execution_count": 64,
   "metadata": {},
   "outputs": [],
   "source": [
    "import collections\n",
    "import elasticsearch\n",
    "import elasticsearch_dsl\n",
    "import itertools\n",
    "import Levenshtein\n",
    "import locale\n",
    "import matplotlib.pyplot as plt\n",
    "import numpy as np\n",
    "import os\n",
    "import re\n",
    "import spacy\n",
    "import spacy.lang.pl\n",
    "import spacy.tokenizer\n",
    "import time"
   ]
  },
  {
   "cell_type": "code",
   "execution_count": 2,
   "metadata": {},
   "outputs": [
    {
     "data": {
      "text/plain": [
       "'pl_PL.UTF-8'"
      ]
     },
     "execution_count": 2,
     "metadata": {},
     "output_type": "execute_result"
    }
   ],
   "source": [
    "locale.setlocale(locale.LC_COLLATE, 'pl_PL.UTF-8')"
   ]
  },
  {
   "cell_type": "code",
   "execution_count": 3,
   "metadata": {},
   "outputs": [],
   "source": [
    "ACT_DIRECTORY = '../files'"
   ]
  },
  {
   "cell_type": "markdown",
   "metadata": {},
   "source": [
    "## 1. Use SpaCy tokenizer API to tokenize the text from the law corpus."
   ]
  },
  {
   "cell_type": "markdown",
   "metadata": {},
   "source": [
    "Po utorzeniu tokenizatora opartego o pretrenowany model języka polskiego treści plików zostały poddane tokenizacji i wczytane do słownika."
   ]
  },
  {
   "cell_type": "code",
   "execution_count": 4,
   "metadata": {},
   "outputs": [],
   "source": [
    "nlp = spacy.load('pl_core_news_sm')\n",
    "# Create a Tokenizer with the default settings for Polish\n",
    "# including punctuation rules and exceptions\n",
    "tokenizer = nlp.Defaults.create_tokenizer(nlp)"
   ]
  },
  {
   "cell_type": "code",
   "execution_count": 5,
   "metadata": {},
   "outputs": [],
   "source": [
    "all_tokens_per_file = {}\n",
    "\n",
    "for root, _, files in os.walk(ACT_DIRECTORY):\n",
    "    for file_name in files:\n",
    "        path = os.path.join(root, file_name)\n",
    "        with open(path, encoding='utf-8') as file:\n",
    "            content = file.read()\n",
    "            all_tokens_per_file[path] = [token.text.lower() for token in tokenizer(content)]"
   ]
  },
  {
   "cell_type": "markdown",
   "metadata": {},
   "source": [
    "## 2. Compute frequency list for each of the processed files."
   ]
  },
  {
   "cell_type": "markdown",
   "metadata": {},
   "source": [
    "Poniżej zaprezentowane jest 5 najpopularniejszych tokenów z pierwszych 10 plików. Łatwo zauważyć, że raczej nie są one dla nas interesujące."
   ]
  },
  {
   "cell_type": "code",
   "execution_count": 6,
   "metadata": {},
   "outputs": [],
   "source": [
    "all_frequencies_per_file = {\n",
    "    path: collections.Counter(tokens)\n",
    "    for (path, tokens) \n",
    "    in all_tokens_per_file.items()\n",
    "}"
   ]
  },
  {
   "cell_type": "code",
   "execution_count": 7,
   "metadata": {},
   "outputs": [
    {
     "name": "stdout",
     "output_type": "stream",
     "text": [
      "1993_599.txt: [('|', 1634), ('-', 858), ('\\n', 561), ('.', 497), ('   ', 485)]\n",
      "1993_602.txt: [('.', 155), (',', 89), ('w', 63), ('\"', 44), ('\\n          ', 36)]\n",
      "1993_645.txt: [('.', 23), (',', 7), ('\\n', 7), ('z', 6), ('r', 6)]\n",
      "1993_646.txt: [('.', 688), (',', 610), ('w', 506), ('-', 324), ('\"', 304)]\n",
      "1994_150.txt: [('.', 20), (',', 6), ('w', 6), ('z', 5), ('i', 4)]\n",
      "1994_195.txt: [('.', 2724), (',', 2197), ('\\n  ', 1368), ('w', 1226), ('\\n', 1117)]\n",
      "1994_201.txt: [('.', 36), (',', 19), ('\\n                ', 19), ('i', 9), ('z', 8)]\n",
      "1994_214.txt: [('.', 17), ('\\n', 5), ('w', 4), ('\"', 4), ('z', 3)]\n",
      "1994_215.txt: [('.', 39), (',', 23), ('w', 14), ('z', 8), ('\\n       ', 8)]\n",
      "1994_288.txt: [(',', 26), ('.', 23), ('w', 17), (')', 16), ('\\n', 11)]\n"
     ]
    }
   ],
   "source": [
    "for file, counter in sorted(all_frequencies_per_file.items())[:10]:\n",
    "    print(f'{file.split(\"/\")[-1]}: {counter.most_common(5)}')"
   ]
  },
  {
   "cell_type": "markdown",
   "metadata": {},
   "source": [
    "## 3. Aggregate the result to obtain one global frequency list."
   ]
  },
  {
   "cell_type": "markdown",
   "metadata": {},
   "source": [
    "Poniżej zaprezentowane jest 10 najpopularniejszych globalnie słów. Również tutaj widać, że raczej nie są one dla nas interesujące."
   ]
  },
  {
   "cell_type": "code",
   "execution_count": 8,
   "metadata": {},
   "outputs": [
    {
     "data": {
      "text/plain": [
       "[('.', 441565),\n",
       " (',', 342866),\n",
       " ('w', 202063),\n",
       " ('\\n', 184442),\n",
       " (')', 100755),\n",
       " ('i', 90324),\n",
       " ('art', 84246),\n",
       " ('z', 82814),\n",
       " ('1', 73637),\n",
       " ('-', 66220)]"
      ]
     },
     "execution_count": 8,
     "metadata": {},
     "output_type": "execute_result"
    }
   ],
   "source": [
    "all_tokens = [token for tokens in all_tokens_per_file.values() for token in tokens]\n",
    "all_global_frequency = collections.Counter(all_tokens)\n",
    "all_global_frequency.most_common(10)"
   ]
  },
  {
   "cell_type": "markdown",
   "metadata": {},
   "source": [
    "## 4. Reject all entries that are shorter than 2 characters or contain non-letter characters (make sure to include Polish diacritics)."
   ]
  },
  {
   "cell_type": "markdown",
   "metadata": {},
   "source": [
    "Pole `is_alpha` tokenów spaCy pozwala na wykrycie tokenów zawierających same litery i poprawnie obsługuje polskie znaki."
   ]
  },
  {
   "cell_type": "code",
   "execution_count": 9,
   "metadata": {},
   "outputs": [
    {
     "data": {
      "text/plain": [
       "True"
      ]
     },
     "execution_count": 9,
     "metadata": {},
     "output_type": "execute_result"
    }
   ],
   "source": [
    "tokenizer('ęśąćż')[0].is_alpha"
   ]
  },
  {
   "cell_type": "code",
   "execution_count": 10,
   "metadata": {},
   "outputs": [
    {
     "data": {
      "text/plain": [
       "False"
      ]
     },
     "execution_count": 10,
     "metadata": {},
     "output_type": "execute_result"
    }
   ],
   "source": [
    "tokenizer('70milionów')[0].is_alpha"
   ]
  },
  {
   "cell_type": "markdown",
   "metadata": {},
   "source": [
    "Rozważałam również wykorzystanie pola `is_stop` w celu eliminacji stopwordsów, jednak polecenie wskazywało konkretnie na słowa jednoliterowe -- zatem zostawiamy słowo \"oraz\", ale eliminujemy \"w\" oraz \"i\"."
   ]
  },
  {
   "cell_type": "code",
   "execution_count": 11,
   "metadata": {},
   "outputs": [
    {
     "data": {
      "text/plain": [
       "False"
      ]
     },
     "execution_count": 11,
     "metadata": {},
     "output_type": "execute_result"
    }
   ],
   "source": [
    "tokenizer('Ąśćź')[0].is_stop"
   ]
  },
  {
   "cell_type": "code",
   "execution_count": 12,
   "metadata": {},
   "outputs": [
    {
     "data": {
      "text/plain": [
       "True"
      ]
     },
     "execution_count": 12,
     "metadata": {},
     "output_type": "execute_result"
    }
   ],
   "source": [
    "tokenizer('i')[0].is_stop"
   ]
  },
  {
   "cell_type": "code",
   "execution_count": 13,
   "metadata": {},
   "outputs": [
    {
     "data": {
      "text/plain": [
       "True"
      ]
     },
     "execution_count": 13,
     "metadata": {},
     "output_type": "execute_result"
    }
   ],
   "source": [
    "tokenizer('oraz')[0].is_stop"
   ]
  },
  {
   "cell_type": "code",
   "execution_count": 15,
   "metadata": {},
   "outputs": [],
   "source": [
    "tokens_per_file = {}\n",
    "\n",
    "for root, _, files in os.walk(ACT_DIRECTORY):\n",
    "    for file_name in files:\n",
    "        path = os.path.join(root, file_name)\n",
    "        with open(path, encoding='utf-8') as file:\n",
    "            content = file.read()\n",
    "            tokens_per_file[path] = [\n",
    "                token.text.lower()\n",
    "                for token \n",
    "                in tokenizer(content) \n",
    "                if token.is_alpha \n",
    "                # and not token.is_stop\n",
    "                and len(token) > 1\n",
    "            ]"
   ]
  },
  {
   "cell_type": "markdown",
   "metadata": {},
   "source": [
    "### Najpopularniejsze tokeny per plik"
   ]
  },
  {
   "cell_type": "markdown",
   "metadata": {},
   "source": [
    "Poniżej zaprezentowane jest 5 najpopularniejszych słów z pierwszych 10 plików po wyeliminowaniu krótkich słów oraz tokenów zawierających znaki inne niż litery."
   ]
  },
  {
   "cell_type": "code",
   "execution_count": 18,
   "metadata": {},
   "outputs": [],
   "source": [
    "frequencies_per_file = {\n",
    "    path: collections.Counter(tokens)\n",
    "    for (path, tokens) \n",
    "    in tokens_per_file.items()\n",
    "}"
   ]
  },
  {
   "cell_type": "code",
   "execution_count": 19,
   "metadata": {},
   "outputs": [
    {
     "name": "stdout",
     "output_type": "stream",
     "text": [
      "1993_599.txt: [('ust', 118), ('art', 75), ('do', 69), ('się', 66), ('towarów', 49)]\n",
      "1993_602.txt: [('ust', 29), ('nr', 28), ('poz', 28), ('art', 25), ('wynagrodzenia', 13)]\n",
      "1993_645.txt: [('nr', 6), ('poz', 6), ('dnia', 3), ('oraz', 3), ('art', 3)]\n",
      "1993_646.txt: [('ust', 193), ('art', 166), ('się', 126), ('pkt', 107), ('od', 102)]\n",
      "1994_150.txt: [('art', 4), ('lub', 4), ('dnia', 3), ('do', 3), ('dz', 2)]\n",
      "1994_195.txt: [('art', 510), ('do', 502), ('na', 459), ('się', 349), ('lub', 321)]\n",
      "1994_201.txt: [('art', 7), ('oraz', 5), ('rejonów', 5), ('nr', 4), ('poz', 4)]\n",
      "1994_214.txt: [('dnia', 3), ('art', 3), ('dz', 2), ('nr', 2), ('poz', 2)]\n",
      "1994_215.txt: [('ust', 7), ('nr', 6), ('poz', 6), ('art', 6), ('dnia', 3)]\n",
      "1994_288.txt: [('rolnych', 7), ('art', 7), ('dnia', 4), ('zadania', 4), ('związanych', 3)]\n"
     ]
    }
   ],
   "source": [
    "for file, counter in sorted(frequencies_per_file.items())[:10]:\n",
    "    print(f'{file.split(\"/\")[-1]}: {counter.most_common(5)}')"
   ]
  },
  {
   "cell_type": "markdown",
   "metadata": {},
   "source": [
    "### Globalnie nalpopularniejsze tokeny"
   ]
  },
  {
   "cell_type": "markdown",
   "metadata": {},
   "source": [
    "Poniżej zaprezentowane jest 10 najpopularniejszych globalnie słów po wyeliminowaniu krótkich słów oraz tokenów zawierających znaki inne niż litery."
   ]
  },
  {
   "cell_type": "code",
   "execution_count": 21,
   "metadata": {},
   "outputs": [
    {
     "data": {
      "text/plain": [
       "[('art', 84246),\n",
       " ('do', 60977),\n",
       " ('ust', 53686),\n",
       " ('na', 50805),\n",
       " ('lub', 46100),\n",
       " ('się', 46066),\n",
       " ('poz', 45481),\n",
       " ('nr', 45157),\n",
       " ('oraz', 33654),\n",
       " ('mowa', 28891)]"
      ]
     },
     "execution_count": 21,
     "metadata": {},
     "output_type": "execute_result"
    }
   ],
   "source": [
    "all_tokens = [token for tokens in tokens_per_file.values() for token in tokens]\n",
    "global_frequency = collections.Counter(all_tokens)\n",
    "global_frequency.most_common(10)"
   ]
  },
  {
   "cell_type": "markdown",
   "metadata": {},
   "source": [
    "## 5. Make a plot in a logarithmic scale:\n",
    "* X-axis should contain the rank of a term, meaning the first rank belongs to the term with the highest number of occurrences; the terms with the same number of occurrences should be ordered by their name,\n",
    "* Y-axis should contain the number of occurrences of the term with given rank."
   ]
  },
  {
   "cell_type": "code",
   "execution_count": 22,
   "metadata": {},
   "outputs": [
    {
     "data": {
      "image/png": "[encoded data removed]",
      "text/plain": [
       "<Figure size 1080x504 with 1 Axes>"
      ]
     },
     "metadata": {
      "needs_background": "light"
     },
     "output_type": "display_data"
    }
   ],
   "source": [
    "global_frequency_list = sorted(global_frequency.items(), key=lambda item: (-item[1], item[0]))\n",
    "\n",
    "plt.figure(figsize=(15, 7))\n",
    "plt.plot(range(1, len(global_frequency_list) + 1), [frequency for (_, frequency) in global_frequency_list])\n",
    "plt.yscale('log')"
   ]
  },
  {
   "cell_type": "markdown",
   "metadata": {},
   "source": [
    "## 6. Download polimorfologik.zip dictionary and use it to find all words that do not appear in that dictionary."
   ]
  },
  {
   "cell_type": "markdown",
   "metadata": {},
   "source": [
    "Z README znalezionego w zipie dowiedziałam się, jak wygląda format pliku.\n",
    "\n",
    "```\n",
    "4. polimorfologik-2.1 PoliMorf.txt to zwykły plik tekstowy w kodowaniu UTF-8 o formacie:\n",
    "    forma podstawowa;forma odmieniona;znaczniki gramatyczne\n",
    "```\n",
    "\n",
    "W związku z tym wykorzystane zostanie drugie ze słów znajdujących się w ciągu oddzielonym średnikami."
   ]
  },
  {
   "cell_type": "code",
   "execution_count": 27,
   "metadata": {},
   "outputs": [],
   "source": [
    "with open('../polimorfologik/polimorfologik-2.1.txt') as file:\n",
    "    polimorfologik_words = [line.split(';')[1].lower() for line in file.readlines()]"
   ]
  },
  {
   "cell_type": "markdown",
   "metadata": {},
   "source": [
    "Kilka przykładowych słów zostało wyprintowane poniżej."
   ]
  },
  {
   "cell_type": "code",
   "execution_count": 28,
   "metadata": {},
   "outputs": [
    {
     "data": {
      "text/plain": [
       "['aa',\n",
       " 'koniorami',\n",
       " 'szalczykowi',\n",
       " 'autogeniczni',\n",
       " 'chedywi',\n",
       " 'dokumencina',\n",
       " 'erotomańskościami',\n",
       " 'gładkopokładowiec',\n",
       " 'kapuchą',\n",
       " 'krząkającym',\n",
       " 'metra',\n",
       " 'nakrapiaj',\n",
       " 'niebibliotecznościach',\n",
       " 'nieetykietującej',\n",
       " 'niekorumpowane',\n",
       " 'nienobliwie',\n",
       " 'niepodciekającej',\n",
       " 'nieprzełażonym',\n",
       " 'nieskowronkowatość',\n",
       " 'nieuralo-ałtajskościach',\n",
       " 'niezaczepnego',\n",
       " 'nowobytomianie',\n",
       " 'odratowywałaś',\n",
       " 'otrzymywane',\n",
       " 'podejrzewającej',\n",
       " 'poprzekomarzając',\n",
       " 'prawującego',\n",
       " 'przewaga',\n",
       " 'rabuśniczych',\n",
       " 'rozserdecznialiby',\n",
       " 'skomlisz',\n",
       " 'superdostojny',\n",
       " 'trzcinami',\n",
       " 'ustabilizowanie',\n",
       " 'wpustnik',\n",
       " 'wypełzałeś',\n",
       " 'zaczopowanej',\n",
       " 'zatrutej',\n",
       " 'zniemożeniu']"
      ]
     },
     "execution_count": 28,
     "metadata": {},
     "output_type": "execute_result"
    }
   ],
   "source": [
    "polimorfologik_words[::123456]"
   ]
  },
  {
   "cell_type": "markdown",
   "metadata": {},
   "source": [
    "## 7. Find 30 words with the highest ranks that do not belong to the dictionary."
   ]
  },
  {
   "cell_type": "code",
   "execution_count": 24,
   "metadata": {},
   "outputs": [],
   "source": [
    "def find_words(condition):\n",
    "    for word, frequency in global_frequency_list:\n",
    "        if condition((word, frequency)):\n",
    "            yield (word, frequency)"
   ]
  },
  {
   "cell_type": "code",
   "execution_count": 75,
   "metadata": {},
   "outputs": [
    {
     "name": "stdout",
     "output_type": "stream",
     "text": [
      "('margin', 1097)\n",
      "('późn', 1080)\n",
      "('text', 531)\n",
      "('mso', 448)\n",
      "('face', 327)\n",
      "('panose', 326)\n",
      "('gmo', 298)\n",
      "('sa', 266)\n",
      "('iv', 263)\n",
      "('align', 234)\n",
      "('sww', 216)\n",
      "('justify', 200)\n",
      "('skw', 196)\n",
      "('div', 182)\n",
      "('line', 169)\n",
      "('ex', 167)\n",
      "('ike', 162)\n",
      "('autospace', 155)\n",
      "('none', 154)\n",
      "('vi', 146)\n",
      "('remediacji', 120)\n",
      "('vii', 106)\n",
      "('ure', 103)\n",
      "('family', 102)\n",
      "('uke', 97)\n",
      "('kn', 95)\n",
      "('cn', 83)\n",
      "('pkwiu', 81)\n",
      "('span', 77)\n",
      "('udt', 77)\n"
     ]
    }
   ],
   "source": [
    "for result in itertools.islice(find_words(lambda pair: pair[0] not in polimorfologik_words), 30):\n",
    "    print(result)"
   ]
  },
  {
   "cell_type": "markdown",
   "metadata": {},
   "source": [
    "## 8. Find 30 words with 5 occurrences that do not belong to the dictionary."
   ]
  },
  {
   "cell_type": "code",
   "execution_count": 29,
   "metadata": {},
   "outputs": [
    {
     "name": "stdout",
     "output_type": "stream",
     "text": [
      "('adopcyjnoopiekuńczych', 5)\n",
      "('agave', 5)\n",
      "('ami', 5)\n",
      "('anonimizacji', 5)\n",
      "('betezda', 5)\n",
      "('contagious', 5)\n",
      "('cznika', 5)\n",
      "('difenylopropylo', 5)\n",
      "('ekofizjograficznych', 5)\n",
      "('eudravigilance', 5)\n",
      "('gj', 5)\n",
      "('heptanol', 5)\n",
      "('inci', 5)\n",
      "('instrumen', 5)\n",
      "('izobutyl', 5)\n",
      "('jed', 5)\n",
      "('jwh', 5)\n",
      "('kj', 5)\n",
      "('kpwig', 5)\n",
      "('metylofenetyloamina', 5)\n",
      "('najmnie', 5)\n",
      "('naliczeń', 5)\n",
      "('naukowobadawczych', 5)\n",
      "('nawodnień', 5)\n",
      "('niskomorfinowego', 5)\n",
      "('nym', 5)\n",
      "('odgazowywacze', 5)\n",
      "('odwzorowań', 5)\n",
      "('organicz', 5)\n",
      "('ośc', 5)\n"
     ]
    }
   ],
   "source": [
    "for result in itertools.islice(find_words(lambda pair: pair[1] == 5 and pair[0] not in polimorfologik_words), 30):\n",
    "    print(result)"
   ]
  },
  {
   "cell_type": "markdown",
   "metadata": {},
   "source": [
    "## 9. Use Levenshtein distance and the frequency list, to determine the most probable correction of the words from the second list. (You don't have to apply the distance directly. Any method that is more efficient than scanning the dictionary will be appreciated.)"
   ]
  },
  {
   "cell_type": "code",
   "execution_count": 30,
   "metadata": {},
   "outputs": [],
   "source": [
    "words_to_spellcheck = list(\n",
    "    itertools.islice(find_words(lambda pair: pair[1] == 5 and pair[0] not in polimorfologik_words), 30)\n",
    ")"
   ]
  },
  {
   "cell_type": "markdown",
   "metadata": {},
   "source": [
    "Utworzona została macierz odległości Levenshteina."
   ]
  },
  {
   "cell_type": "code",
   "execution_count": 65,
   "metadata": {},
   "outputs": [
    {
     "name": "stdout",
     "output_type": "stream",
     "text": [
      "146.6512930393219\n"
     ]
    }
   ],
   "source": [
    "possible_suggestions = np.array(possible_suggestions)\n",
    "\n",
    "start = time.time()\n",
    "\n",
    "distance_matrix = np.zeros((len(words_to_spellcheck), len(possible_suggestions)), dtype=np.int)\n",
    "\n",
    "for i, (word1, _) in enumerate(words_to_spellcheck):\n",
    "    for j, word2 in enumerate(possible_suggestions):\n",
    "        distance_matrix[i, j] = Levenshtein.distance(word1, word2)\n",
    "        \n",
    "print(f'{(time.time() - start)} s')"
   ]
  },
  {
   "cell_type": "code",
   "execution_count": 45,
   "metadata": {},
   "outputs": [
    {
     "name": "stdout",
     "output_type": "stream",
     "text": [
      "Słowo: adopcyjnoopiekuńczych, dystans: 8, sugestie poprawki: nadopiekuńczych\n",
      "Słowo: agave, dystans: 1, sugestie poprawki: agape\n",
      "Słowo: ami, dystans: 1, sugestie poprawki: ai, am, api, agi, ali, ali, amig, ani, asi, ażi, rami, agi, ali, am, amb, amf, amia, amic, amid, amid, amie, amii, amin, amio, amią, amię, ani, kami, mami, mi, mi, nami, rami, sami, wami, ćmi, ćmi\n",
      "Słowo: anonimizacji, dystans: 2, sugestie poprawki: animizacji\n",
      "Słowo: betezda, dystans: 2, sugestie poprawki: bereda, bereza, betela, etezja\n",
      "Słowo: contagious, dystans: 2, sugestie poprawki: contagiom, contagium\n",
      "Słowo: cznika, dystans: 1, sugestie poprawki: cynika, cznia, ocznika, sznika, znika\n",
      "Słowo: difenylopropylo, dystans: 6, sugestie poprawki: difenyloamino, difenyloaminy\n",
      "Słowo: ekofizjograficznych, dystans: 3, sugestie poprawki: fizjograficznych, niefizjograficznych\n",
      "Słowo: eudravigilance, dystans: 6, sugestie poprawki: brasiliance, drawniance, drobiniance, jutrosiniance, supraślance, turawiance, turobiniance, udrażniane, udrażnianie, żurawiance, żurawiczance, żurominiance\n",
      "Słowo: gj, dystans: 1, sugestie poprawki: bj, dj, gl, gm, gs, gaj, gaj, goj, uj, uj, aj, ej, g, g, gaj, gaj, gaj, gej, gm, go, go, goj, gr, gr, gój, gę, gł, oj, tj\n",
      "Słowo: heptanol, dystans: 1, sugestie poprawki: heptanom\n",
      "Słowo: inci, dystans: 1, sugestie poprawki: ince, ingi, inki, irci, vinci, enci, imci, ince, inii, inki, inni, insi, iści, iści\n",
      "Słowo: instrumen, dystans: 1, sugestie poprawki: instrument\n",
      "Słowo: izobutyl, dystans: 2, sugestie poprawki: izobaty, izobutan, izobuten, izobutylen\n",
      "Słowo: jed, dystans: 1, sugestie poprawki: bed, ed, jeż, led, red, red, ted, wed, wed, jad, je, je, jeb, jedz, jedź, jej, jej, jem, jen, jen, jer, jet, jez, jeż, jeż, jod, led, red, red, ued, zjed\n",
      "Słowo: jwh, dystans: 1, sugestie poprawki: jw\n",
      "Słowo: kj, dystans: 1, sugestie poprawki: bj, dj, k2, kc, ke, kg, km, kp, kw, kaj, kaj, kij, koj, tkj, uj, uj, aj, ej, k, ka, ka, kb, kb, kc, kej, kg, ki, kij, kk, kl, kl, km, km, koj, kp, kr, kr, kr, ks, ks, ku, kuj, kój, ką, oj, tj\n",
      "Słowo: kpwig, dystans: 2, sugestie poprawki: kawie, kenig, kulig, kwis, könig, puig, wig, dźwig, kawie, kawin, kewir, kiwi, kpi, kpie, kpij, kpin, kpią, kpić, kpię, kpił, kpowi, kpowie, krwi, krwie, krwią, kulig, kwag, kwic, kwik, kwil, kwit, kwiz, wig\n",
      "Słowo: metylofenetyloamina, dystans: 6, sugestie poprawki: metylofenolami\n",
      "Słowo: najmnie, dystans: 1, sugestie poprawki: najmanie, najemnie, najmie, najmie, najmniej, najmniej\n",
      "Słowo: naliczeń, dystans: 1, sugestie poprawki: naliczek, naliczek, zaliczeń\n",
      "Słowo: naukowobadawczych, dystans: 5, sugestie poprawki: naukoznawczych\n",
      "Słowo: nawodnień, dystans: 1, sugestie poprawki: zawodnień\n",
      "Słowo: niskomorfinowego, dystans: 3, sugestie poprawki: niemorfinowego\n",
      "Słowo: nym, dystans: 1, sugestie poprawki: nom, nyk, nys, pym, tym, cnym, cym, cym, dym, dym, dym, mym, nam, nem, nim, nim, nom, num, nyg, nys, nyż, onym, rym, tym, tym, tym, wym\n",
      "Słowo: odgazowywacze, dystans: 2, sugestie poprawki: odgazowywane, odgazowywanie, odparowywacze\n",
      "Słowo: odwzorowań, dystans: 1, sugestie poprawki: odwzorować, odwzorował\n",
      "Słowo: organicz, dystans: 1, sugestie poprawki: organicy\n",
      "Słowo: ośc, dystans: 1, sugestie poprawki: oc, ośce, odc, oś, ośca, ośce, ośce, ości, oścu, ośm, ość\n"
     ]
    }
   ],
   "source": [
    "for index, word in enumerate(words_to_spellcheck):\n",
    "    distance_vector = distance_matrix[index, :]\n",
    "    minimum_distance = distance_vector.min()\n",
    "    min_indices = np.where(distance_vector == minimum_distance)\n",
    "    print(f'Słowo: {word[0]}, dystans: {minimum_distance}, sugestie poprawki: {\", \".join(possible_suggestions[min_indices])}')"
   ]
  },
  {
   "cell_type": "markdown",
   "metadata": {},
   "source": [
    "## 10. Load Morfologik to ElasticSearch (one document for each form) and use fuzzy matching to obtain the possible corrections of the 30 words with 5 occurrences that do not belong to the dictionary."
   ]
  },
  {
   "cell_type": "code",
   "execution_count": 41,
   "metadata": {},
   "outputs": [
    {
     "data": {
      "text/plain": [
       "{'name': '15f0fe802b8f',\n",
       " 'cluster_name': 'docker-cluster',\n",
       " 'cluster_uuid': '-gSQyVHTT1adZQVHiafp8Q',\n",
       " 'version': {'number': '7.9.2',\n",
       "  'build_flavor': 'default',\n",
       "  'build_type': 'docker',\n",
       "  'build_hash': 'd34da0ea4a966c4e49417f2da2f244e3e97b4e6e',\n",
       "  'build_date': '2020-09-23T00:45:33.626720Z',\n",
       "  'build_snapshot': False,\n",
       "  'lucene_version': '8.6.2',\n",
       "  'minimum_wire_compatibility_version': '6.8.0',\n",
       "  'minimum_index_compatibility_version': '6.0.0-beta1'},\n",
       " 'tagline': 'You Know, for Search'}"
      ]
     },
     "execution_count": 41,
     "metadata": {},
     "output_type": "execute_result"
    }
   ],
   "source": [
    "es = elasticsearch.Elasticsearch()\n",
    "elasticsearch_dsl.connections.add_connection('python_client', es)\n",
    "es.info()"
   ]
  },
  {
   "cell_type": "code",
   "execution_count": 42,
   "metadata": {},
   "outputs": [],
   "source": [
    "analyzer = elasticsearch_dsl.analyzer(\n",
    "    'keyword_analyzer',\n",
    "    type='custom',\n",
    "    tokenizer='keyword'\n",
    ")"
   ]
  },
  {
   "cell_type": "code",
   "execution_count": 43,
   "metadata": {},
   "outputs": [],
   "source": [
    "class WordForm(elasticsearch_dsl.Document):\n",
    "    content = elasticsearch_dsl.Text(analyzer=analyzer)\n",
    "\n",
    "    class Index:\n",
    "        name = 'polimorfologik'"
   ]
  },
  {
   "cell_type": "code",
   "execution_count": 93,
   "metadata": {},
   "outputs": [],
   "source": [
    "if WordForm._index.exists(using=es):\n",
    "    WordForm._index.delete(using=es)\n",
    "\n",
    "WordForm.init(using=es)\n",
    "\n",
    "elasticsearch.helpers.bulk(\n",
    "    es,\n",
    "    [WordForm(content=word).to_dict(True) for word in polimorfologik_words]\n",
    ")"
   ]
  },
  {
   "cell_type": "code",
   "execution_count": 94,
   "metadata": {},
   "outputs": [
    {
     "data": {
      "text/plain": [
       "(4811854, [])"
      ]
     },
     "execution_count": 94,
     "metadata": {},
     "output_type": "execute_result"
    }
   ],
   "source": [
    "elasticsearch.helpers.bulk(es, words)"
   ]
  },
  {
   "cell_type": "code",
   "execution_count": 97,
   "metadata": {},
   "outputs": [
    {
     "data": {
      "text/plain": [
       "4811854"
      ]
     },
     "execution_count": 97,
     "metadata": {},
     "output_type": "execute_result"
    }
   ],
   "source": [
    "len(polimorfologik_words)"
   ]
  },
  {
   "cell_type": "markdown",
   "metadata": {},
   "source": [
    "## 11. Compare the results of your algorithm and output of ES."
   ]
  },
  {
   "cell_type": "code",
   "execution_count": 66,
   "metadata": {},
   "outputs": [
    {
     "name": "stdout",
     "output_type": "stream",
     "text": [
      "1.4494760036468506 s\n"
     ]
    }
   ],
   "source": [
    "es_suggestions = {}\n",
    "\n",
    "start = time.time()\n",
    "\n",
    "for word in words_to_spellcheck:\n",
    "    response = es.search(\n",
    "        index='polimorfologik', \n",
    "        body={'query': {'fuzzy': {'content': {'value': word[0], 'fuzziness': 10}}}}\n",
    "    )\n",
    "    es_suggestions[word] = [hit['_source']['content'] for hit in response['hits']['hits']]\n",
    "    \n",
    "print(f'{(time.time() - start)} s')"
   ]
  },
  {
   "cell_type": "code",
   "execution_count": 63,
   "metadata": {},
   "outputs": [
    {
     "name": "stdout",
     "output_type": "stream",
     "text": [
      "Słowo: adopcyjnoopiekuńczych, sugestie poprawki: \n",
      "Słowo: agave, sugestie poprawki: agape, agach, agacie, agada, agado, agady, agadą, agadę, agami, aganie\n",
      "Słowo: ami, sugestie poprawki: ali, ali, amig, ani, asi, ażi, agi, api, mai, rami\n",
      "Słowo: anonimizacji, sugestie poprawki: animizacji\n",
      "Słowo: betezda, sugestie poprawki: bereda, bereza, betela, etezja\n",
      "Słowo: contagious, sugestie poprawki: contagiom, contagium\n",
      "Słowo: cznika, sugestie poprawki: cynika, ocznika, sznika, cznia, znika, calika, capika, czacka, czaicka, czajka\n",
      "Słowo: difenylopropylo, sugestie poprawki: \n",
      "Słowo: ekofizjograficznych, sugestie poprawki: \n",
      "Słowo: eudravigilance, sugestie poprawki: \n",
      "Słowo: gj, sugestie poprawki: bj, gl, gm, gs, gaj, gaj, goj, dj, uj, uj\n",
      "Słowo: heptanol, sugestie poprawki: heptanom, heptagon, heptanem, heptanie, heptanowa, heptanowe, heptanowi, heptanowi, heptanowo, heptanowy\n",
      "Słowo: inci, sugestie poprawki: ince, ingi, inki, irci, vinci, enci, imci, ince, inii, inki\n",
      "Słowo: instrumen, sugestie poprawki: instrument, instrumentu, instrumenty\n",
      "Słowo: izobutyl, sugestie poprawki: izobutan, izobuten, izobutylen, izobaty\n",
      "Słowo: jed, sugestie poprawki: bed, jeż, led, red, red, ted, wed, wed, jad, jeb\n",
      "Słowo: jwh, sugestie poprawki: jw, bch, bph, bwe, bwz, boh, agh, awf, aws, jav\n",
      "Słowo: kj, sugestie poprawki: bj, k2, kc, ke, kg, km, kp, kw, kaj, kaj\n",
      "Słowo: kpwig, sugestie poprawki: kawie, kenig, kulig, könig, dźwig, kawie, kawin, kewir, kpowi, kpowie\n",
      "Słowo: metylofenetyloamina, sugestie poprawki: \n",
      "Słowo: najmnie, sugestie poprawki: najmanie, najemnie, najmniej, najmniej, najmie, najmie, bajanie, bajonie, dajanie, najdzie\n",
      "Słowo: naliczeń, sugestie poprawki: naliczek, naliczek, zaliczeń, haliczem, waliczek, baliczek, nacieczeń, naliczaj, naliczam, naliczać\n",
      "Słowo: naukowobadawczych, sugestie poprawki: \n",
      "Słowo: nawodnień, sugestie poprawki: zawodnień, napomnień, nawadniań, nawodniaj, nawodniam, nawodniać, nawodniał, nawodnieni, nawodnili, nawodnimy\n",
      "Słowo: niskomorfinowego, sugestie poprawki: \n",
      "Słowo: nym, sugestie poprawki: nom, nyk, nys, pym, tym, cnym, cym, cym, dym, dym\n",
      "Słowo: odgazowywacze, sugestie poprawki: odgazowywanie, odparowywacze, odgazowywane\n",
      "Słowo: odwzorowań, sugestie poprawki: odwzorować, odwzorował, odszorować, odszorował, odwzorcować, odwzorcował, odwzorowali, odwzorowana, odwzorowane, odwzorowani\n",
      "Słowo: organicz, sugestie poprawki: ogranicz, organicy, odgranicz, ogranicza, ograniczy, ograniczą, ograniczę, organach, organach, organach\n",
      "Słowo: ośc, sugestie poprawki: ośce, odc, ośca, ośce, ośce, ości, oścu, ośm, ość, oc\n"
     ]
    }
   ],
   "source": [
    "for word, suggestions in es_suggestions.items():\n",
    "    print(f'Słowo: {word[0]}, sugestie poprawki: {\", \".join(suggestions)}')"
   ]
  },
  {
   "cell_type": "markdown",
   "metadata": {},
   "source": [
    "## 12. Draw conclusions regarding:\n",
    "* the distribution of words in the corpus,\n",
    "* the number of true misspellings vs. the number of unknown words,\n",
    "* the performance of your method compared to ElasitcSearch,\n",
    "* the results provided by your method compared to ElasticSearch,\n",
    "* the validity of the obtained corrections."
   ]
  },
  {
   "cell_type": "markdown",
   "metadata": {},
   "source": [
    "### Rozkład słów w korpusie\n",
    "\n",
    "Tylko 1/3 słów z korpusu wystąpiła w tekście więcej niż 10 razy. Wśród najczęściej występujących słów konsekwentnie pojawiają się jednostki redakcyjne, co nie jest zaskakującym odkryciem. Ponieważ nie wykluczono stopwordsów często pojawiają się również słowa takie jak \"oraz\".\n",
    "\n",
    "\n",
    "### Liczba literówek vs liczba nieznanych słów\n",
    "Wśród 30 najpopularniejszych słów spoza słownika znajdują się metadane HTML (`margin` czy `autospace`), jednak pojawiają się również prawdziwe nieznane słowa takie jak `remediacji`. Można również zauważyć występowanie liczb rzymskich (`iv`). Wśród słow z pięcioma wystąpieniami również pojawiają się nieznane słowa (jak `anonimizacji` czy `metylofenetyloamina`), ale większość słów wygląda mi na urwane słowa (być może w wyniku łamania linii). Słowa takie jak `instrumen` czy `najmnie` wyglądają na literówki. \n",
    "\n",
    "### Działanie własnej metody vs ES\n",
    "Moja metoda zajęła 147s, a metoda ES 1,4s -- wykorzystany został jednak nieco inny mechanizm i w mojej implementacji wyliczona została macierz odległości dla wszystkich możliwych słów. Samo wyszukiwanie nie zajęło wiele, ale konstrukcja macierzy była pracochłonna. Wyszukiwanie w ES powinno zawsze działać szybciej ze względu na indeksowanie danych.\n",
    "\n",
    "\n",
    "### Wyniki własnej metody vs ES + ocena sugerowanych poprawek\n",
    "W części przypadków wyniki się pokrywają, jednak w niektórych pojawiają się rozbieżności.\n",
    "\n",
    "Przykłady:\n",
    "* `adopcyjnoopiekuńczych`: metoda naiwna zasugerowała `nadopiekuńczych`, ES nie znalazł nic,\n",
    "* `nawodnień`: metoda naiwna zasugerowała `zawodnień`, a ES `zawodnień`, `napomnień`, `nawadniań`, `nawodniaj`, `nawodniam`, `nawodniać`, `nawodniał`, `nawodnieni`, `nawodnili` oraz `nawodnimy`,\n",
    "* `instrumen`: metoda naiwna zasugerowała `instrument`, a ES `instrument`, `instrumentu` oraz `instrumenty`.\n",
    "\n",
    "Ocena jakości sugestii jest utrudniona ze względu na brak znajomości kontekstu. Sugestie ES wydają mi się nieco bardziej uniwersalne, jednak ciężko mi ocenić ich przydatność dla tokenów takich jak `jwh` czy `nym`."
   ]
  }
 ],
 "metadata": {
  "kernelspec": {
   "display_name": "Python 3",
   "language": "python",
   "name": "python3"
  },
  "language_info": {
   "codemirror_mode": {
    "name": "ipython",
    "version": 3
   },
   "file_extension": ".py",
   "mimetype": "text/x-python",
   "name": "python",
   "nbconvert_exporter": "python",
   "pygments_lexer": "ipython3",
   "version": "3.6.9"
  }
 },
 "nbformat": 4,
 "nbformat_minor": 4
}
