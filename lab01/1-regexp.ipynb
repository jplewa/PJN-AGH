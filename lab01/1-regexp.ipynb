{
 "cells": [
  {
   "cell_type": "markdown",
   "metadata": {},
   "source": [
    "# Lab1: Regular expressions (aka regexps)"
   ]
  },
  {
   "cell_type": "code",
   "execution_count": 1,
   "metadata": {},
   "outputs": [],
   "source": [
    "import collections\n",
    "import os\n",
    "import matplotlib.pyplot as plt\n",
    "import re"
   ]
  },
  {
   "cell_type": "code",
   "execution_count": 2,
   "metadata": {},
   "outputs": [],
   "source": [
    "BILL_DIRECTORY = '../files'"
   ]
  },
  {
   "cell_type": "code",
   "execution_count": 3,
   "metadata": {},
   "outputs": [],
   "source": [
    "HEADER = r\"u\\s*s\\s*t\\s*a\\s*w\\s*a[\\s\\S]*?z\\s*dnia\\s*\\d{1,2}\\s*\\w*\\s*\\d{4}\"\n",
    "\n",
    "def get_bill_files(directory):\n",
    "    bills = collections.defaultdict(list)\n",
    "    for root, _, files in os.walk(BILL_DIRECTORY):\n",
    "        for file_name in files:\n",
    "            path = os.path.join(root, file_name)\n",
    "            with open(path) as file:\n",
    "                date = re.findall(HEADER, file.read(), re.IGNORECASE)\n",
    "                year = date[0][-4:] if date else os.path.splitext(file_name)[0].split('_')[0]\n",
    "                bills[year] += [path]\n",
    "    return bills"
   ]
  },
  {
   "cell_type": "code",
   "execution_count": 4,
   "metadata": {},
   "outputs": [],
   "source": [
    "files = get_bill_files(BILL_DIRECTORY)\n",
    "years = sorted(files.keys())"
   ]
  },
  {
   "cell_type": "markdown",
   "metadata": {},
   "source": [
    "## 1. For each bill compute the number of the following amendments present in the bill:\n",
    "* addition of a unit (e.g. **dodaje się ust. 5a**),\n",
    "* removal of a unit (e.g. **w art. 10 ust. 1 pkt 8 skreśla się**),\n",
    "* change of a unit (e.g. **art. 5 otrzymuje brzmienie**).\n",
    "\n",
    "## 2. Note that other types of changes, e.g. **po wyrazach \"na dofinansowanie\" dodaje się wyrazy \" , z zastrzeżeniem art. 21a,\"**, must not be included in the result."
   ]
  },
  {
   "cell_type": "markdown",
   "metadata": {},
   "source": [
    "### Spostrzeżenia\n",
    "* w kilku plikach zamiast cyfry `1` pojawiała się literka `l` (wygląda na to błąd OCR-a lub coś w tym rodzaju) -- przypadek ten został uwzgledniony,\n",
    "* w kilku plikach występują błędy opierające się na braku symbolu `§` lub literówkach takich jak `art. art. 10b` -- przypadki te nie zostały uwzględnione."
   ]
  },
  {
   "cell_type": "markdown",
   "metadata": {},
   "source": [
    "### Rodzaje operacji\n",
    "* **zmiania**: z reguły wyrażona jest frazą `otrzymuje brzmienie`, ale w jednym pliku pojawiła się też konstrukcja `nadać brzmienie`\n",
    "    ```\n",
    "    1) w art. 2:\n",
    "       a) w ust. 1:\n",
    "         - pkt 1 nadać brzmienie:\n",
    "             \"1) spółek handlowych (osobowych i kapitałowych, w tym również w\n",
    "               organizacji) oraz spółek cywilnych, z zastrzeżeniem pkt 2, a także\n",
    "               innych osób prawnych, z wyjątkiem Skarbu Państwa i Narodowego Banku\n",
    "               Polskiego,\",\n",
    "    ```\n",
    "* **usunięcie**: wyrażone frazą `uchyla się` lub `skreśla się`\n",
    "* **dodanie**: wyrażone frazą `dodaje się`\n",
    "\n",
    "W ustawach znajdują się również trudniejsze do zaklasfikowania fragmenty, z których kilka jest przedstawionych poniżej, jednak nie zostały one uwzględnione w tym zadaniu.\n",
    "```\n",
    "25) w art. 25:\n",
    "    a) dotychczasowa treść otrzymuje oznaczenie ust. 1 i brzmienie:\n",
    "      [...],\n",
    "```\n",
    "```\n",
    "15) w art. 31:\n",
    "    a) dotychczasową treść oznacza się jako ust. 1 i nadaje się jej brzmienie:\n",
    "      [...],\n",
    "```\n",
    "```\n",
    "    c) dotychczasowy ust. 3a oznacza się jako ust. 3b i nadaje mu brzmienie:\n",
    "          [...];\n",
    "```     "
   ]
  },
  {
   "cell_type": "markdown",
   "metadata": {},
   "source": [
    "### Co zostało uwzględnione, chociaż nie powinno?\n",
    "\n",
    "W związku z zastosowaniem dosyć ogólnego podejścia przedstawione rozwiązanie uwzględnia kilka nadmiarowych scenariuszy.\n",
    "\n",
    "#### Modyfikacje jednostek wewnątrz cytatów\n",
    "\n",
    "W korpusie występuje kilka przypadków, kiedy modyfikowany jest fragment dotyczący modyfikacji (choć odnoszę wrażenie, że nie jest to coś, co powinno mieć miejsce). Ze względu na fakt, że stosowane są wtedy zagnieżdżone cytaty (używające tego samego oznaczenia, `\"`, niezależnie od poziomu zagłębienia cytatu), próba wykluczenia tych przypadków wydała mi się dosyć skomplikowana i fragmenty te również zostały zliczone.\n",
    "\n",
    "    b) dodaje się pkt 3 i 4 w brzmieniu:\n",
    "         \"3) w art. 70b ust. 3 otrzymuje brzmienie:\n",
    "            \"3. Kolumna transportu sanitarnego podlega [...] uzyskuje osobowość prawną.\";\n",
    "\n",
    "    44) w art. 85 dodaje się pkt 13 w brzmieniu:\n",
    "      \"13) w art. 42 ust. 5 otrzymuje brzmienie:\n",
    "         \"5. Z dochodów uzyskanych [...] oraz zakupy inwestycyjne.\"\".                                        \n",
    "\n",
    "    11) w art. 48 pkt 3 otrzymuje brzmienie:\n",
    "          \"3) art. 53 otrzymuje brzmienie:\n",
    "           \"Art. 53. Księgi banków, wyciągi [...] oraz rejestrach publicznych.\" \";\n",
    "\n",
    "Analiza oznaczeń cytatów wydała mi się nadmiernie skomplikowana nie tylko ze względu na liberalne podejście do zagnieżdżania, ale również w związku z występowaniem błędów takich jak fragment przedstawiony poniżej (gdzie znak `\"` prawdopodobnie pojawił się w miejsce `-`).\n",
    "    \n",
    "    6) w art. 10:\n",
    "       a) w ust. 1:\n",
    "         \" w pkt 1 skreśla się wyraz \"również\",\n",
    "         \" w pkt 3 skreśla się wyrazy \"w tym również wykonywanie wolnego\n",
    "           zawodu, z wyjątkiem działalności określonej w pkt 2,\",\n",
    "         \" w pkt 6 na końcu dodaje się wyrazy \"z wyjątkiem składników\n",
    "           majątku związanych z działalnością gospodarczą,\",\n",
    "         \" w pkt 7 wyrazy \"sprzedaż i zamiana\" zastępuje się wyrazami\n",
    "           \"odpłatne zbycie\",\n",
    "         [...]\n",
    "    \n",
    "#### Modyfikacje poprawnych jednostek w obrębie niepoprawnych jednostek\n",
    "\n",
    "Z treści zadania zrozumiałam, że interesują nas fragmenty w formie:\n",
    "* `w X Y otrzymuje brzmienie`,\n",
    "* `w X skreśla się Y`,\n",
    "* `w X dodaje się Y`,\n",
    "\n",
    "gdzie zarówno `X`, jak i `Y` są [jednostkami redakcyjnymi](https://pl.wikipedia.org/wiki/Jednostka_redakcyjna_tekstu_prawnego). W związku z tym zależało mi na wykluczeniu fragmentów takich jak poniższy, w którym to dokonywana jest modyfikacja części załącznika (ani część, ani załącznik nie są jednostkami redakcyjnymi).\n",
    "\n",
    "    W ustawie z dnia 9 września 2000 r. o opłacie skarbowej (Dz.U. Nr 86, poz. 960 oraz z 2001 r. Nr 5, poz. 43) w załączniku w części IV skreśla się pkt 16. \n",
    "    \n",
    "Jednym z moich pomysłów było skupienie się na dopasowywaniu również części poprzedzającej `skreśla się` czy też `otrzymuje brzmienie`, jednak okazało się to dosyć problematyczne w kontekście wszelkiego rodzaju wyliczeń i zagnieżdżeń. Rozważałam użycie mechanizmu lookbehind, jednak zniechęcił mnie brak możliwości użycia wzorców o zmiennej długości. W poniższym cytacie dopasowanie takie musiałoby rozpoczynać się od `w art. 22` (lub nawet jeszcze wcześniej od wspomnienia ustawy) i chcielibyśmy uwzględnić `w art. 22 [...] ust. 1 otrzymuje brzmienie` oraz `w art. 22 [...] ust.3 otrzymuje brzmienie`. Nie ma jednak możliwości otrzymania kilku dopasowań zaczynających się od tego samego miejsca. W związku z tym zdecydowałam się na dopasowanie jedynie tej dodawanej lub usuwanej jednostki, niezależnie od tego, czy występuje w załączniku, czy też w jakimś artykule lub paragrafie.\n",
    "\n",
    "    2) w art. 22:\n",
    "       a) ust. 1 otrzymuje brzmienie:\n",
    "         \"1. Prawo do kwatery przysługuje żołnierzowi zawodowemu, o którym mowa w\n",
    "           art. 21 ust. 1, od dnia rozpoczęcia pełnienia zawodowej służby wojskowej\n",
    "           na podstawie kontraktu na pełnienie służby stałej.\",\n",
    "       b) uchyla się ust. 2,\n",
    "       c) ust. 3 otrzymuje brzmienie:\n",
    "         \"3. Żołnierzom zawodowym pełniącym zawodową służbę wojskową na podstawie\n",
    "           kontraktu na pełnienie służby stałej i innym osobom zajmującym\n",
    "           kierownicze stanowiska w Ministerstwie Obrony Narodowej można\n",
    "           przydzielić kwaterę funkcyjną na czas zajmowania określonego stanowiska\n",
    "           służbowego. Do kwater tych nie stosuje się norm powierzchni mieszkalnej.\n",
    "           Żołnierz otrzymujący kwaterę funkcyjną może zachować prawo do dotychczas\n",
    "           zajmowanej kwatery. Przepisy art. 36 stosuje się odpowiednio.\";"
   ]
  },
  {
   "cell_type": "code",
   "execution_count": 5,
   "metadata": {},
   "outputs": [],
   "source": [
    "def count_occurences(regex, path, flags):\n",
    "    with open(path) as file:\n",
    "        return len(re.findall(regex, file.read(), flags=flags))"
   ]
  },
  {
   "cell_type": "code",
   "execution_count": 6,
   "metadata": {},
   "outputs": [],
   "source": [
    "def get_distribution(pattern, files):\n",
    "    distribution = collections.defaultdict(int)\n",
    "    for year, files_for_year in files.items():\n",
    "        for path in files_for_year:\n",
    "            distribution[year] += count_occurences(pattern, path, re.MULTILINE)\n",
    "    return distribution"
   ]
  },
  {
   "cell_type": "code",
   "execution_count": 7,
   "metadata": {
    "scrolled": false
   },
   "outputs": [
    {
     "data": {
      "text/plain": [
       "Text(0.5, 1.0, 'Liczba modyfikacji jednostek na przestrzeni lat')"
      ]
     },
     "execution_count": 7,
     "metadata": {},
     "output_type": "execute_result"
    },
    {
     "data": {
      "image/png": "[encoded data removed]",
      "text/plain": [
       "<Figure size 1080x504 with 1 Axes>"
      ]
     },
     "metadata": {
      "needs_background": "light"
     },
     "output_type": "display_data"
    }
   ],
   "source": [
    "CHANGE_OF_UNIT = r'((art\\.\\s*[l\\d]+[a-żA-Ż]*(\\{\\d+\\})?(\\s*[-–—]\\s*[l\\d]+[a-żA-Ż]*(\\{\\d+\\})?)?'\\\n",
    "                     r'(\\s*,\\s*[l\\d]+[a-żA-Ż]*(\\{\\d+\\})?(\\s*[-–—]\\s*[l\\d]+[a-żA-Ż]*(\\{\\d+\\})?)?)*'\\\n",
    "                     r'(\\s*i\\s*[l\\d]+[a-żA-Ż]*(\\{\\d+\\})?(\\s*[-–—]\\s*[l\\d]+[a-żA-Ż]*(\\{\\d+\\})?)?)?)|'\\\n",
    "                 r'(§\\s*[l\\d]+[a-żA-Ż]*(\\{\\d+\\})?(\\s*[-–—]\\s*[l\\d]+[a-żA-Ż]*)?'\\\n",
    "                     r'(,\\s*(§)?\\s*[l\\d]+[a-żA-Ż]*(\\{\\d+\\})?(\\s*[-–—]\\s*[l\\d]+[a-żA-Ż]*(\\{\\d+\\})?))*'\\\n",
    "                     r'(\\s*i\\s*(§)?\\s*[l\\d]+[a-żA-Ż]*(\\{\\d+\\})?(\\s*[-–—]\\s*[l\\d]+[a-żA-Ż]*(\\{\\d+\\})?)?)?)|'\\\n",
    "                 r'(ust\\.\\s*[l\\d]+[a-żA-Ż]*(\\s*[-–—]\\s*[l\\d]+[a-żA-Ż]*)?'\\\n",
    "                     r'(,\\s*(ust\\.)?\\s*[l\\d]+[a-żA-Ż]*(\\s*[-–—]\\s*[l\\d]+[a-żA-Ż]*)?)*'\\\n",
    "                     r'(\\s*i\\s*(ust\\.)?\\s*[l\\d]+[a-żA-Ż]*(\\s*[-–—]\\s*[l\\d]+[a-żA-Ż]*)?)?)|'\\\n",
    "                 r'(pkt\\s*[l\\d]+[a-żA-Ż]*(\\s*[-–—]\\s*[l\\d]+[a-żA-Ż]*)?'\\\n",
    "                     r'(,\\s*(pkt)?\\s*[l\\d]+[a-żA-Ż]*(\\s*[-–—]\\s*[l\\d]+[a-żA-Ż]*)?)*'\\\n",
    "                     r'(\\s*i\\s*(pkt)*\\s*[l\\d]+[a-żA-Ż]*(\\s*[-–—]\\s*[l\\d]+[a-żA-Ż]*)?)?)|'\\\n",
    "                 r'(lit\\.\\s*[a-żA-Ż]+\\)?(\\s*[-–—]\\s*[a-żA-Ż]+\\)?)?'\\\n",
    "                     r'(,\\s*(lit\\.)?\\s*[a-żA-Ż]+\\)?(\\s*[-–—]\\s*[a-żA-Ż]+\\)?)?)*'\\\n",
    "                     r'(\\s*i\\s*(lit\\.)?\\s*[a-żA-Ż]+\\)?(\\s*[-–—]\\s*[a-żA-Ż]+\\)?)?)?))'\\\n",
    "                 r'\\s*((otrzymuj[eą])|nadać)\\s*brzmienie'\n",
    "\n",
    "change_distribution = get_distribution(CHANGE_OF_UNIT, files)\n",
    "        \n",
    "plt.figure(figsize=(15, 7))\n",
    "plt.bar(years, [change_distribution[year] for year in years])\n",
    "plt.title('Liczba modyfikacji jednostek na przestrzeni lat')        "
   ]
  },
  {
   "cell_type": "code",
   "execution_count": 8,
   "metadata": {},
   "outputs": [
    {
     "data": {
      "text/plain": [
       "Text(0.5, 1.0, 'Liczba usuniętych jednostek na przestrzeni lat')"
      ]
     },
     "execution_count": 8,
     "metadata": {},
     "output_type": "execute_result"
    },
    {
     "data": {
      "image/png": "[encoded data removed]",
      "text/plain": [
       "<Figure size 1080x504 with 1 Axes>"
      ]
     },
     "metadata": {
      "needs_background": "light"
     },
     "output_type": "display_data"
    }
   ],
   "source": [
    "units =  r'((art\\.\\s*[l\\d]+[a-żA-Ż]*(\\{\\d+\\})?(\\s*[-–—]\\s*[l\\d]+[a-żA-Ż]*(\\{\\d+\\})?)?'\\\n",
    "             r'(\\s*,\\s*[l\\d]+[a-żA-Ż]*(\\{\\d+\\})?(\\s*[-–—]\\s*[l\\d]+[a-żA-Ż]*(\\{\\d+\\})?)?)*'\\\n",
    "             r'(\\s*i\\s*[l\\d]+[a-żA-Ż]*(\\{\\d+\\})?(\\s*[-–—]\\s*[l\\d]+[a-żA-Ż]*(\\{\\d+\\})?)?)?)|'\\\n",
    "         r'(§\\s*[l\\d]+[a-żA-Ż]*(\\{\\d+\\})?(\\s*[-–—]\\s*[l\\d]+[a-żA-Ż]*)?'\\\n",
    "             r'(,\\s*(§)?\\s*[l\\d]+[a-żA-Ż]*(\\{\\d+\\})?(\\s*[-–—]\\s*[l\\d]+[a-żA-Ż]*(\\{\\d+\\})?))*'\\\n",
    "             r'(\\s*i\\s*(§)?\\s*[l\\d]+[a-żA-Ż]*(\\{\\d+\\})?(\\s*[-–—]\\s*[l\\d]+[a-żA-Ż]*(\\{\\d+\\})?)?)?)|'\\\n",
    "         r'(ust\\.\\s*[l\\d]+[a-żA-Ż]*(\\s*[-–—]\\s*[l\\d]+[a-żA-Ż]*)?'\\\n",
    "             r'(,\\s*(ust\\.)?\\s*[l\\d]+[a-żA-Ż]*(\\s*[-–—]\\s*[l\\d]+[a-żA-Ż]*)?)*'\\\n",
    "             r'(\\s*i\\s*(ust\\.)?\\s*[l\\d]+[a-żA-Ż]*(\\s*[-–—]\\s*[l\\d]+[a-żA-Ż]*)?)?)|'\\\n",
    "         r'(pkt\\s*[l\\d]+[a-żA-Ż]*(\\s*[-–—]\\s*[l\\d]+[a-żA-Ż]*)?'\\\n",
    "             r'(,\\s*(pkt)?\\s*[l\\d]+[a-żA-Ż]*(\\s*[-–—]\\s*[l\\d]+[a-żA-Ż]*)?)*'\\\n",
    "             r'(\\s*i\\s*(pkt)*\\s*[l\\d]+[a-żA-Ż]*(\\s*[-–—]\\s*[l\\d]+[a-żA-Ż]*)?)?)|'\\\n",
    "         r'(lit\\.\\s*[a-żA-Ż]+\\)?(\\s*[-–—]\\s*[a-żA-Ż]+\\)?)?'\\\n",
    "             r'(,\\s*(lit\\.)?\\s*[a-żA-Ż]+\\)?(\\s*[-–—]\\s*[a-żA-Ż]+\\)?)?)*'\\\n",
    "             r'(\\s*i\\s*(lit\\.)?\\s*[a-żA-Ż]+\\)?(\\s*[-–—]\\s*[a-żA-Ż]+\\)?)?)?))'\n",
    "\n",
    "removal = r'((uchyla|skreśla)\\s*(się)?)'\n",
    "\n",
    "REMOVAL_OF_UNIT = r'(' + removal + r'\\s*' + units + r')|(' + units + r'\\s*' + removal + r'[\\.;,]' + r')'\n",
    "\n",
    "removal_distribution = get_distribution(REMOVAL_OF_UNIT, files)\n",
    "        \n",
    "plt.figure(figsize=(15, 7))\n",
    "plt.bar(years, [removal_distribution[year] for year in years])\n",
    "plt.title('Liczba usuniętych jednostek na przestrzeni lat')        "
   ]
  },
  {
   "cell_type": "code",
   "execution_count": 9,
   "metadata": {},
   "outputs": [
    {
     "data": {
      "text/plain": [
       "Text(0.5, 1.0, 'Liczba dodanych jednostek na przestrzeni lat')"
      ]
     },
     "execution_count": 9,
     "metadata": {},
     "output_type": "execute_result"
    },
    {
     "data": {
      "image/png": "[encoded data removed]",
      "text/plain": [
       "<Figure size 1080x504 with 1 Axes>"
      ]
     },
     "metadata": {
      "needs_background": "light"
     },
     "output_type": "display_data"
    }
   ],
   "source": [
    "ADDITION_OF_UNIT = r'\\s*dodaje\\s*(się)?\\s*'\\\n",
    "                   r'((art\\.\\s*[l\\d]+[a-żA-Ż]*(\\{\\d+\\})?(\\s*[-–—]\\s*[l\\d]+[a-żA-Ż]*(\\{\\d+\\})?)?'\\\n",
    "                       r'(\\s*,\\s*[l\\d]+[a-żA-Ż]*(\\{\\d+\\})?(\\s*[-–—]\\s*[l\\d]+[a-żA-Ż]*(\\{\\d+\\})?)?)*'\\\n",
    "                       r'(\\s*i\\s*[l\\d]+[a-żA-Ż]*(\\{\\d+\\})?(\\s*[-–—]\\s*[l\\d]+[a-żA-Ż]*(\\{\\d+\\})?)?)?)|'\\\n",
    "                   r'(§\\s*[l\\d]+[a-żA-Ż]*(\\{\\d+\\})?(\\s*[-–—]\\s*[l\\d]+[a-żA-Ż]*)?'\\\n",
    "                       r'(,\\s*(§)?\\s*[l\\d]+[a-żA-Ż]*(\\{\\d+\\})?(\\s*[-–—]\\s*[l\\d]+[a-żA-Ż]*(\\{\\d+\\})?))*'\\\n",
    "                       r'(\\s*i\\s*(§)?\\s*[l\\d]+[a-żA-Ż]*(\\{\\d+\\})?(\\s*[-–—]\\s*[l\\d]+[a-żA-Ż]*(\\{\\d+\\})?)?)?)|'\\\n",
    "                   r'(ust\\.\\s*[l\\d]+[a-żA-Ż]*(\\s*[-–—]\\s*[l\\d]+[a-żA-Ż]*)?'\\\n",
    "                       r'(,\\s*(ust\\.)?\\s*[l\\d]+[a-żA-Ż]*(\\s*[-–—]\\s*[l\\d]+[a-żA-Ż]*)?)*'\\\n",
    "                       r'(\\s*i\\s*(ust\\.)?\\s*[l\\d]+[a-żA-Ż]*(\\s*[-–—]\\s*[l\\d]+[a-żA-Ż]*)?)?)|'\\\n",
    "                   r'(pkt\\s*[l\\d]+[a-żA-Ż]*(\\s*[-–—]\\s*[l\\d]+[a-żA-Ż]*)?'\\\n",
    "                       r'(,\\s*(pkt)?\\s*[l\\d]+[a-żA-Ż]*(\\s*[-–—]\\s*[l\\d]+[a-żA-Ż]*)?)*'\\\n",
    "                       r'(\\s*i\\s*(pkt)*\\s*[l\\d]+[a-żA-Ż]*(\\s*[-–—]\\s*[l\\d]+[a-żA-Ż]*)?)?)|'\\\n",
    "                   r'(lit\\.\\s*[a-żA-Ż]+\\)?(\\s*[-–—]\\s*[a-żA-Ż]+\\)?)?'\\\n",
    "                       r'(,\\s*(lit\\.)?\\s*[a-żA-Ż]+\\)?(\\s*[-–—]\\s*[a-żA-Ż]+\\)?)?)*'\\\n",
    "                       r'(\\s*i\\s*(lit\\.)?\\s*[a-żA-Ż]+\\)?(\\s*[-–—]\\s*[a-żA-Ż]+\\)?)?)?))'\n",
    "\n",
    "addition_distribution = get_distribution(ADDITION_OF_UNIT, files)\n",
    "        \n",
    "plt.figure(figsize=(15, 7))\n",
    "plt.bar(years, [addition_distribution[year] for year in years])\n",
    "plt.title('Liczba dodanych jednostek na przestrzeni lat')        "
   ]
  },
  {
   "cell_type": "markdown",
   "metadata": {},
   "source": [
    "## 3. Plot results from point 1 showing how the percentage of amendments of a given type changed in the consecutive years."
   ]
  },
  {
   "cell_type": "code",
   "execution_count": 10,
   "metadata": {},
   "outputs": [
    {
     "data": {
      "text/plain": [
       "Text(0.5, 1.0, 'Procentowy udział rodzajów zmian')"
      ]
     },
     "execution_count": 10,
     "metadata": {},
     "output_type": "execute_result"
    },
    {
     "data": {
      "image/png": "[encoded data removed]",
      "text/plain": [
       "<Figure size 1080x504 with 1 Axes>"
      ]
     },
     "metadata": {
      "needs_background": "light"
     },
     "output_type": "display_data"
    }
   ],
   "source": [
    "distribution = {year: change_distribution[year] + addition_distribution[year] + removal_distribution[year] for year in years}\n",
    "\n",
    "plt.figure(figsize=(15,7))\n",
    "\n",
    "x_axis = [int(year) for year in years]\n",
    "y_axis_changes = [100 * change_distribution[year] / distribution[year] for year in years]\n",
    "y_axis_removal = [100 * removal_distribution[year] / distribution[year] for year in years]\n",
    "y_axis_addition = [100 * addition_distribution[year] / distribution[year] for year in years]\n",
    "\n",
    "plt.bar(x_axis, y_axis_changes, label='Modyfikacje jednostek')\n",
    "plt.bar(x_axis, y_axis_removal, label='Usuwanie jednostek', bottom=y_axis_changes)\n",
    "plt.bar(x_axis, y_axis_addition, label='Dodawanie jednostek', bottom=[sum(y) for y in zip(y_axis_changes, y_axis_removal)])\n",
    "plt.xticks(x_axis)\n",
    "plt.legend()\n",
    "plt.title('Procentowy udział rodzajów zmian')"
   ]
  },
  {
   "cell_type": "markdown",
   "metadata": {},
   "source": [
    "## 4. Compute the total number of occurrences of the word ustawa in any inflectional form (*ustawa*, *ustawie*, *ustawę*, etc.) and all spelling forms (*ustawa*, *Ustawa*, *USTAWA*), excluding other words with the same prefix (e.g. *ustawić*)."
   ]
  },
  {
   "cell_type": "markdown",
   "metadata": {},
   "source": [
    "Oprócz standardowych wystąpień słowa `ustawa` w korpusie pojawiają się również nietypowe wystąpienia z literami oddzielonymi spacjami.\n",
    "```\n",
    "                                  U S T A W A\n",
    "                           z dnia 11 września 2003 r.\n",
    "                                        \n",
    "                    o służbie wojskowej żołnierzy zawodowych\n",
    "```"
   ]
  },
  {
   "cell_type": "code",
   "execution_count": 11,
   "metadata": {},
   "outputs": [
    {
     "name": "stdout",
     "output_type": "stream",
     "text": [
      "25233\n"
     ]
    }
   ],
   "source": [
    "pattern = r'(\\bustaw(a|y|ie|ę|ą|o|y|om|ami|ach)?\\b)|(\\s+u\\s+s\\s+t\\s+a\\s+w\\s+a\\s+)'\n",
    "count = 0\n",
    "for year, files_for_year in files.items():\n",
    "    for path in files_for_year:\n",
    "        count += count_occurences(pattern, path, flags=re.IGNORECASE | re.MULTILINE)\n",
    "print(count)        "
   ]
  },
  {
   "cell_type": "markdown",
   "metadata": {},
   "source": [
    "## 5. Compute the total number of occurrences of the same word (same conditions), followed by **z dnia** expression."
   ]
  },
  {
   "cell_type": "code",
   "execution_count": 12,
   "metadata": {},
   "outputs": [
    {
     "name": "stdout",
     "output_type": "stream",
     "text": [
      "8779\n"
     ]
    }
   ],
   "source": [
    "pattern = r'((\\bu\\s*s\\s*t\\s*a\\s*w\\s*(a|y|ie|ę|ą|o|y|om|ami|ach)?\\b)|(\\s+u\\s+s\\s+t\\s+a\\s+w\\s+a\\s+))(?=\\s*z\\s*dnia\\b)'\n",
    "count_with_suffix = 0\n",
    "for year, files_for_year in files.items():\n",
    "    for path in files_for_year:  \n",
    "        count_with_suffix += count_occurences(pattern, path, flags=re.IGNORECASE | re.MULTILINE)\n",
    "print(count_with_suffix)"
   ]
  },
  {
   "cell_type": "markdown",
   "metadata": {},
   "source": [
    "## 6. As above, but **not** followed by **z dnia** expression. Is the result correct (result 4 =? result 5 + result 6)?"
   ]
  },
  {
   "cell_type": "code",
   "execution_count": 13,
   "metadata": {},
   "outputs": [
    {
     "name": "stdout",
     "output_type": "stream",
     "text": [
      "16454\n"
     ]
    }
   ],
   "source": [
    "pattern = r'((\\bustaw(a|y|ie|ę|ą|o|y|om|ami|ach)?\\b)|(\\s+u\\s+s\\s+t\\s+a\\s+w\\s+a\\s+))(?!\\s*z\\s*dnia\\b)'\n",
    "count_without_suffix = 0\n",
    "for year, files_for_year in files.items():\n",
    "    for path in files_for_year:\n",
    "        count_without_suffix += count_occurences(pattern, path, flags=re.IGNORECASE | re.MULTILINE)\n",
    "print(count_without_suffix)"
   ]
  },
  {
   "cell_type": "code",
   "execution_count": 14,
   "metadata": {},
   "outputs": [
    {
     "data": {
      "text/plain": [
       "True"
      ]
     },
     "execution_count": 14,
     "metadata": {},
     "output_type": "execute_result"
    }
   ],
   "source": [
    "count == count_with_suffix + count_without_suffix"
   ]
  },
  {
   "cell_type": "markdown",
   "metadata": {},
   "source": [
    "## 7. Compute the total number of occurrences of the word **ustawa** in any inflectional form, excluding occurrences following **o zmianie** expression."
   ]
  },
  {
   "cell_type": "code",
   "execution_count": 15,
   "metadata": {},
   "outputs": [
    {
     "name": "stdout",
     "output_type": "stream",
     "text": [
      "25199\n"
     ]
    }
   ],
   "source": [
    "pattern = r'((\\bustaw(a|y|ie|ę|ą|o|y|om|ami|ach)?\\b)|(\\s+u\\s+s\\s+t\\s+a\\s+w\\s+a\\s+))(?!\\s*o\\s*zmianie\\b)'\n",
    "count_with_suffix_2 = 0\n",
    "for year, files_for_year in files.items():\n",
    "    for path in files_for_year:\n",
    "        count_with_suffix_2 += count_occurences(pattern, path, flags=re.IGNORECASE | re.MULTILINE)\n",
    "print(count_with_suffix_2)"
   ]
  },
  {
   "cell_type": "markdown",
   "metadata": {},
   "source": [
    "## 8. Plot results 4-7 using a bar chart."
   ]
  },
  {
   "cell_type": "code",
   "execution_count": 16,
   "metadata": {},
   "outputs": [
    {
     "data": {
      "image/png": "[encoded data removed]",
      "text/plain": [
       "<Figure size 1080x504 with 1 Axes>"
      ]
     },
     "metadata": {
      "needs_background": "light"
     },
     "output_type": "display_data"
    }
   ],
   "source": [
    "plt.figure(figsize=(15, 7))\n",
    "plt.bar('łącznie', count)\n",
    "plt.bar('\"z dnia\"', count_with_suffix)\n",
    "plt.bar('bez \"z dnia\"', count_without_suffix)\n",
    "plt.bar('bez \"o zmianie\"', count_with_suffix_2)\n",
    "plt.title('Występowanie słowa \"ustawa\"')\n",
    "plt.show()"
   ]
  }
 ],
 "metadata": {
  "kernelspec": {
   "display_name": "Python 3",
   "language": "python",
   "name": "python3"
  },
  "language_info": {
   "codemirror_mode": {
    "name": "ipython",
    "version": 3
   },
   "file_extension": ".py",
   "mimetype": "text/x-python",
   "name": "python",
   "nbconvert_exporter": "python",
   "pygments_lexer": "ipython3",
   "version": "3.6.9"
  }
 },
 "nbformat": 4,
 "nbformat_minor": 4
}
