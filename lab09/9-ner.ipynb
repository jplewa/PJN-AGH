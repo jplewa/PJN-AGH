{
 "cells": [
  {
   "cell_type": "markdown",
   "metadata": {
    "id": "89Syk6d5-i_j"
   },
   "source": [
    "# Lab9: Named entity recognition"
   ]
  },
  {
   "cell_type": "code",
   "execution_count": 218,
   "metadata": {},
   "outputs": [],
   "source": [
    "import collections\n",
    "import json\n",
    "import matplotlib.pyplot as plt\n",
    "import nltk\n",
    "import os\n",
    "import os.path\n",
    "import requests\n",
    "import time\n",
    "import tqdm\n",
    "import urllib.request"
   ]
  },
  {
   "cell_type": "code",
   "execution_count": 2,
   "metadata": {},
   "outputs": [
    {
     "name": "stderr",
     "output_type": "stream",
     "text": [
      "[nltk_data] Downloading package punkt to /home/julia/nltk_data...\n",
      "[nltk_data]   Package punkt is already up-to-date!\n"
     ]
    },
    {
     "data": {
      "text/plain": [
       "True"
      ]
     },
     "execution_count": 2,
     "metadata": {},
     "output_type": "execute_result"
    }
   ],
   "source": [
    "nltk.download('punkt')"
   ]
  },
  {
   "cell_type": "code",
   "execution_count": 3,
   "metadata": {},
   "outputs": [],
   "source": [
    "ACT_DIRECTORY = '../files'"
   ]
  },
  {
   "cell_type": "code",
   "execution_count": 4,
   "metadata": {},
   "outputs": [],
   "source": [
    "BASE_URL = 'http://ws.clarin-pl.eu/nlprest2/base'"
   ]
  },
  {
   "cell_type": "code",
   "execution_count": 168,
   "metadata": {},
   "outputs": [],
   "source": [
    "! mkdir -p ./ccl"
   ]
  },
  {
   "cell_type": "code",
   "execution_count": 169,
   "metadata": {},
   "outputs": [],
   "source": [
    "RESULT_DIRECTORY = './ccl'"
   ]
  },
  {
   "cell_type": "markdown",
   "metadata": {},
   "source": [
    "## Read the classification of [Named Entities](http://clarin-pl.eu/pliki/warsztaty/Wyklad3-inforex-liner2.pdf).\n",
    "## Read the [API of NER](http://nlp.pwr.wroc.pl/redmine/projects/nlprest2/wiki) in [Clarin](http://ws.clarin-pl.eu/ner.shtml).\n",
    "## Read the [documentation of CLL format](http://nlp.pwr.wroc.pl/redmine/projects/corpus2/wiki/CCL_format)."
   ]
  },
  {
   "cell_type": "markdown",
   "metadata": {},
   "source": [
    "## Sort bills according to their size and take top 50 (largest) bills."
   ]
  },
  {
   "cell_type": "markdown",
   "metadata": {},
   "source": [
    "Wczytane zistały wszystkie pliki."
   ]
  },
  {
   "cell_type": "code",
   "execution_count": 5,
   "metadata": {},
   "outputs": [],
   "source": [
    "all_acts = {}\n",
    "\n",
    "for root, _, files in os.walk(ACT_DIRECTORY):\n",
    "    for file_name in files:\n",
    "        path = os.path.join(root, file_name)\n",
    "        with open(path, encoding='utf-8') as file:\n",
    "            content = file.read()\n",
    "            all_acts[path] = content"
   ]
  },
  {
   "cell_type": "markdown",
   "metadata": {},
   "source": [
    "Z plików ustaw wybrane zostało 50 największych rozmiarowo."
   ]
  },
  {
   "cell_type": "code",
   "execution_count": 6,
   "metadata": {},
   "outputs": [],
   "source": [
    "top_acts = {\n",
    "    pair[0]: pair[1] \n",
    "    for pair \n",
    "    in sorted(all_acts.items(), key=lambda pair: -len(pair[1]))[:50]\n",
    "}"
   ]
  },
  {
   "cell_type": "markdown",
   "metadata": {},
   "source": [
    "## Use the lemmatized and sentence split documents (from ex. 5) to identify the expressions that consist of consecutive words starting with a capital letter (you will have to look at the inflected form of the word to check its capitalization) that do not occupy the first position in a sentence. \n",
    "E.g. the sentence:\n",
    "```\n",
    "Wczoraj w Krakowie miało miejsce spotaknie prezydentów Polski i Stanów Zjednoczonych.\n",
    "```\n",
    "should yield the following entries: `Kraków`, `Polska`, `Stan Zjednoczony`."
   ]
  },
  {
   "cell_type": "markdown",
   "metadata": {},
   "source": [
    "### Lematyzacja"
   ]
  },
  {
   "cell_type": "markdown",
   "metadata": {},
   "source": [
    "Przygotowana została funkcja pomocnicza potrzebna do lematyzacji tekstu. W instrukcji do piątego zadania nie znalazłam żadnej wzmianki na temat dzielenia tekstu na zdania, podobnie zresztą w swojej realizacji tego zadania. W związku z tym do realizacji tego zadania wykorzystana została biblioteka `nltk` i funkcje do tokenizacji zdań (`sent_tokenize`) oraz słów (`word_tokenize`). Po tokenizacji wykonana została lematyzacja z wykorzystaniem obrazku Dockerowego `djstrong/krnnt:1.0.0`. Jak wynika z [dokumentacji](https://github.com/kwrobel-nlp/krnnt), umożliwia on przekazywanie tekstu poddanego już wstępnej tokenizacji w formie JSON-a o następującym formacie:\n",
    "```json\n",
    "[\n",
    "  [\n",
    "    [[\"Lubię\",true],[\"placki\",true],[\".\",false]],\n",
    "    [[\"Ala\",true],[\"ma\",true],[\"kota\",true],[\".\",false]]\n",
    "  ],\n",
    "  [\n",
    "    [[\"Raz\",true],[\"dwa\",true],[\"trzy\",true],[\".\",false]]\n",
    "  ]\n",
    "]\n",
    "```\n",
    "Jako format wyjściowy wykorzystany został format `jsonl`, który również zachowuje podział na zdania (a format `json` z nieznanych mi powodów rzucał wyjątek)."
   ]
  },
  {
   "cell_type": "code",
   "execution_count": 7,
   "metadata": {},
   "outputs": [],
   "source": [
    "# Just in case - I was having some issues with the 40th file\n",
    "def retry_request(request):\n",
    "    try:\n",
    "        return request()\n",
    "    except Exception as e:\n",
    "        print('Error:', e)\n",
    "        return retry_request(request)\n",
    "\n",
    "\n",
    "def lemmatize(content):\n",
    "    sentences = nltk.tokenize.sent_tokenize(content, language='polish')\n",
    "    sentences = [nltk.tokenize.word_tokenize(sentence, language='polish') for sentence in sentences]\n",
    "    request = [[[word, True] for word in sentence] for sentence in sentences]\n",
    "    response = retry_request(\n",
    "        lambda: requests.post('http://localhost:9003?output_format=jsonl', json=[request]).json()\n",
    "    )\n",
    "        \n",
    "    lemmatized_content = []\n",
    "    for raw_sentence, lemmatized_sentence in zip(sentences, response):\n",
    "        resulting_sentence = []\n",
    "        for raw_token, lemmatized_token in zip(raw_sentence, lemmatized_sentence):\n",
    "            _, lemmatized_token, category = lemmatized_token\n",
    "            category = category.split(':')[0]\n",
    "            resulting_sentence += [(raw_token, lemmatized_token, category)]\n",
    "            \n",
    "        lemmatized_content += [resulting_sentence]\n",
    "    \n",
    "    return lemmatized_content"
   ]
  },
  {
   "cell_type": "code",
   "execution_count": 8,
   "metadata": {},
   "outputs": [
    {
     "data": {
      "text/plain": [
       "[[('Podania', 'podanie', 'subst'),\n",
       "  ('w', 'w', 'prep'),\n",
       "  ('sprawach', 'sprawa', 'subst'),\n",
       "  ('określonych', 'określić', 'ppas'),\n",
       "  ('w', 'w', 'prep'),\n",
       "  ('ustawie', 'ustawa', 'subst'),\n",
       "  ('osoby', 'osoba', 'subst'),\n",
       "  ('zamieszkałe', 'zamieszkały', 'adj'),\n",
       "  ('w', 'w', 'prep'),\n",
       "  ('Polsce', 'Polska', 'subst'),\n",
       "  ('składają', 'składać', 'fin'),\n",
       "  ('organom', 'organ', 'subst'),\n",
       "  (',', ',', 'interp'),\n",
       "  ('o', 'o', 'prep'),\n",
       "  ('których', 'który', 'adj'),\n",
       "  ('mowa', 'mowa', 'subst'),\n",
       "  ('w', 'w', 'prep'),\n",
       "  ('art.', 'artykuł', 'brev'),\n",
       "  ('8', '8', 'adj'),\n",
       "  ('.', '.', 'interp')],\n",
       " [('Jeżeli', 'jeżeli', 'comp'),\n",
       "  ('wnioskodawca', 'wnioskodawca', 'subst'),\n",
       "  ('zamieszkuje', 'zamieszkiwać', 'fin'),\n",
       "  ('za', 'za', 'prep'),\n",
       "  ('granicą', 'granica', 'subst'),\n",
       "  (',', ',', 'interp'),\n",
       "  ('podanie', 'podanie', 'subst'),\n",
       "  ('składa', 'składać', 'fin'),\n",
       "  ('się', 'się', 'qub'),\n",
       "  ('za', 'za', 'prep'),\n",
       "  ('pośrednictwem', 'pośrednictwo', 'subst'),\n",
       "  ('konsula', 'konsul', 'subst'),\n",
       "  ('Rzeczypospolitej', 'Rzeczpospolita', 'subst'),\n",
       "  ('Polskiej', 'polski', 'adj'),\n",
       "  ('.', '.', 'interp')]]"
      ]
     },
     "execution_count": 8,
     "metadata": {},
     "output_type": "execute_result"
    }
   ],
   "source": [
    "# sanity check\n",
    "lemmatize('Podania w sprawach określonych w ustawie osoby zamieszkałe w\\nPolsce składają organom, o których mowa w art. 8. Jeżeli\\nwnioskodawca zamieszkuje za granicą, podanie składa się za\\npośrednictwem konsula Rzeczypospolitej Polskiej.')"
   ]
  },
  {
   "cell_type": "markdown",
   "metadata": {},
   "source": [
    "Wykonana została lematyzacja wybranych 50 aktów prawnych."
   ]
  },
  {
   "cell_type": "code",
   "execution_count": 9,
   "metadata": {
    "scrolled": true
   },
   "outputs": [
    {
     "name": "stderr",
     "output_type": "stream",
     "text": [
      "100%|██████████| 50/50 [34:13<00:00, 41.07s/it] \n"
     ]
    }
   ],
   "source": [
    "lemmatized_acts = {}\n",
    "\n",
    "with tqdm.tqdm(total=len(top_acts), position=0, leave=True) as pbar:\n",
    "    for path, content in list(top_acts.items()):\n",
    "        lemmatized_acts[path] = lemmatize(content)\n",
    "        pbar.update()"
   ]
  },
  {
   "cell_type": "code",
   "execution_count": 51,
   "metadata": {
    "scrolled": true
   },
   "outputs": [
    {
     "data": {
      "text/plain": [
       "[[('Dz.U', 'dziennik ustaw', 'brev'), ('.', '.', 'interp')],\n",
       " [('z', 'z', 'prep'),\n",
       "  ('1998', '1998', 'adj'),\n",
       "  ('r.', 'rocznik', 'brev'),\n",
       "  ('Nr', 'numer', 'brev'),\n",
       "  ('106', '106', 'num'),\n",
       "  (',', ',', 'interp'),\n",
       "  ('poz.', 'poz.', 'subst'),\n",
       "  ('668', '668', 'num'),\n",
       "  ('USTAWA', 'ustawa', 'subst'),\n",
       "  ('z', 'z', 'prep'),\n",
       "  ('dnia', 'dzień', 'subst'),\n",
       "  ('24', '24', 'adj'),\n",
       "  ('lipca', 'lipiec', 'subst'),\n",
       "  ('1998', '1998', 'adj'),\n",
       "  ('r.', 'r.', 'subst'),\n",
       "  ('o', 'o', 'prep'),\n",
       "  ('zmianie', 'zmiana', 'subst'),\n",
       "  ('niektórych', 'niektóry', 'adj'),\n",
       "  ('ustaw', 'ustawa', 'subst'),\n",
       "  ('określających', 'określać', 'pact'),\n",
       "  ('kompetencje', 'kompetencja', 'subst'),\n",
       "  ('organów', 'organ', 'subst'),\n",
       "  ('administracji', 'administracja', 'subst'),\n",
       "  ('publicznej', 'publiczny', 'adj'),\n",
       "  ('-', '-', 'interp'),\n",
       "  ('w', 'w', 'prep'),\n",
       "  ('związku', 'związek', 'subst'),\n",
       "  ('z', 'z', 'prep'),\n",
       "  ('reformą', 'reforma', 'subst'),\n",
       "  ('ustrojową', 'ustrojowy', 'adj'),\n",
       "  ('państwa', 'państwo', 'subst'),\n",
       "  ('Art.', 'artykuł', 'brev'),\n",
       "  ('1', '1', 'adj'),\n",
       "  ('.', '.', 'interp')],\n",
       " [('W', 'w', 'prep'),\n",
       "  ('ustawie', 'ustawa', 'subst'),\n",
       "  ('z', 'z', 'prep'),\n",
       "  ('dnia', 'dzień', 'subst'),\n",
       "  ('24', '24', 'adj'),\n",
       "  ('marca', 'marzec', 'subst'),\n",
       "  ('1920', '1920', 'adj'),\n",
       "  ('r.', 'rok', 'brev'),\n",
       "  ('o', 'o', 'prep'),\n",
       "  ('nabywaniu', 'nabywać', 'ger'),\n",
       "  ('nieruchomości', 'nieruchomość', 'subst'),\n",
       "  ('przez', 'przez', 'prep'),\n",
       "  ('cudzoziemców', 'cudzoziemiec', 'subst'),\n",
       "  ('(', '(', 'interp'),\n",
       "  ('Dz.U', 'dziennik ustaw', 'brev'),\n",
       "  ('.', '.', 'interp')],\n",
       " [('z', 'z', 'prep'),\n",
       "  ('1996', '1996', 'adj'),\n",
       "  ('r.', 'rodzaj', 'brev'),\n",
       "  ('Nr', 'numer', 'brev'),\n",
       "  ('54', '54', 'num'),\n",
       "  (',', ',', 'interp'),\n",
       "  ('poz.', 'poz.', 'subst'),\n",
       "  ('245', '245', 'num'),\n",
       "  ('i', 'i', 'conj'),\n",
       "  ('z', 'z', 'prep'),\n",
       "  ('1997', '1997', 'adj'),\n",
       "  ('r.', 'R', 'brev'),\n",
       "  ('Nr', 'numer', 'brev'),\n",
       "  ('140', '140', 'num'),\n",
       "  (',', ',', 'interp'),\n",
       "  ('poz.', 'poz.', 'qub'),\n",
       "  ('939', '939', 'num'),\n",
       "  (')', ')', 'interp'),\n",
       "  ('wprowadza', 'wprowadzać', 'fin'),\n",
       "  ('się', 'się', 'qub'),\n",
       "  ('następujące', 'następujący', 'adj'),\n",
       "  ('zmiany', 'zmiana', 'subst'),\n",
       "  (':', ':', 'interp'),\n",
       "  ('1', '1', 'adj'),\n",
       "  (')', ')', 'interp'),\n",
       "  ('w', 'w', 'prep'),\n",
       "  ('art.', 'artykuł', 'brev'),\n",
       "  ('6', '6', 'num'),\n",
       "  ('ust', 'ustęp', 'brev'),\n",
       "  ('.', '.', 'interp')],\n",
       " [('2', '2', 'adj'),\n",
       "  ('otrzymuje', 'otrzymywać', 'fin'),\n",
       "  ('brzmienie', 'brzmienie', 'subst'),\n",
       "  (':', ':', 'interp'),\n",
       "  ('``', '``', 'xxx'),\n",
       "  ('2', '2', 'adj'),\n",
       "  ('.', '.', 'interp')]]"
      ]
     },
     "execution_count": 51,
     "metadata": {},
     "output_type": "execute_result"
    }
   ],
   "source": [
    "list(lemmatized_acts.values())[0][:5]"
   ]
  },
  {
   "cell_type": "markdown",
   "metadata": {},
   "source": [
    "### Zliczanie wyrażeń pisanych wielką literą\n",
    "\n",
    "Przygotowana została funkcja pomocnicza zliczająca wystąpienia wyrażeń, w których każde słowo pisane jest wielką literą. Wyrazy rozpoczynające zdania zostały pominięte z wyjątkiem sytuacji, gdzie słowo jest pisane wielką literą również w formie podstawowej (jest to widoczne chociażby przy imionach). "
   ]
  },
  {
   "cell_type": "code",
   "execution_count": 308,
   "metadata": {},
   "outputs": [],
   "source": [
    "def is_capitalized(word):\n",
    "    is_roman_numeral =  all([character in ['I', 'V', 'X', 'L', 'C', 'D', 'M'] for character in word])\n",
    "    if is_roman_numeral:\n",
    "        return False\n",
    "    for component in word.split():\n",
    "        if not component[:1].isupper():\n",
    "            return False\n",
    "    return True\n",
    "\n",
    "    \n",
    "def count_capitalized_expressions(texts, raw=False):\n",
    "    expressions = collections.defaultdict(int)\n",
    "    current_expression = None\n",
    "    for text in texts:\n",
    "        for sentence_index, sentence in enumerate(text):\n",
    "            for index, word in enumerate(sentence):\n",
    "                raw_token, lemmatized_token, category = word\n",
    "                \n",
    "                # only consider the first word in a sentence if it's capitalized in its basic format as well\n",
    "                if index == 0:\n",
    "                    if is_capitalized(lemmatized_token) and is_capitalized(raw_token):\n",
    "                        current_expression = raw_token if raw else lemmatized_token\n",
    "                    continue\n",
    "                    \n",
    "                # break the current streak when you ecounter interpuction\n",
    "                if category in ['interp', 'xxx', 'ign']:\n",
    "                    if current_expression is not None:\n",
    "                        if not raw:\n",
    "                            current_expression = current_expression.lower()\n",
    "                        expressions[current_expression] += 1\n",
    "                        current_expression = None\n",
    "                    continue\n",
    "                    \n",
    "                # begin new streak\n",
    "                if is_capitalized(raw_token):\n",
    "                    if current_expression is None:\n",
    "                        current_expression = raw_token if raw else lemmatized_token\n",
    "                    else:\n",
    "                        current_expression = f'{current_expression} {raw_token if raw else lemmatized_token}'\n",
    "                # break current streak if you encounter a lower-case word                         \n",
    "                elif current_expression is not None:\n",
    "                    if not raw:\n",
    "                        current_expression = current_expression.lower()\n",
    "                    expressions[current_expression] += 1\n",
    "                    current_expression = None\n",
    "\n",
    "            # clean up at the end of a sentence\n",
    "            if current_expression is not None:\n",
    "                if not raw:\n",
    "                    current_expression = current_expression.lower()\n",
    "                expressions[current_expression] += 1\n",
    "                current_expression = None\n",
    "    return expressions"
   ]
  },
  {
   "cell_type": "code",
   "execution_count": 309,
   "metadata": {},
   "outputs": [
    {
     "data": {
      "text/plain": [
       "defaultdict(int,\n",
       "            {'ala': 1,\n",
       "             'marlena': 2,\n",
       "             'rzeczpospolita polski': 2,\n",
       "             'anna maria wesołowska': 1})"
      ]
     },
     "execution_count": 309,
     "metadata": {},
     "output_type": "execute_result"
    }
   ],
   "source": [
    "# sanity check\n",
    "text = 'XI. Ala ma kota, a kot ma na imię Marlena.\\n\\\n",
    "        XII. Kraj Rzeczpospolita Polska.\\n\\\n",
    "        XIII. Rzeczpospolita Polska i test mikrofonu.\\n\\\n",
    "        \\n\\\n",
    "        XIV. Ulubioną Marleny zabawką jest pluszowa mysz Anna Maria Wesołowska'\n",
    "lemmatized_text = lemmatize(text)\n",
    "count_capitalized_expressions([lemmatized_text])"
   ]
  },
  {
   "cell_type": "markdown",
   "metadata": {},
   "source": [
    "### Testowy przykład\n",
    "Przeprowadzony został test na przykładzie podanym w treści zadania. Warto zauważyć, że wyrażenie `Stanów Zjednoczonych` zostało zlematyzowane jako `Stany` + `Zjednoczony`, chociaż instrukcja sugerowała wynik `Stan` + `Zjednoczony`."
   ]
  },
  {
   "cell_type": "code",
   "execution_count": 312,
   "metadata": {},
   "outputs": [
    {
     "data": {
      "text/plain": [
       "[[('Wczoraj', 'wczoraj', 'adv'),\n",
       "  ('w', 'w', 'prep'),\n",
       "  ('Krakowie', 'Kraków', 'subst'),\n",
       "  ('miało', 'mieć', 'praet'),\n",
       "  ('miejsce', 'miejsce', 'subst'),\n",
       "  ('spotaknie', 'spotaknie', 'ger'),\n",
       "  ('prezydentów', 'prezydent', 'subst'),\n",
       "  ('Polski', 'Polska', 'subst'),\n",
       "  ('i', 'i', 'conj'),\n",
       "  ('Stanów', 'Stany', 'subst'),\n",
       "  ('Zjednoczonych', 'Zjednoczony', 'adj'),\n",
       "  ('.', '.', 'interp')]]"
      ]
     },
     "execution_count": 312,
     "metadata": {},
     "output_type": "execute_result"
    }
   ],
   "source": [
    "test_sentence = 'Wczoraj w Krakowie miało miejsce spotaknie prezydentów Polski i Stanów Zjednoczonych.'\n",
    "lemmatized_test_sentence = lemmatize(test_sentence)\n",
    "lemmatized_test_sentence"
   ]
  },
  {
   "cell_type": "code",
   "execution_count": 313,
   "metadata": {},
   "outputs": [
    {
     "data": {
      "text/plain": [
       "defaultdict(int, {'kraków': 1, 'polska': 1, 'stany zjednoczony': 1})"
      ]
     },
     "execution_count": 313,
     "metadata": {},
     "output_type": "execute_result"
    }
   ],
   "source": [
    "count_capitalized_expressions([lemmatized_test_sentence])"
   ]
  },
  {
   "cell_type": "markdown",
   "metadata": {},
   "source": [
    "## Compute the frequency of each identified expression and print 50 results with the largest number of occurrences."
   ]
  },
  {
   "cell_type": "markdown",
   "metadata": {},
   "source": [
    "Z pliku `2003_1187.txt` usunięte zostały linijki zawierające metadane.\n",
    "```\n",
    "<!-/*\n",
    "Font Definitions */\n",
    " @font-face\n",
    "\t{font-family:Helvetica;\n",
    "\tpanose-1:2 11 5 4 2 2 2 2 2 4;}\n",
    "@font-face\n",
    "\t{font-family:Courier;\n",
    "\tpanose-1:2 7 4 9 2 2 5 2 4 4;}\n",
    "(...)\n",
    " /* Page Definitions */\n",
    " @page WordSection1\n",
    "\t{size:595.3pt 841.9pt;\n",
    "\tmargin:2.0cm 3.0cm 2.0cm 3.0cm;}\n",
    "div.WordSection1\n",
    "\t{page:WordSection1;}\n",
    " /* List Definitions */\n",
    " ol\n",
    "\t{margin-bottom:0cm;}\n",
    "ul\n",
    "\t{margin-bottom:0cm;}\n",
    "-->\n",
    "```"
   ]
  },
  {
   "cell_type": "markdown",
   "metadata": {},
   "source": [
    "Wypisane zostało 50 najbardziej popularnych wyrażeń."
   ]
  },
  {
   "cell_type": "code",
   "execution_count": 314,
   "metadata": {
    "scrolled": false
   },
   "outputs": [
    {
     "data": {
      "text/plain": [
       "[('numer', 7469),\n",
       " ('minister', 1273),\n",
       " ('dziennik ustaw', 1044),\n",
       " ('artykuł', 1016),\n",
       " ('rzeczpospolita polski', 758),\n",
       " ('kodeks', 524),\n",
       " ('przepis', 475),\n",
       " ('policja', 462),\n",
       " ('skarb państwo', 393),\n",
       " ('prawo', 355),\n",
       " ('organ', 348),\n",
       " ('kasa chory', 302),\n",
       " ('unia europejski', 293),\n",
       " ('straż graniczny', 288),\n",
       " ('minister obrona narodowy', 284),\n",
       " ('rada minister', 280),\n",
       " ('minister sprawiedliwość', 277),\n",
       " ('państwowy komisja wyborczy', 267),\n",
       " ('państwowy straż pożarny', 240),\n",
       " ('minister finanse', 239),\n",
       " ('zakład', 230),\n",
       " ('fundusz', 205),\n",
       " ('rada', 191),\n",
       " ('zmiana', 183),\n",
       " ('prezes urząd', 183),\n",
       " ('dzieje ustawa', 178),\n",
       " ('urząd patentowy', 172),\n",
       " ('azot', 162),\n",
       " ('dzieje u', 161),\n",
       " ('rozdział', 152),\n",
       " ('pozostały', 146),\n",
       " ('urząd ochrona państwo', 141),\n",
       " ('tkanina', 141),\n",
       " ('prezes rada minister', 134),\n",
       " ('inspektor nadzór wewnętrzny', 115),\n",
       " ('efta', 114),\n",
       " ('komisja', 111),\n",
       " ('nawóz', 110),\n",
       " ('biuro', 109),\n",
       " ('administracja', 107),\n",
       " ('europejski obszar gospodarczy', 106),\n",
       " ('p2o5', 106),\n",
       " ('europejski porozumienie', 105),\n",
       " ('wolny handel', 105),\n",
       " ('zamawiać', 103),\n",
       " ('dzieje u numer', 102),\n",
       " ('minister sprawa wewnętrzny', 101),\n",
       " ('art', 95),\n",
       " ('urząd', 95),\n",
       " ('ordynacja', 95)]"
      ]
     },
     "execution_count": 314,
     "metadata": {},
     "output_type": "execute_result"
    }
   ],
   "source": [
    "results = count_capitalized_expressions(lemmatized_acts.values())\n",
    "sorted(results.items(), key=lambda pair: -pair[1])[:50]"
   ]
  },
  {
   "cell_type": "markdown",
   "metadata": {},
   "source": [
    "## Apply the NER algorithm to identify the named entities in the same set of documents (not lemmatized) using the `n82` model."
   ]
  },
  {
   "cell_type": "markdown",
   "metadata": {},
   "source": [
    "Przygotowane zostały odpowiednie funkcje pomocnicze inspirowane [dokumentacją](http://nlp.pwr.wroc.pl/redmine/projects/nlprest2/wiki/Python)."
   ]
  },
  {
   "cell_type": "code",
   "execution_count": 315,
   "metadata": {},
   "outputs": [],
   "source": [
    "lpmn = 'any2txt|wcrft2|liner2({\"model\":\"n82\"})'\n",
    "email_address = 'plewa@student.agh.edu.pl'"
   ]
  },
  {
   "cell_type": "code",
   "execution_count": 316,
   "metadata": {},
   "outputs": [],
   "source": [
    "def start_task(text):\n",
    "    data = {'lpmn': lpmn, 'user': email_address, 'text': text}\n",
    "    return requests.post(f'{BASE_URL}/startTask/', json=data).text\n",
    "\n",
    "\n",
    "def monitor_task(task_id, max_attempts=5):     \n",
    "    status = 'QUEUE'\n",
    "    value = None\n",
    "    \n",
    "    attempts = 0\n",
    "    while status != 'DONE' and attempts < max_attempts:\n",
    "        response = requests.get(f'{BASE_URL}/getStatus/{task_id}').json()\n",
    "        status = response['status']\n",
    "        if status == 'DONE':\n",
    "            value = response['value']\n",
    "        attempts += 1\n",
    "        time.sleep(0.5)\n",
    "\n",
    "    if status == 'ERROR':\n",
    "        print(f'Error: {result}')\n",
    "\n",
    "    return value"
   ]
  },
  {
   "cell_type": "markdown",
   "metadata": {},
   "source": [
    "Zlecone zostały zadania dla wybranych pięćdziesięciu plików."
   ]
  },
  {
   "cell_type": "code",
   "execution_count": 317,
   "metadata": {
    "scrolled": true
   },
   "outputs": [
    {
     "name": "stderr",
     "output_type": "stream",
     "text": [
      "100%|██████████| 50/50 [01:29<00:00,  1.78s/it]\n"
     ]
    }
   ],
   "source": [
    "task_ids = [\n",
    "    start_task(text)\n",
    "    for _, text\n",
    "    in tqdm.tqdm(top_acts.items())\n",
    "]"
   ]
  },
  {
   "cell_type": "markdown",
   "metadata": {},
   "source": [
    "Wyniki zostały pobrane po odczekaniu koniecznej ilości czasu."
   ]
  },
  {
   "cell_type": "code",
   "execution_count": 318,
   "metadata": {},
   "outputs": [
    {
     "name": "stderr",
     "output_type": "stream",
     "text": [
      "100%|██████████| 50/50 [11:54<00:00, 14.28s/it]  \n"
     ]
    }
   ],
   "source": [
    "done_tasks = set()\n",
    "\n",
    "with tqdm.tqdm(total=len(top_acts), position=0, leave=True) as pbar:\n",
    "    while pbar.n < pbar.total:\n",
    "        for path, task_id in list(zip(top_acts.keys(), task_ids)):    \n",
    "            if task_id in done_tasks:\n",
    "                continue\n",
    "\n",
    "            result = monitor_task(task_id)\n",
    "\n",
    "            if result == None:\n",
    "                continue\n",
    "\n",
    "            file_id = result[0]['fileID']\n",
    "            response = requests.get(f'{BASE_URL}/download{file_id}')\n",
    "\n",
    "            file_name = os.path.relpath(path, ACT_DIRECTORY)\n",
    "            file_name = file_name.replace('.txt', '.ccl')\n",
    "\n",
    "            with open(f'{RESULT_DIRECTORY}/{file_name}', 'w', encoding='utf-8') as file:\n",
    "                file.write(response.content.decode('utf-8'))\n",
    "\n",
    "            done_tasks.add(task_id)\n",
    "            \n",
    "            pbar.update()"
   ]
  },
  {
   "cell_type": "markdown",
   "metadata": {},
   "source": [
    "## Plot the frequency (histogram) of the coarse-grained classes (e.g. `nam_adj`, `nam_eve`, `nam_fac`)."
   ]
  },
  {
   "cell_type": "markdown",
   "metadata": {},
   "source": [
    "Do parsowania plików CCL/XML Wykorzystany został kod z [tutoriala](https://github.com/CLARIN-PL/NlpRest2-Tutorials/blob/master/part3.ipynb) dostępnego w internecie."
   ]
  },
  {
   "cell_type": "code",
   "execution_count": 319,
   "metadata": {},
   "outputs": [],
   "source": [
    "class Token:\n",
    "    \n",
    "    def __init__(self, orth, base, ctag):\n",
    "        self.orth = orth\n",
    "        self.base = base\n",
    "        self.ctag = ctag\n",
    "        \n",
    "    def get_orth(self):\n",
    "        return self.orth\n",
    "    \n",
    "    def get_base(self):\n",
    "        return self.base\n",
    "    \n",
    "    def get_ctag(self):\n",
    "        return self.ctag\n",
    "        \n",
    "\n",
    "class Annotation:\n",
    "    \n",
    "    def __init__(self, category, tokens):\n",
    "        self.category = category\n",
    "        self.tokens = tokens\n",
    "        self.lemma = self.get_orth()\n",
    "        \n",
    "    def get_category(self):\n",
    "        return self.category\n",
    "    \n",
    "    def get_tokens(self):\n",
    "        return self.tokens\n",
    "    \n",
    "    def get_orth(self):\n",
    "        return \" \".join([token.get_orth() for token in self.tokens])\n",
    "\n",
    "    def get_base(self):\n",
    "        return \" \".join([token.get_base() for token in self.tokens])\n",
    "    \n",
    "    def get_ctag(self):\n",
    "        return \" \".join([token.get_ctag() for token in self.tokens])\n",
    "    \n",
    "    def get_space(self):\n",
    "        return \" \".join([\"True\" for token in self.tokens])\n",
    "    \n",
    "    def get_lemma(self):\n",
    "        return self.lemma\n",
    "    \n",
    "    def set_lemma(self, lemma):\n",
    "        self.lemma = lemma\n",
    "\n",
    "    def __str__(self):\n",
    "        return \"[%s] %s\" % (self.get_category(), self.get_lemma())"
   ]
  },
  {
   "cell_type": "code",
   "execution_count": 320,
   "metadata": {},
   "outputs": [],
   "source": [
    "import xml.etree.ElementTree as ET\n",
    "\n",
    "def sentence_ner(sentence):\n",
    "    channels = {}\n",
    "    for token in sentence.iter(\"tok\"):\n",
    "        orth = token.find(\"./orth\").text\n",
    "        base = token.find(\"./lex/base\").text\n",
    "        ctag = token.find(\"./lex/ctag\").text\n",
    "        t = Token(orth, base, ctag)\n",
    "        for channel in token.iter(\"ann\"):            \n",
    "            index = int(channel.text)\n",
    "            chan = channel.attrib[\"chan\"]            \n",
    "            if index > 0:                \n",
    "                channels.setdefault(chan, {}) \\\n",
    "                        .setdefault(index, []) \\\n",
    "                        .append(t)\n",
    "                \n",
    "    annotations = []\n",
    "    for (ann_type, group) in channels.items():\n",
    "        for tokens in group.values():            \n",
    "            an = Annotation(ann_type, tokens)\n",
    "            annotations.append(an)\n",
    "    \n",
    "    return annotations\n",
    "                \n",
    "\n",
    "def ccl_ner(ccl):\n",
    "    tree = ET.parse(ccl)\n",
    "    annotations = []\n",
    "    for sentence in tree.iter(\"sentence\"):\n",
    "        annotations += sentence_ner(sentence)\n",
    "    return annotations"
   ]
  },
  {
   "cell_type": "markdown",
   "metadata": {},
   "source": [
    "Po odpowiednim przeparsowaniu plików zliczone zostały wystąpienia klas głównych jednostek identyfikacyjnych."
   ]
  },
  {
   "cell_type": "code",
   "execution_count": 321,
   "metadata": {},
   "outputs": [
    {
     "name": "stderr",
     "output_type": "stream",
     "text": [
      "100%|██████████| 50/50 [00:50<00:00,  1.01s/it]\n"
     ]
    }
   ],
   "source": [
    "coarse_grained_class_counter = collections.defaultdict(int)\n",
    "\n",
    "for file in tqdm.tqdm([file for file in os.listdir(RESULT_DIRECTORY) if file.endswith('.ccl')]):\n",
    "    annotations = ccl_ner(os.path.join(RESULT_DIRECTORY, file))\n",
    "    for annotation in annotations:\n",
    "        category = annotation.get_category()\n",
    "        coarse_category = '_'.join(category.split('_')[:2])\n",
    "        coarse_grained_class_counter[coarse_category] += 1"
   ]
  },
  {
   "cell_type": "markdown",
   "metadata": {},
   "source": [
    "Wyniki zostały przedstawione na wykresie.\n",
    "\n"
   ]
  },
  {
   "cell_type": "code",
   "execution_count": 322,
   "metadata": {},
   "outputs": [
    {
     "data": {
      "text/plain": [
       "<BarContainer object of 9 artists>"
      ]
     },
     "execution_count": 322,
     "metadata": {},
     "output_type": "execute_result"
    },
    {
     "data": {
      "image/png": "[encoded data removed]",
      "text/plain": [
       "<Figure size 1080x576 with 1 Axes>"
      ]
     },
     "metadata": {
      "needs_background": "light"
     },
     "output_type": "display_data"
    }
   ],
   "source": [
    "plt.figure(figsize=(15, 8))\n",
    "plt.bar(coarse_grained_class_counter.keys(), coarse_grained_class_counter.values())"
   ]
  },
  {
   "cell_type": "markdown",
   "metadata": {},
   "source": [
    "## Display 10 most frequent Named Entities for each coarse-grained type."
   ]
  },
  {
   "cell_type": "code",
   "execution_count": 323,
   "metadata": {},
   "outputs": [
    {
     "name": "stderr",
     "output_type": "stream",
     "text": [
      "100%|██████████| 50/50 [00:50<00:00,  1.01s/it]\n"
     ]
    }
   ],
   "source": [
    "coarse_grained_class_entity_counter = collections.defaultdict(lambda: collections.defaultdict(int))\n",
    "\n",
    "for file in tqdm.tqdm([file for file in os.listdir(RESULT_DIRECTORY) if file.endswith('.ccl')]):\n",
    "    annotations = ccl_ner(os.path.join(RESULT_DIRECTORY, file))\n",
    "    for annotation in annotations:\n",
    "        category = annotation.get_category()\n",
    "        entity = annotation.get_lemma()\n",
    "        coarse_category = '_'.join(category.split('_')[:2])\n",
    "        coarse_grained_class_entity_counter[coarse_category][entity] += 1"
   ]
  },
  {
   "cell_type": "code",
   "execution_count": 324,
   "metadata": {},
   "outputs": [
    {
     "name": "stdout",
     "output_type": "stream",
     "text": [
      "-----------------------------------------------------------\n",
      "| nam_org | 295  | Skarbu Państwa                         |\n",
      "| nam_org | 291  | Unii Europejskiej                      |\n",
      "| nam_org | 261  | Rada Ministrów                         |\n",
      "| nam_org | 239  | Państwowej Straży Pożarnej             |\n",
      "| nam_org | 233  | Minister Sprawiedliwości               |\n",
      "| nam_org | 213  | Prezes Rady Ministrów                  |\n",
      "| nam_org | 162  | Minister Obrony Narodowej              |\n",
      "| nam_org | 152  | Minister Finansów                      |\n",
      "| nam_org | 137  | Urzędu Ochrony Państwa                 |\n",
      "| nam_org | 114  | EFTA                                   |\n",
      "-----------------------------------------------------------\n",
      "| nam_loc | 812  | Rzeczypospolitej Polskiej              |\n",
      "| nam_loc | 52   | Rzeczpospolita Polska                  |\n",
      "| nam_loc | 51   | Polsce                                 |\n",
      "| nam_loc | 39   | Rzeczpospolitą Polską                  |\n",
      "| nam_loc | 32   | Warszawie                              |\n",
      "| nam_loc | 20   | Warszawy                               |\n",
      "| nam_loc | 19   | Nawóz                                  |\n",
      "| nam_loc | 16   | Warszawa                               |\n",
      "| nam_loc | 11   | Konfederacji Szwajcarskiej             |\n",
      "| nam_loc | 10   | Polską                                 |\n",
      "-----------------------------------------------------------\n",
      "| nam_pro | 1534 | Dz . U .                               |\n",
      "| nam_pro | 80   | Dz . Urz                               |\n",
      "| nam_pro | 71   | Ordynacja podatkowa                    |\n",
      "| nam_pro | 64   | Kodeksu karnego                        |\n",
      "| nam_pro | 62   | Monitor Polski                         |\n",
      "| nam_pro | 51   | Spraw Wewnętrznych                     |\n",
      "| nam_pro | 35   | Kodeksu postępowania administracyjnego |\n",
      "| nam_pro | 33   | Kodeksu postępowania karnego           |\n",
      "| nam_pro | 32   | Kodeksu postępowania cywilnego         |\n",
      "| nam_pro | 26   | Natura 2000                            |\n",
      "-----------------------------------------------------------\n",
      "| nam_liv | 51   | Kasa Chorych                           |\n",
      "| nam_liv | 36   | Straży Granicznej                      |\n",
      "| nam_liv | 24   | Sił Zbrojnych                          |\n",
      "| nam_liv | 21   | Kasy Chorych                           |\n",
      "| nam_liv | 18   | Art                                    |\n",
      "| nam_liv | 18   | Pana                                   |\n",
      "| nam_liv | 16   | Gospodarki Żywnościowej                |\n",
      "| nam_liv | 15   | Krajowego Depozytu                     |\n",
      "| nam_liv | 15   | Pan                                    |\n",
      "| nam_liv | 13   | Kas Chorych                            |\n",
      "-----------------------------------------------------------\n",
      "| nam_oth | 293  | zł                                     |\n",
      "| nam_oth | 89   | euro                                   |\n",
      "| nam_oth | 41   | złotych                                |\n",
      "| nam_oth | 29   | EURO                                   |\n",
      "| nam_oth | 14   | PESEL                                  |\n",
      "| nam_oth | 12   | BAT                                    |\n",
      "| nam_oth | 10   | PLN                                    |\n",
      "| nam_oth | 8    | Minister Edukacji Narodowej            |\n",
      "| nam_oth | 7    | NIP                                    |\n",
      "| nam_oth | 7    | ECU                                    |\n",
      "-----------------------------------------------------------\n",
      "| nam_adj | 116  | polski                                 |\n",
      "| nam_adj | 30   | polskiej                               |\n",
      "| nam_adj | 16   | polskiego                              |\n",
      "| nam_adj | 16   | Wojewódzki                             |\n",
      "| nam_adj | 10   | polskim                                |\n",
      "| nam_adj | 9    | polska                                 |\n",
      "| nam_adj | 7    | polskich                               |\n",
      "| nam_adj | 7    | polską                                 |\n",
      "| nam_adj | 7    | mazowiecki                             |\n",
      "| nam_adj | 5    | europejskiej                           |\n",
      "-----------------------------------------------------------\n",
      "| nam_fac | 49   | Inspektor Nadzoru Wewnętrznego         |\n",
      "| nam_fac | 16   | Komendant Główny                       |\n",
      "| nam_fac | 11   | Straży Granicznej                      |\n",
      "| nam_fac | 8    | Mangan                                 |\n",
      "| nam_fac | 6    | Obrony Narodowej                       |\n",
      "| nam_fac | 5    | Krajowego Rejestru Karnego             |\n",
      "| nam_fac | 4    | Zasłużonego Dawcy Przeszczepu          |\n",
      "| nam_fac | 4    | Molibden                               |\n",
      "| nam_fac | 4    | Zatoki Gdańskiej                       |\n",
      "| nam_fac | 3    | Mn                                     |\n",
      "-----------------------------------------------------------\n",
      "| nam_eve | 5    | EURO                                   |\n",
      "| nam_eve | 2    | Monitorze Sądowym                      |\n",
      "| nam_eve | 2    | Przejściowego Planu Krajowego          |\n",
      "| nam_eve | 1    | wojny polegli                          |\n",
      "| nam_eve | 1    | Maksymalnym Limitem Pozostałości       |\n",
      "| nam_eve | 1    | Maksymalne Limity Pozostałości         |\n",
      "| nam_eve | 1    | Maksymalnego Limitu Pozostałości       |\n",
      "| nam_eve | 1    | Maksymalnych Limitów Pozostałości      |\n",
      "| nam_eve | 1    | Narodowego Rachunku Zdrowia            |\n",
      "| nam_eve | 1    | Narodowy Bank Polski                   |\n",
      "-----------------------------------------------------------\n",
      "| nam_num | 13   | 1                                      |\n",
      "| nam_num | 1    | 112                                    |\n",
      "-----------------------------------------------------------\n"
     ]
    }
   ],
   "source": [
    "for category, entities in coarse_grained_class_entity_counter.items():\n",
    "    print('-----------------------------------------------------------')\n",
    "    for entity, count in list(sorted(entities.items(), key=lambda pair: -pair[1]))[:10]:\n",
    "        print(f'| {category} | {str(count).ljust(4)} | {entity.ljust(38)} |')\n",
    "print('-----------------------------------------------------------')"
   ]
  },
  {
   "cell_type": "markdown",
   "metadata": {},
   "source": [
    "## Display 50 most frequent Named Entities including their count and fine-grained type."
   ]
  },
  {
   "cell_type": "code",
   "execution_count": 325,
   "metadata": {},
   "outputs": [
    {
     "name": "stderr",
     "output_type": "stream",
     "text": [
      "100%|██████████| 50/50 [00:51<00:00,  1.03s/it]\n"
     ]
    }
   ],
   "source": [
    "fine_grained_class_entity_counter = collections.defaultdict(int)\n",
    "\n",
    "for file in tqdm.tqdm([file for file in os.listdir(RESULT_DIRECTORY) if file.endswith('.ccl')]):\n",
    "    annotations = ccl_ner(os.path.join(RESULT_DIRECTORY, file))\n",
    "    for annotation in annotations:\n",
    "        category = annotation.get_category()\n",
    "        entity = annotation.get_lemma()\n",
    "        fine_grained_class_entity_counter[(entity, category)] += 1"
   ]
  },
  {
   "cell_type": "code",
   "execution_count": 326,
   "metadata": {},
   "outputs": [
    {
     "name": "stdout",
     "output_type": "stream",
     "text": [
      "-----------------------------------------------------------------------------------\n",
      "| 1534 | Dz . U .                                        | nam_pro_media_periodic |\n",
      "| 812  | Rzeczypospolitej Polskiej                       | nam_loc_gpe_country    |\n",
      "| 295  | Skarbu Państwa                                  | nam_org_institution    |\n",
      "| 293  | zł                                              | nam_oth_currency       |\n",
      "| 290  | Unii Europejskiej                               | nam_org_organization   |\n",
      "| 261  | Rada Ministrów                                  | nam_org_institution    |\n",
      "| 233  | Minister Sprawiedliwości                        | nam_org_institution    |\n",
      "| 213  | Prezes Rady Ministrów                           | nam_org_institution    |\n",
      "| 205  | Państwowej Straży Pożarnej                      | nam_org_organization   |\n",
      "| 162  | Minister Obrony Narodowej                       | nam_org_institution    |\n",
      "| 152  | Minister Finansów                               | nam_org_institution    |\n",
      "| 137  | Urzędu Ochrony Państwa                          | nam_org_institution    |\n",
      "| 116  | polski                                          | nam_adj_country        |\n",
      "| 114  | EFTA                                            | nam_org_organization   |\n",
      "| 110  | Państwowa Komisja Wyborcza                      | nam_org_institution    |\n",
      "| 104  | Urząd Patentowy                                 | nam_org_institution    |\n",
      "| 103  | Europejskiego Porozumienia o Wolnym Handlu      | nam_org_company        |\n",
      "| 98   | Skarb Państwa                                   | nam_org_institution    |\n",
      "| 98   | Państwowej Komisji Wyborczej                    | nam_org_institution    |\n",
      "| 89   | euro                                            | nam_oth_currency       |\n",
      "| 88   | Prezes Urzędu                                   | nam_org_institution    |\n",
      "| 81   | OKRĘG                                           | nam_org_organization   |\n",
      "| 81   | Okręgowej Komisji Wyborczej                     | nam_org_institution    |\n",
      "| 80   | Dz . Urz                                        | nam_pro_media_periodic |\n",
      "| 73   | Sejmu                                           | nam_org_institution    |\n",
      "| 71   | Ordynacja podatkowa                             | nam_pro_title_document |\n",
      "| 71   | Prezesa Urzędu                                  | nam_org_institution    |\n",
      "| 70   | BSWSG                                           | nam_org_organization   |\n",
      "| 64   | Kodeksu karnego                                 | nam_pro_title_document |\n",
      "| 63   | Ministrem Obrony Narodowej                      | nam_org_institution    |\n",
      "| 62   | Monitor Polski                                  | nam_pro_title          |\n",
      "| 59   | Minister Zdrowia i Opieki Społecznej            | nam_org_institution    |\n",
      "| 57   | Wspólnoty Europejskiej                          | nam_org_organization   |\n",
      "| 55   | WE                                              | nam_org_organization   |\n",
      "| 53   | Komisji Europejskiej                            | nam_org_institution    |\n",
      "| 53   | Sąd Najwyższy                                   | nam_org_institution    |\n",
      "| 52   | Rzeczpospolita Polska                           | nam_loc_gpe_country    |\n",
      "| 52   | Ministra Sprawiedliwości                        | nam_org_institution    |\n",
      "| 51   | Polsce                                          | nam_loc_gpe_country    |\n",
      "| 51   | Dzienniku Urzędowym Rzeczypospolitej Polskiej \" | nam_org_institution    |\n",
      "| 51   | Sądu Najwyższego                                | nam_org_institution    |\n",
      "| 51   | Kasa Chorych                                    | nam_liv_person         |\n",
      "| 51   | Spraw Wewnętrznych                              | nam_pro_title          |\n",
      "| 49   | Senatu                                          | nam_org_institution    |\n",
      "| 49   | Inspektor Nadzoru Wewnętrznego                  | nam_fac_goe            |\n",
      "| 48   | Biura Ochrony Rządu                             | nam_org_institution    |\n",
      "| 47   | Prezes Urzędu Regulacji Energetyki              | nam_org_institution    |\n",
      "| 44   | Straży Granicznej                               | nam_org_institution    |\n",
      "| 44   | Państwową Komisję Wyborczą                      | nam_org_institution    |\n",
      "| 43   | Inspekcji Weterynaryjnej                        | nam_org_institution    |\n",
      "-----------------------------------------------------------------------------------\n"
     ]
    }
   ],
   "source": [
    "sorted_fine_grained_class_entity_counter = sorted(\n",
    "    fine_grained_class_entity_counter.items(),\n",
    "    key=lambda pair: -pair[1]\n",
    ")\n",
    "\n",
    "print('-----------------------------------------------------------------------------------')\n",
    "for entity, count in sorted_fine_grained_class_entity_counter[:50]:\n",
    "    entity, category = entity\n",
    "    print(f'| {str(count).ljust(4)} | {entity.ljust(48)}| {category.ljust(22)} |')\n",
    "print('-----------------------------------------------------------------------------------')"
   ]
  },
  {
   "cell_type": "markdown",
   "metadata": {},
   "source": [
    "## Answer the following questions:\n",
    "### Which of the method (counting expressions with capital letters vs. NER) worked better for the task concerned with identification of the proper names?\n",
    "\n",
    "Jak chodzi o *nazwy własne*, to żadna z metod tak naprawdę nie sprawdza się idealnie.\n",
    "\n",
    "Za [PWN](https://sjp.pwn.pl/poradnia/haslo/Co-jest-nazwa-wlasna;1083.html):\n",
    "\n",
    "> Nazwa własna to indywidualna nazwa osoby, rzeczy, instytucji, organizacji lub miejsca, pisana wielką literą. Świadectwem jej indywidualnego charakteru jest to, że nazw własnych zazwyczaj nie używa się w liczbie mnogiej. Wielką literą piszemy jednak też inne wyrazy, które nazwami własnymi nie są, np. nazwy mieszkańców krajów, krain i kontynentów (ale nie miast). Z drugiej strony zaś pewne nazwy indywidualne i nie używane w liczbie mnogiej nie są uważane za własne, np. nazwy walut. Spośród wymienionych przez Pana przykładów nazwą własną jest tylko Cobol. Jest on także skrótowcem (od angielskiego Common Business Oriented Language) – jedno drugiemu nie przeczy. \n",
    "\n",
    "Metoda oparta o słowa pisane wielką literą uwzględnia wspomnianych wyżej mieszkańców krajów, krain i kontynentów oraz wszelkie inne wyrażenia pisane wielką literą. Nie uwzględnia za to chociażby słowa `cobol` pisanego małą literą - nie wiem, czy jest to poprawny zapis, skoro wielka litera jest warunkiem koniecznym dla nazwy własnej, jednakże taką właśnie pisownię zastosowała osoba zadająca pytanie na stronie PWN.\n",
    "\n",
    "NER uwzlędnia za to m.in. nazwy walut (`euro`, `zł`), które nie są uznawane za nazwy własne. Choć przeznaczona jest na nie osobna kategoria (`nam_oth`), to jest ona poświęcona również nazwom technologii, więc `cobol` potencjalnie wpadłby w ten sam kubełek. W powyższych wynikach można zauważyć, że również `Minister Edukacji Narodowej` został uznany za właśnie `nam_oth`. NER wykrywa również wyrażenia liczbowe (`nam_num`) czy przymiotniki pochodzące od nazw własnych (`num_adj`), które również nie stanowią nazw własnych.\n",
    "\n",
    "Jeśli chodzi o szeroko pojęte *jednostki identyfikacyjne*, a nie tylko *nazwy własne*, to analiza działania tych dwóch metod znajduje się w poniższych punktach.\n",
    "\n",
    "### What are the drawbacks of the method based on capital letters?\n",
    "Oryginalnie wśród wyników pojawiło się sporo metadanych z jednego z plików, jednak po usunięciu tego fragmentu z odpowiedniej ustawy, problem zniknął. Później wśród wyników zauważyłam liczne rzymskie cyfry, co skłoniło mnie do dalszych modyfikacji swojej metody. Ostatecznie wśród wyników można zauważyć wiele sensownych jednostek takich jak `rzeczpospolita polski` czy `unia europejski`, jednak występuje też wiele pospolitych słów takich jak `tkanina` czy `pozostały`. Być może są one częścią jakichś nazw właśnych, z których istnienia nie zdaję sobie sprawy, jednak zauważyłam, że część problemów wynika z występowania w tekście różnego rodzaju tabel.\n",
    "\n",
    "Przykład z `2000_700.txt`:\n",
    "\n",
    "```\n",
    "                                              Załącznik Nr 1 do ustawy\n",
    "                                                z dnia ...........\n",
    "            WYKAZ ROCZNYCH STAWEK AMORTYZACYJNYCH\n",
    "            Symbol                                     \n",
    "Poz Staw     KŚT         Nazwa środków trwałych     Powiąz\n",
    "y-   ka     (grupa                                  anie z\n",
    "cja   %      lub                                     KRŚTpodgrupa\n",
    "91\n",
    "             lub\n",
    "           rodzaj)\n",
    "           \n",
    "[...]\n",
    "           \n",
    "              70     Kolejowy tabor szynowy           70\n",
    "                     naziemny\n",
    "              71     Kolejowy tabor szynowy           71\n",
    "                     podziemny\n",
    "              72     Tramwajowy tabor szynowy         72\n",
    "              73     Pozostały tabor szynowy          73\n",
    "                     naziemny\n",
    "```\n",
    "\n",
    "Komórki takich tabel nie są rozpoznawane przez `nltk` jako osobne zdania (co przedstawione jest we fragmencie kodu poniżej), więc występujące w nich słowa pisane wielką literą zostały zliczone jako jednostki identyfikacyjne."
   ]
  },
  {
   "cell_type": "code",
   "execution_count": 327,
   "metadata": {},
   "outputs": [
    {
     "data": {
      "text/plain": [
       "['              70     Kolejowy tabor szynowy           70\\n                     naziemny\\n              71     Kolejowy tabor szynowy           71\\n                     podziemny\\n              72     Tramwajowy tabor szynowy         72\\n              73     Pozostały tabor szynowy          73\\n                     naziemny']"
      ]
     },
     "execution_count": 327,
     "metadata": {},
     "output_type": "execute_result"
    }
   ],
   "source": [
    "table = '\\\n",
    "              70     Kolejowy tabor szynowy           70\\n\\\n",
    "                     naziemny\\n\\\n",
    "              71     Kolejowy tabor szynowy           71\\n\\\n",
    "                     podziemny\\n\\\n",
    "              72     Tramwajowy tabor szynowy         72\\n\\\n",
    "              73     Pozostały tabor szynowy          73\\n\\\n",
    "                     naziemny'\n",
    "\n",
    "nltk.tokenize.sent_tokenize(table, language='polish')"
   ]
  },
  {
   "cell_type": "markdown",
   "metadata": {},
   "source": [
    "Oprócz najbardziej popularnych rezultatów spojrzałam również na najdłuższe nazwy jednostek identyfikacyjnych. Wśród tych wyników znalazło się wiele fragmentów tekstu pisanych w całości wielkimi literami. Choć zastanawiałam się nad tym, jak można by to obejść, to niestety nie przyszło mi do głowy nic mądrego."
   ]
  },
  {
   "cell_type": "code",
   "execution_count": 328,
   "metadata": {},
   "outputs": [
    {
     "data": {
      "text/plain": [
       "[('ROZMIARÓW DZIAŁÓW SPECJALNYCH PRODUKCJI ROLNEJ ORAZ NORM SZACUNKOWYCH DOCHODU ROCZNEGO Jednostka Norma Lp Rodzaje',\n",
       "  1),\n",
       " ('Senatu Rzeczypospolitej Polskiej WYKAZ OKRĘGÓW WYBORCZYCH DO SEJMU RZECZYPOSPOLITEJ POLSKIEJ OKRĘG WYBORCZY NR',\n",
       "  1),\n",
       " ('Senatu Rzeczypospolitej Polskiej WYKAZ OKRĘGÓW WYBORCZYCH DO SENATU RZECZYPOSPOLITEJ POLSKIEJ Województwo',\n",
       "  1),\n",
       " ('Rządowe Centrum Informatyczne Powszechnego Elektronicznego Systemu Ewidencji Ludności',\n",
       "  1),\n",
       " ('Zarządem Głównym Związku Ochotniczych Straży Pożarnych Rzeczypospolitej Polskiej',\n",
       "  1),\n",
       " ('WYTWÓRCZO-USŁUGOWEJ OBJĘTEJ OPODATKOWANIEM W FORMIE KARTY PODATKOWEJ Objaśnienie',\n",
       "  1),\n",
       " ('Przewodniczący Komisji Krajowej Niezależnego Samorządnego Związku Zawodowego',\n",
       "  1),\n",
       " ('WYKAZ WYROBÓW AKCYZOWYCH OBJĘTYCH OBOWIĄZKIEM OZNACZANIA ZNAKAMI AKCYZY Poz',\n",
       "  1),\n",
       " ('WYKAZ ROCZNYCH STAWEK AMORTYZACYJNYCH Symbol KŚT Powiązanie Pozycja Stawka',\n",
       "  1),\n",
       " ('Prezesa Zarządu Państwowego Funduszu Rehabilitacji Osób Niepełnosprawnych',\n",
       "  1)]"
      ]
     },
     "execution_count": 328,
     "metadata": {},
     "output_type": "execute_result"
    }
   ],
   "source": [
    "results = count_capitalized_expressions(lemmatized_acts.values(), raw=True)\n",
    "sorted(results.items(), key=lambda pair: -len(pair[0]))[:10]"
   ]
  },
  {
   "cell_type": "markdown",
   "metadata": {},
   "source": [
    "Kolejnym problemem związanym z tą metodą jest pomijanie nazw zawierających spójniki lub interpunkcję (jak `Ministerstwo Rodziny i Polityki Społecznej` czy `Ministerstwo Rozwoju, Pracy i Technologii`). Choć pominięcie spójników i interpunkcji nie byłoby trudne w realizacji, to prowadziłoby do sytuacji, kiedy to fragmenty takie jak `Minister Rolnictwa, Minister Edukacji oraz Minister Rozwoju, Pracy i Technologii wchodzą do baru...` stawałyby się nagle jedną jednostką identyfikacyjną. Rozróżnienie tych przypadków wydaje się dosyć trudne i raczej nie byłoby możliwe bez głębszej analizy tekstu.\n",
    "\n",
    "Mogę sobie również wyobrazić, że występują pewnie sytuacje, kiedy to jednostki identyfikacyjne pojawiają się w tekście bez rozdzielenia interpunkcją czy spójnikami. Mam tutaj na myśli zdania typu `Minister Pracy Senat odwiedził` - choć szyk jest oczywiście nieco niezręczny, to ilustruje fakt, że bez rozróżnienia części zdania i zależności między nimi nasz algorytm nie jest do końca niezawodny w takich sytuacjach.\n",
    "\n",
    "Kolejny problem wynikałby z występowania nazw własnych na początku zdań (`Minister Rolnictwa powiedział, że...`) - choć starałam się mu zaradzić poprzez analizę formy podstawowej słowa oraz formy odmienionej, to jest możliwe, że i tak wystąpiły sytuacje, gdzie okazało się to problemem (choć niewątpliwie pomogło w przypadku chociażby imion czy nazw państw).\n",
    "\n",
    "Metoda ta nie pozwala również na znalezienie jednostek identyfikacyjnych takich jak nazwy walut czy przymiotniki pochodzące od nazw własnych (podczas gdy NER znajduje również takie wyrażenia)."
   ]
  },
  {
   "cell_type": "markdown",
   "metadata": {},
   "source": [
    "### What are the drawbacks of the method based on NER?\n",
    "Wyniki metody NER pod pewnymi względami prezentują się znacznie lepiej, jednak można wśród nich zauważyć sporo duplikatów (jak `Państwowa Komisja Wyborcza` i `Państwowej Komisji Wyborczej` czy `Rzeczypospolitej Polskiej` i `Rzeczpospolita Polska`). W przypadku naiwnej metody wykonana została tokenizacja i lematyzacja, która pozwoliła na uzgodnienie formy słów na starcie.\n",
    "\n",
    "Podobnie jak w przypadku naiwnej metody zerknęłam również na najdłuższe wyniki. Choć sytuacja wygląda nieco lepiej niż w przypadku pierwszej metody, to i tak można zauważyć kilka problematycznych wyników:\n",
    "* `CHARAKTERYSTYKA DZIAŁALNOŚCI USŁUGOWEJ I WYTWÓRCZO - USŁUGOWEJ OBJĘTEJ OPODATKOWANIEM W FORMIE KARTY PODATKOWEJ Objaśnienie`,\n",
    "* `+ - - - - - - - - - - - - - - - - - - - + - - - - - - - - - - - - - - - - - - - + - - - - - - - - - - - - - - - - - - - - - - - - - +`,\n",
    "* `Główny Inspektor Ochrony Środowiska przekazuje Prezesowi Głównego Urzędu Ceł , Komendantowi Głównemu Straży Granicznej `."
   ]
  },
  {
   "cell_type": "code",
   "execution_count": 339,
   "metadata": {},
   "outputs": [
    {
     "name": "stdout",
     "output_type": "stream",
     "text": [
      "| 2 | ustawy z dnia 11 kwietnia 1997 r . o ujawnieniu pracy lub służby w organach bezpieczeństwa państwa lub współpracy z nimi w latach 1944 - 1990 osób pełniących funkcje publiczne | nam_pro_title_document |\n",
      "| 2 | ustawie z dnia 28 grudnia 1989 r . o szczególnych zasadach rozwiązywania z pracownikami stosunków pracy z przyczyn dotyczących zakładu pracy oraz o zmianie niektórych ustaw | nam_pro_title_document |\n",
      "| 1 | ustawy z dnia 29 lipca 2005 r . o ofercie publicznej i warunkach wprowadzania instrumentów finansowych do zorganizowanego systemu obrotu oraz o spółkach publicznych | nam_pro_title_document |\n",
      "| 1 | ustawie z dnia 25 maja 2001 r . o przebudowie i modernizacji technicznej oraz finansowaniu Sił Zbrojnych Rzeczypospolitej Polskiej w latach 2001 - 2006 | nam_pro_title_document |\n",
      "| 1 | ustawy o ujawnieniu pracy lub służby w organach bezpieczeństwa państwa lub współpracy z nimi w latach 1944 - 1990 osób pełniących funkcje publiczne | nam_pro_title_document |\n",
      "| 1 | rozporządzeniu Rady ( WE ) nr 2073 / 2004 z dnia 16 listopada 2004 r . w sprawie współpracy administracyjnej w dziedzinie podatków akcyzowych | nam_pro_title_document |\n",
      "| 1 | ustawa z dnia 7 października 1991 r . o rewaloryzacji emerytur i rent , o zasadach ustalania emerytur i rent oraz o zmianie niektórych ustaw | nam_pro_title_document |\n",
      "| 1 | + - - - - - - - - - - - - - - - - - - - + - - - - - - - - - - - - - - - - - - - + - - - - - - - - - - - - - - - - - - - - - - - - - + | nam_oth_tech |\n",
      "| 2 | ustawy z dnia 9 listopada 2000 r . o zmianie ustawy o podatku dochodowym od osób fizycznych oraz o zmianie niektórych innych ustaw | nam_pro_title_document |\n",
      "| 1 | ustawie z dnia 20 czerwca 1992 r . o uprawnieniach do bezpłatnych i ulgowych przejazdów środkami publicznego transportu zbiorowego | nam_pro_title_document |\n",
      "| 1 | ustawie z dnia 26 października 1995 r . o niektórych formach popierania budownictwa mieszkaniowego oraz o zmianie niektórych ustaw | nam_pro_title_document |\n",
      "| 1 | Polityki Socjalnej , Zdrowia i Opieki Społecznej , Edukacji Narodowej , Spraw Wewnętrznych i Administracji oraz Obrony Narodowej | nam_org_institution |\n",
      "| 1 | CHARAKTERYSTYKA DZIAŁALNOŚCI USŁUGOWEJ I WYTWÓRCZO - USŁUGOWEJ OBJĘTEJ OPODATKOWANIEM W FORMIE KARTY PODATKOWEJ Objaśnienie | nam_org_institution |\n",
      "| 1 | ustawie z dnia 29 czerwca 2007 r . o zmianie ustawy o świadczeniach opieki zdrowotnej finansowanych ze środków publicznych | nam_pro_title_document |\n",
      "| 1 | ustawie z dnia 18 grudnia 1976 r . o ubezpieczeniu społecznym osób prowadzących działalność gospodarczą oraz ich rodzin | nam_pro_title_document |\n",
      "| 1 | Kodeksu postępowania administracyjnego oraz przepisy ustawy z dnia 11 maja 1995 r . o Naczelnym Sądzie Administracyjnym | nam_pro_title_document |\n",
      "| 1 | Główny Inspektor Ochrony Środowiska przekazuje Prezesowi Głównego Urzędu Ceł , Komendantowi Głównemu Straży Granicznej | nam_org_institution |\n",
      "| 1 | ustawy z dnia 18 grudnia 1976 r . o ubezpieczeniu społecznym osób prowadzących działalność gospodarczą oraz ich rodzin | nam_pro_title_document |\n",
      "| 1 | ustawie z dnia 11 grudnia 1997 r . o administrowaniu obrotem z zagranicą towarami i usługami oraz o obrocie specjalnym | nam_pro_title_document |\n",
      "| 1 | ustawie z dnia 17 grudnia 1997 r . o zmianie ustawy - Prawo o ustroju sądów powszechnych oraz niektórych innych ustaw | nam_pro_title_document |\n"
     ]
    }
   ],
   "source": [
    "sorted_by_length_fine_grained_class_entity_counter = sorted(\n",
    "    fine_grained_class_entity_counter.items(),\n",
    "    key=lambda pair: -len(pair[0][0])\n",
    ")\n",
    "\n",
    "for entity, count in sorted_by_length_fine_grained_class_entity_counter[:20]:\n",
    "    entity, category = entity\n",
    "    print(f'| {str(count)} | {entity} | {category} |')"
   ]
  },
  {
   "cell_type": "markdown",
   "metadata": {},
   "source": [
    "Jak to bywa z modelami, za wadę uznałabym w pewnym sensie również fakt, że jest to czarna skrzynka, która wypluwa *jakieś* wyniki uznawane za statystycznie dobre i nie mamy za bardzo informacji odnośnie tego, dlaczego wyniki są takie, a nie inne.\n",
    "\n",
    "Jak chodzi o wygodę działania, to obydwie metody potrzebowały trochę czasu, żeby skończyć działanie - w przypadku metody naiwnej czasochłonna była tokenizacja i lematyzacja, a w przypadku NER ewaluacja modelu, jednak nie był to jakiś dramatycznie długi czas. W przypadku NER bardziej problematyczna okazała się niezbędna ilość pamięci - jakoś koło 40 dokumentu padał mi kontener, więc ostatecznie byłam zmuszona zamknąć wszystkie okna i karty poza Jupyterem oraz terminalem."
   ]
  },
  {
   "cell_type": "markdown",
   "metadata": {},
   "source": [
    "### Which of the coarse-grained NER groups has the best and which has the worst results? Try to justify this observation.\n",
    "\n",
    "Zgodnie z [podlinkowaną prezentacją](http://clarin-pl.eu/pliki/warsztaty/Wyklad3-inforex-liner2.pdf#page=4&zoom=auto,-256,540):\n",
    "\n",
    "> Wśród jednostek identyfikacyjnych wyróżniamy dziewięć głównych grup:\n",
    "\n",
    "> * `nam_adj` – przymiotniki pochodzące od nazw własnych,\n",
    "> * `nam_eve` – wydarzenia organizowane lub ustalone przez ludzi oraz klęski żywiołowe,\n",
    "> * `nam_fac` – konstrukcje (budowle, budynki, pomniki) stworzone przez ludzi,\n",
    "> * `nam_liv` – istoty żywe (ludzie, postacie, zwierzęta),\n",
    "> * `nam_loc` – toponimy (lokalizacje, jednostki geopolityczne i geograficzne),\n",
    "> * `nam_num` – wyrażenia liczbowe,\n",
    "> * `nam_org` – organizacje, instytucje, zespoły, zorganizowane grupy itd.\n",
    "> * `nam_oth` – nazwy technologii, walut, adres e-mail, strony www, itd.\n",
    "> * `nam_pro` – chrematonimy (wytwory ludzkie).\n",
    "\n",
    "\n",
    "Analiza uzyskanych wyników:\n",
    "\n",
    "* `nam_org` - wyniki są sensowne. Nie mam jedynie pewności co do rezultatów takich jak `Prezes Rady Ministrów` czy `Minister Finansów` - nie wiem, czy tego typu stanowiska powiązane z organizacjami zaliczają się do \"organizacji, instytucji, zespołów, zorganizowanych grup itd.\",\n",
    "* `nam_loc` - wśród wyników znajduje się wiele duplikatów w różnych formach (3x `Rzeczpospolita Polska`, 2x `Polska`, 3x `Warszawa`). W tej kategorii znalazł się również `Nawóz`, który raczej nie za bardzo tutaj pasuje (zakładałabym, że znalazł się tutaj z powodu jakiejś tabelki),\n",
    "* `nam_pro` - po szybkim riserczu odnoszę wrażenie, że definicja chrematonimów jest kwestią dosyć skomplikowaną, jednak wyniki takie jak `Spraw Wewnętrznych` czy `Kodeksu postępowania cywilnego` nie wydają się mieć wiele wspólnego z \"wyrobem rąk ludzkich\",\n",
    "* `nam_liv`- wśród wyników znalazły się wyrażenia takie jak `Straż Graniczna` czy `Siły Zbrojne` - nie są to konkretne istoty żywe, ale faktycznie są to wyrażenia opisujące w jakiś sposób ludzi. Wyniku uwzględniają również dwie formy słowa `Pan`. Mniej sensowne są wyniki takie jak `Art` (chyba że zostało uznane za imię?), `Gospodarka Żywnościowa` czy `Krajowy Depozyt`,\n",
    "* `nam_oth` - w tej kategorii widzę głównie nazwy walut i skrótowce. O ile te pierwsze faktycznie powinny się tutaj znajdnować, to nigdzie nie znalazłam informacji, żeby skrótowce takie jak `PESEL` czy `NIP` były przypisane do tej kategorii. Najwięcej wątpliwości budzi `Minister Edukacji Narodowej`. Nie widzę też żadnych wyników związanych z nazwami technologii czy stronami WWW.\n",
    "* `nam_adj` - wśród wyników faktycznie znajdują się przymiotniki od nazw własnych takich jak `Polska` czy `Europa`. Niepoprawny wydaje się wynik `Wojewódzki`.\n",
    "* `nam_fac` - żaden z wyników nie wydaje się pasować do definicji \"konstrukcje (budowle, budynki, pomniki) stworzone przez ludzi\". Część wyrażeń opisuje ludzi (`Inspektor Nadzoru Wewnętrznego`, `Komendant Główny`), część pierwiastki chemiczne (`Molibden`, `Mn`), a część lokalizacje geograficzne (`Zatoka Gdańska`). Jedynie `Krajowy Rejestr Karny` i `Straż Graniczną` być może można by uznać za odpowiadające definicji, gdybyśmy uznali te określenia za odniesienia do siedzib tych organizacji,\n",
    "* `nam_eve` - poprawnym wynikiem najprawdopoodobniej jest `EURO` (w odniesieniu do EURO 2012). Nie widzę związku z nazwą kateorii w przypadku wyników takich jak `Maksymalne Limity Pozostałości`, `Monitor Sądowy` czy `Narodowy Bank Polski`, jednak największą zagadką pozostaje fraza `wojny polegli` - faktycznie odnosi się ono do jakiegoś wydarzenia czy klęski, jednak nie jest jednostką identyfikacyjną,\n",
    "* `nam_num` - jedyne dwa wyniki to `1` i `112`, co faktycznie ma sens.\n",
    "\n",
    "Podsumowując, za najlepsze uznałabym wyniki `nam_org`, `nam_loc`, `nam_adj`, `nam_num`, a za najsłabsze `nam_pro`, `nam_fac`, `nam_eve`, `nam_liv`. Nie mam pewności co do skrótowców w przypadku klasy `nam_oth`.\n",
    "\n",
    "### Do you think NER is sufficient for identifying different occurrences of the same entity (i.e. consider \"USA\" and \"Stany Zjednoczone\" and \"Stany Zjednoczone Ameryki Północnej\") ? If not, can you suggest an algorithm or a tool that would be able to group such names together?\n",
    "NER nie radzi sobie nawet z odmianą przez przypadki, więc ciężko tutaj mówić o synonimach. Najbardziej pomocny byłaby pewnie Słowosieć.\n",
    "\n",
    "### Can you think of a real world problem that would benefit the most from application of Named Entity Recognition algorithm?\n",
    "* Targetowanie artykułów czy reklam na podstawie wyszukiwanych fraz, przeglądanych stron czy pisanych wiadomości. \n",
    "* Komunikacja z Siri czy innym asystentem (asystentką) głosową o żeńskim imieniu i komunikaty typu `Zadzwoń do Johna Smitha` czy `Jak dojechać MPK do Galerii Krakowskiej?`.\n",
    "* Wykrywanie zagrożeń w przypadku haseł typu `ISIS`."
   ]
  },
  {
   "cell_type": "code",
   "execution_count": null,
   "metadata": {},
   "outputs": [],
   "source": []
  }
 ],
 "metadata": {
  "accelerator": "TPU",
  "colab": {
   "collapsed_sections": [],
   "name": "8-classification.ipynb",
   "provenance": []
  },
  "kernelspec": {
   "display_name": "Python 3",
   "language": "python",
   "name": "python3"
  },
  "language_info": {
   "codemirror_mode": {
    "name": "ipython",
    "version": 3
   },
   "file_extension": ".py",
   "mimetype": "text/x-python",
   "name": "python",
   "nbconvert_exporter": "python",
   "pygments_lexer": "ipython3",
   "version": "3.6.9"
  },
  "widgets": {
   "application/vnd.jupyter.widget-state+json": {
    "0767e4764baa4d889c0094aeeaad8baf": {
     "model_module": "@jupyter-widgets/controls",
     "model_name": "HBoxModel",
     "state": {
      "_dom_classes": [],
      "_model_module": "@jupyter-widgets/controls",
      "_model_module_version": "1.5.0",
      "_model_name": "HBoxModel",
      "_view_count": null,
      "_view_module": "@jupyter-widgets/controls",
      "_view_module_version": "1.5.0",
      "_view_name": "HBoxView",
      "box_style": "",
      "children": [
       "IPY_MODEL_4802871a688b421fb62061a6dd77c91b",
       "IPY_MODEL_a1cfc9aaaf3f44629ae27d63855b0aa1"
      ],
      "layout": "IPY_MODEL_dce57dae92a74ea9b0ac0adec54d2aa2"
     }
    },
    "1a77a4be80654273b23a2418782ba88e": {
     "model_module": "@jupyter-widgets/base",
     "model_name": "LayoutModel",
     "state": {
      "_model_module": "@jupyter-widgets/base",
      "_model_module_version": "1.2.0",
      "_model_name": "LayoutModel",
      "_view_count": null,
      "_view_module": "@jupyter-widgets/base",
      "_view_module_version": "1.2.0",
      "_view_name": "LayoutView",
      "align_content": null,
      "align_items": null,
      "align_self": null,
      "border": null,
      "bottom": null,
      "display": null,
      "flex": null,
      "flex_flow": null,
      "grid_area": null,
      "grid_auto_columns": null,
      "grid_auto_flow": null,
      "grid_auto_rows": null,
      "grid_column": null,
      "grid_gap": null,
      "grid_row": null,
      "grid_template_areas": null,
      "grid_template_columns": null,
      "grid_template_rows": null,
      "height": null,
      "justify_content": null,
      "justify_items": null,
      "left": null,
      "margin": null,
      "max_height": null,
      "max_width": null,
      "min_height": null,
      "min_width": null,
      "object_fit": null,
      "object_position": null,
      "order": null,
      "overflow": null,
      "overflow_x": null,
      "overflow_y": null,
      "padding": null,
      "right": null,
      "top": null,
      "visibility": null,
      "width": null
     }
    },
    "227935e8e40a4e7ab0a6341cb2720e23": {
     "model_module": "@jupyter-widgets/controls",
     "model_name": "HBoxModel",
     "state": {
      "_dom_classes": [],
      "_model_module": "@jupyter-widgets/controls",
      "_model_module_version": "1.5.0",
      "_model_name": "HBoxModel",
      "_view_count": null,
      "_view_module": "@jupyter-widgets/controls",
      "_view_module_version": "1.5.0",
      "_view_name": "HBoxView",
      "box_style": "",
      "children": [
       "IPY_MODEL_c1a3b37688224850888db4cca320b9ef",
       "IPY_MODEL_88d39673dcb74a8b9cde25fb95113f93"
      ],
      "layout": "IPY_MODEL_6844655ca432456bbdd206fa3ae2eb99"
     }
    },
    "23a143907f5c4cffb1e82ca0e2bf59cc": {
     "model_module": "@jupyter-widgets/base",
     "model_name": "LayoutModel",
     "state": {
      "_model_module": "@jupyter-widgets/base",
      "_model_module_version": "1.2.0",
      "_model_name": "LayoutModel",
      "_view_count": null,
      "_view_module": "@jupyter-widgets/base",
      "_view_module_version": "1.2.0",
      "_view_name": "LayoutView",
      "align_content": null,
      "align_items": null,
      "align_self": null,
      "border": null,
      "bottom": null,
      "display": null,
      "flex": null,
      "flex_flow": null,
      "grid_area": null,
      "grid_auto_columns": null,
      "grid_auto_flow": null,
      "grid_auto_rows": null,
      "grid_column": null,
      "grid_gap": null,
      "grid_row": null,
      "grid_template_areas": null,
      "grid_template_columns": null,
      "grid_template_rows": null,
      "height": null,
      "justify_content": null,
      "justify_items": null,
      "left": null,
      "margin": null,
      "max_height": null,
      "max_width": null,
      "min_height": null,
      "min_width": null,
      "object_fit": null,
      "object_position": null,
      "order": null,
      "overflow": null,
      "overflow_x": null,
      "overflow_y": null,
      "padding": null,
      "right": null,
      "top": null,
      "visibility": null,
      "width": null
     }
    },
    "26c498618b8a47bf9cb36e9e7b71000a": {
     "model_module": "@jupyter-widgets/controls",
     "model_name": "HBoxModel",
     "state": {
      "_dom_classes": [],
      "_model_module": "@jupyter-widgets/controls",
      "_model_module_version": "1.5.0",
      "_model_name": "HBoxModel",
      "_view_count": null,
      "_view_module": "@jupyter-widgets/controls",
      "_view_module_version": "1.5.0",
      "_view_name": "HBoxView",
      "box_style": "",
      "children": [
       "IPY_MODEL_3aa09a073b904c35bd7ed01e1f7c136b",
       "IPY_MODEL_95b4d2632f3e418692633749be2e3529"
      ],
      "layout": "IPY_MODEL_55d64cd7744a4d1692cb7252f7305704"
     }
    },
    "3aa09a073b904c35bd7ed01e1f7c136b": {
     "model_module": "@jupyter-widgets/controls",
     "model_name": "FloatProgressModel",
     "state": {
      "_dom_classes": [],
      "_model_module": "@jupyter-widgets/controls",
      "_model_module_version": "1.5.0",
      "_model_name": "FloatProgressModel",
      "_view_count": null,
      "_view_module": "@jupyter-widgets/controls",
      "_view_module_version": "1.5.0",
      "_view_name": "ProgressView",
      "bar_style": "success",
      "description": "100%",
      "description_tooltip": null,
      "layout": "IPY_MODEL_58881a66301f4698a95269298a2ae0c6",
      "max": 1,
      "min": 0,
      "orientation": "horizontal",
      "style": "IPY_MODEL_b995fa5171314dffaa4578e35836a99e",
      "value": 1
     }
    },
    "4802871a688b421fb62061a6dd77c91b": {
     "model_module": "@jupyter-widgets/controls",
     "model_name": "FloatProgressModel",
     "state": {
      "_dom_classes": [],
      "_model_module": "@jupyter-widgets/controls",
      "_model_module_version": "1.5.0",
      "_model_name": "FloatProgressModel",
      "_view_count": null,
      "_view_module": "@jupyter-widgets/controls",
      "_view_module_version": "1.5.0",
      "_view_name": "ProgressView",
      "bar_style": "success",
      "description": "100%",
      "description_tooltip": null,
      "layout": "IPY_MODEL_989a66583aa541018afedd20318b1b7b",
      "max": 1,
      "min": 0,
      "orientation": "horizontal",
      "style": "IPY_MODEL_88e76f2a109342f89d20116b0f6f9476",
      "value": 1
     }
    },
    "50b343fb021b4f60be4dc0b524aa5415": {
     "model_module": "@jupyter-widgets/controls",
     "model_name": "ProgressStyleModel",
     "state": {
      "_model_module": "@jupyter-widgets/controls",
      "_model_module_version": "1.5.0",
      "_model_name": "ProgressStyleModel",
      "_view_count": null,
      "_view_module": "@jupyter-widgets/base",
      "_view_module_version": "1.2.0",
      "_view_name": "StyleView",
      "bar_color": null,
      "description_width": "initial"
     }
    },
    "55d64cd7744a4d1692cb7252f7305704": {
     "model_module": "@jupyter-widgets/base",
     "model_name": "LayoutModel",
     "state": {
      "_model_module": "@jupyter-widgets/base",
      "_model_module_version": "1.2.0",
      "_model_name": "LayoutModel",
      "_view_count": null,
      "_view_module": "@jupyter-widgets/base",
      "_view_module_version": "1.2.0",
      "_view_name": "LayoutView",
      "align_content": null,
      "align_items": null,
      "align_self": null,
      "border": null,
      "bottom": null,
      "display": null,
      "flex": null,
      "flex_flow": null,
      "grid_area": null,
      "grid_auto_columns": null,
      "grid_auto_flow": null,
      "grid_auto_rows": null,
      "grid_column": null,
      "grid_gap": null,
      "grid_row": null,
      "grid_template_areas": null,
      "grid_template_columns": null,
      "grid_template_rows": null,
      "height": null,
      "justify_content": null,
      "justify_items": null,
      "left": null,
      "margin": null,
      "max_height": null,
      "max_width": null,
      "min_height": null,
      "min_width": null,
      "object_fit": null,
      "object_position": null,
      "order": null,
      "overflow": null,
      "overflow_x": null,
      "overflow_y": null,
      "padding": null,
      "right": null,
      "top": null,
      "visibility": null,
      "width": null
     }
    },
    "58881a66301f4698a95269298a2ae0c6": {
     "model_module": "@jupyter-widgets/base",
     "model_name": "LayoutModel",
     "state": {
      "_model_module": "@jupyter-widgets/base",
      "_model_module_version": "1.2.0",
      "_model_name": "LayoutModel",
      "_view_count": null,
      "_view_module": "@jupyter-widgets/base",
      "_view_module_version": "1.2.0",
      "_view_name": "LayoutView",
      "align_content": null,
      "align_items": null,
      "align_self": null,
      "border": null,
      "bottom": null,
      "display": null,
      "flex": null,
      "flex_flow": null,
      "grid_area": null,
      "grid_auto_columns": null,
      "grid_auto_flow": null,
      "grid_auto_rows": null,
      "grid_column": null,
      "grid_gap": null,
      "grid_row": null,
      "grid_template_areas": null,
      "grid_template_columns": null,
      "grid_template_rows": null,
      "height": null,
      "justify_content": null,
      "justify_items": null,
      "left": null,
      "margin": null,
      "max_height": null,
      "max_width": null,
      "min_height": null,
      "min_width": null,
      "object_fit": null,
      "object_position": null,
      "order": null,
      "overflow": null,
      "overflow_x": null,
      "overflow_y": null,
      "padding": null,
      "right": null,
      "top": null,
      "visibility": null,
      "width": null
     }
    },
    "5e81d21064c64ad39673958366887059": {
     "model_module": "@jupyter-widgets/controls",
     "model_name": "DescriptionStyleModel",
     "state": {
      "_model_module": "@jupyter-widgets/controls",
      "_model_module_version": "1.5.0",
      "_model_name": "DescriptionStyleModel",
      "_view_count": null,
      "_view_module": "@jupyter-widgets/base",
      "_view_module_version": "1.2.0",
      "_view_name": "StyleView",
      "description_width": ""
     }
    },
    "5f50747ca0c04313a2fc54858dd44fc8": {
     "model_module": "@jupyter-widgets/controls",
     "model_name": "DescriptionStyleModel",
     "state": {
      "_model_module": "@jupyter-widgets/controls",
      "_model_module_version": "1.5.0",
      "_model_name": "DescriptionStyleModel",
      "_view_count": null,
      "_view_module": "@jupyter-widgets/base",
      "_view_module_version": "1.2.0",
      "_view_name": "StyleView",
      "description_width": ""
     }
    },
    "5f589caf15ec454b81eb687f654b0c26": {
     "model_module": "@jupyter-widgets/base",
     "model_name": "LayoutModel",
     "state": {
      "_model_module": "@jupyter-widgets/base",
      "_model_module_version": "1.2.0",
      "_model_name": "LayoutModel",
      "_view_count": null,
      "_view_module": "@jupyter-widgets/base",
      "_view_module_version": "1.2.0",
      "_view_name": "LayoutView",
      "align_content": null,
      "align_items": null,
      "align_self": null,
      "border": null,
      "bottom": null,
      "display": null,
      "flex": null,
      "flex_flow": null,
      "grid_area": null,
      "grid_auto_columns": null,
      "grid_auto_flow": null,
      "grid_auto_rows": null,
      "grid_column": null,
      "grid_gap": null,
      "grid_row": null,
      "grid_template_areas": null,
      "grid_template_columns": null,
      "grid_template_rows": null,
      "height": null,
      "justify_content": null,
      "justify_items": null,
      "left": null,
      "margin": null,
      "max_height": null,
      "max_width": null,
      "min_height": null,
      "min_width": null,
      "object_fit": null,
      "object_position": null,
      "order": null,
      "overflow": null,
      "overflow_x": null,
      "overflow_y": null,
      "padding": null,
      "right": null,
      "top": null,
      "visibility": null,
      "width": null
     }
    },
    "6654291635004a7e8767101ab2e020a3": {
     "model_module": "@jupyter-widgets/controls",
     "model_name": "ProgressStyleModel",
     "state": {
      "_model_module": "@jupyter-widgets/controls",
      "_model_module_version": "1.5.0",
      "_model_name": "ProgressStyleModel",
      "_view_count": null,
      "_view_module": "@jupyter-widgets/base",
      "_view_module_version": "1.2.0",
      "_view_name": "StyleView",
      "bar_color": null,
      "description_width": "initial"
     }
    },
    "6844655ca432456bbdd206fa3ae2eb99": {
     "model_module": "@jupyter-widgets/base",
     "model_name": "LayoutModel",
     "state": {
      "_model_module": "@jupyter-widgets/base",
      "_model_module_version": "1.2.0",
      "_model_name": "LayoutModel",
      "_view_count": null,
      "_view_module": "@jupyter-widgets/base",
      "_view_module_version": "1.2.0",
      "_view_name": "LayoutView",
      "align_content": null,
      "align_items": null,
      "align_self": null,
      "border": null,
      "bottom": null,
      "display": null,
      "flex": null,
      "flex_flow": null,
      "grid_area": null,
      "grid_auto_columns": null,
      "grid_auto_flow": null,
      "grid_auto_rows": null,
      "grid_column": null,
      "grid_gap": null,
      "grid_row": null,
      "grid_template_areas": null,
      "grid_template_columns": null,
      "grid_template_rows": null,
      "height": null,
      "justify_content": null,
      "justify_items": null,
      "left": null,
      "margin": null,
      "max_height": null,
      "max_width": null,
      "min_height": null,
      "min_width": null,
      "object_fit": null,
      "object_position": null,
      "order": null,
      "overflow": null,
      "overflow_x": null,
      "overflow_y": null,
      "padding": null,
      "right": null,
      "top": null,
      "visibility": null,
      "width": null
     }
    },
    "69a227b4a364407aac200c9e28bbbf44": {
     "model_module": "@jupyter-widgets/controls",
     "model_name": "DescriptionStyleModel",
     "state": {
      "_model_module": "@jupyter-widgets/controls",
      "_model_module_version": "1.5.0",
      "_model_name": "DescriptionStyleModel",
      "_view_count": null,
      "_view_module": "@jupyter-widgets/base",
      "_view_module_version": "1.2.0",
      "_view_name": "StyleView",
      "description_width": ""
     }
    },
    "6b03ef14d7b144d4b9aa5a8d705787aa": {
     "model_module": "@jupyter-widgets/controls",
     "model_name": "HBoxModel",
     "state": {
      "_dom_classes": [],
      "_model_module": "@jupyter-widgets/controls",
      "_model_module_version": "1.5.0",
      "_model_name": "HBoxModel",
      "_view_count": null,
      "_view_module": "@jupyter-widgets/controls",
      "_view_module_version": "1.5.0",
      "_view_name": "HBoxView",
      "box_style": "",
      "children": [
       "IPY_MODEL_bfd451102c8e45eea3f0ca629f473109",
       "IPY_MODEL_b399ba49de924fcfad650acee00c353e"
      ],
      "layout": "IPY_MODEL_1a77a4be80654273b23a2418782ba88e"
     }
    },
    "88d39673dcb74a8b9cde25fb95113f93": {
     "model_module": "@jupyter-widgets/controls",
     "model_name": "HTMLModel",
     "state": {
      "_dom_classes": [],
      "_model_module": "@jupyter-widgets/controls",
      "_model_module_version": "1.5.0",
      "_model_name": "HTMLModel",
      "_view_count": null,
      "_view_module": "@jupyter-widgets/controls",
      "_view_module_version": "1.5.0",
      "_view_name": "HTMLView",
      "description": "",
      "description_tooltip": null,
      "layout": "IPY_MODEL_ec52253bd0ac4515a14e5ec383032566",
      "placeholder": "​",
      "style": "IPY_MODEL_69a227b4a364407aac200c9e28bbbf44",
      "value": " 1/1 [00:11&lt;00:00, 11.66s/it]"
     }
    },
    "88e76f2a109342f89d20116b0f6f9476": {
     "model_module": "@jupyter-widgets/controls",
     "model_name": "ProgressStyleModel",
     "state": {
      "_model_module": "@jupyter-widgets/controls",
      "_model_module_version": "1.5.0",
      "_model_name": "ProgressStyleModel",
      "_view_count": null,
      "_view_module": "@jupyter-widgets/base",
      "_view_module_version": "1.2.0",
      "_view_name": "StyleView",
      "bar_color": null,
      "description_width": "initial"
     }
    },
    "8e5d387c229347f28bb9c0084bab7b8f": {
     "model_module": "@jupyter-widgets/controls",
     "model_name": "DescriptionStyleModel",
     "state": {
      "_model_module": "@jupyter-widgets/controls",
      "_model_module_version": "1.5.0",
      "_model_name": "DescriptionStyleModel",
      "_view_count": null,
      "_view_module": "@jupyter-widgets/base",
      "_view_module_version": "1.2.0",
      "_view_name": "StyleView",
      "description_width": ""
     }
    },
    "95b4d2632f3e418692633749be2e3529": {
     "model_module": "@jupyter-widgets/controls",
     "model_name": "HTMLModel",
     "state": {
      "_dom_classes": [],
      "_model_module": "@jupyter-widgets/controls",
      "_model_module_version": "1.5.0",
      "_model_name": "HTMLModel",
      "_view_count": null,
      "_view_module": "@jupyter-widgets/controls",
      "_view_module_version": "1.5.0",
      "_view_name": "HTMLView",
      "description": "",
      "description_tooltip": null,
      "layout": "IPY_MODEL_e9337eecba8b4bfd9dd781ba9567efef",
      "placeholder": "​",
      "style": "IPY_MODEL_5e81d21064c64ad39673958366887059",
      "value": " 1/1 [00:43&lt;00:00, 43.72s/it]"
     }
    },
    "989a66583aa541018afedd20318b1b7b": {
     "model_module": "@jupyter-widgets/base",
     "model_name": "LayoutModel",
     "state": {
      "_model_module": "@jupyter-widgets/base",
      "_model_module_version": "1.2.0",
      "_model_name": "LayoutModel",
      "_view_count": null,
      "_view_module": "@jupyter-widgets/base",
      "_view_module_version": "1.2.0",
      "_view_name": "LayoutView",
      "align_content": null,
      "align_items": null,
      "align_self": null,
      "border": null,
      "bottom": null,
      "display": null,
      "flex": null,
      "flex_flow": null,
      "grid_area": null,
      "grid_auto_columns": null,
      "grid_auto_flow": null,
      "grid_auto_rows": null,
      "grid_column": null,
      "grid_gap": null,
      "grid_row": null,
      "grid_template_areas": null,
      "grid_template_columns": null,
      "grid_template_rows": null,
      "height": null,
      "justify_content": null,
      "justify_items": null,
      "left": null,
      "margin": null,
      "max_height": null,
      "max_width": null,
      "min_height": null,
      "min_width": null,
      "object_fit": null,
      "object_position": null,
      "order": null,
      "overflow": null,
      "overflow_x": null,
      "overflow_y": null,
      "padding": null,
      "right": null,
      "top": null,
      "visibility": null,
      "width": null
     }
    },
    "9b310c3a4c2f4db2ab86c81f5c47d7c1": {
     "model_module": "@jupyter-widgets/base",
     "model_name": "LayoutModel",
     "state": {
      "_model_module": "@jupyter-widgets/base",
      "_model_module_version": "1.2.0",
      "_model_name": "LayoutModel",
      "_view_count": null,
      "_view_module": "@jupyter-widgets/base",
      "_view_module_version": "1.2.0",
      "_view_name": "LayoutView",
      "align_content": null,
      "align_items": null,
      "align_self": null,
      "border": null,
      "bottom": null,
      "display": null,
      "flex": null,
      "flex_flow": null,
      "grid_area": null,
      "grid_auto_columns": null,
      "grid_auto_flow": null,
      "grid_auto_rows": null,
      "grid_column": null,
      "grid_gap": null,
      "grid_row": null,
      "grid_template_areas": null,
      "grid_template_columns": null,
      "grid_template_rows": null,
      "height": null,
      "justify_content": null,
      "justify_items": null,
      "left": null,
      "margin": null,
      "max_height": null,
      "max_width": null,
      "min_height": null,
      "min_width": null,
      "object_fit": null,
      "object_position": null,
      "order": null,
      "overflow": null,
      "overflow_x": null,
      "overflow_y": null,
      "padding": null,
      "right": null,
      "top": null,
      "visibility": null,
      "width": null
     }
    },
    "a1cfc9aaaf3f44629ae27d63855b0aa1": {
     "model_module": "@jupyter-widgets/controls",
     "model_name": "HTMLModel",
     "state": {
      "_dom_classes": [],
      "_model_module": "@jupyter-widgets/controls",
      "_model_module_version": "1.5.0",
      "_model_name": "HTMLModel",
      "_view_count": null,
      "_view_module": "@jupyter-widgets/controls",
      "_view_module_version": "1.5.0",
      "_view_name": "HTMLView",
      "description": "",
      "description_tooltip": null,
      "layout": "IPY_MODEL_5f589caf15ec454b81eb687f654b0c26",
      "placeholder": "​",
      "style": "IPY_MODEL_5f50747ca0c04313a2fc54858dd44fc8",
      "value": " 1/1 [02:52&lt;00:00, 172.35s/it]"
     }
    },
    "b399ba49de924fcfad650acee00c353e": {
     "model_module": "@jupyter-widgets/controls",
     "model_name": "HTMLModel",
     "state": {
      "_dom_classes": [],
      "_model_module": "@jupyter-widgets/controls",
      "_model_module_version": "1.5.0",
      "_model_name": "HTMLModel",
      "_view_count": null,
      "_view_module": "@jupyter-widgets/controls",
      "_view_module_version": "1.5.0",
      "_view_name": "HTMLView",
      "description": "",
      "description_tooltip": null,
      "layout": "IPY_MODEL_23a143907f5c4cffb1e82ca0e2bf59cc",
      "placeholder": "​",
      "style": "IPY_MODEL_8e5d387c229347f28bb9c0084bab7b8f",
      "value": " 1/1 [01:27&lt;00:00, 87.95s/it]"
     }
    },
    "b995fa5171314dffaa4578e35836a99e": {
     "model_module": "@jupyter-widgets/controls",
     "model_name": "ProgressStyleModel",
     "state": {
      "_model_module": "@jupyter-widgets/controls",
      "_model_module_version": "1.5.0",
      "_model_name": "ProgressStyleModel",
      "_view_count": null,
      "_view_module": "@jupyter-widgets/base",
      "_view_module_version": "1.2.0",
      "_view_name": "StyleView",
      "bar_color": null,
      "description_width": "initial"
     }
    },
    "bfd451102c8e45eea3f0ca629f473109": {
     "model_module": "@jupyter-widgets/controls",
     "model_name": "FloatProgressModel",
     "state": {
      "_dom_classes": [],
      "_model_module": "@jupyter-widgets/controls",
      "_model_module_version": "1.5.0",
      "_model_name": "FloatProgressModel",
      "_view_count": null,
      "_view_module": "@jupyter-widgets/controls",
      "_view_module_version": "1.5.0",
      "_view_name": "ProgressView",
      "bar_style": "success",
      "description": "100%",
      "description_tooltip": null,
      "layout": "IPY_MODEL_e8933922dad643e2b2658c9e3de407de",
      "max": 1,
      "min": 0,
      "orientation": "horizontal",
      "style": "IPY_MODEL_50b343fb021b4f60be4dc0b524aa5415",
      "value": 1
     }
    },
    "c1a3b37688224850888db4cca320b9ef": {
     "model_module": "@jupyter-widgets/controls",
     "model_name": "FloatProgressModel",
     "state": {
      "_dom_classes": [],
      "_model_module": "@jupyter-widgets/controls",
      "_model_module_version": "1.5.0",
      "_model_name": "FloatProgressModel",
      "_view_count": null,
      "_view_module": "@jupyter-widgets/controls",
      "_view_module_version": "1.5.0",
      "_view_name": "ProgressView",
      "bar_style": "success",
      "description": "100%",
      "description_tooltip": null,
      "layout": "IPY_MODEL_9b310c3a4c2f4db2ab86c81f5c47d7c1",
      "max": 1,
      "min": 0,
      "orientation": "horizontal",
      "style": "IPY_MODEL_6654291635004a7e8767101ab2e020a3",
      "value": 1
     }
    },
    "dce57dae92a74ea9b0ac0adec54d2aa2": {
     "model_module": "@jupyter-widgets/base",
     "model_name": "LayoutModel",
     "state": {
      "_model_module": "@jupyter-widgets/base",
      "_model_module_version": "1.2.0",
      "_model_name": "LayoutModel",
      "_view_count": null,
      "_view_module": "@jupyter-widgets/base",
      "_view_module_version": "1.2.0",
      "_view_name": "LayoutView",
      "align_content": null,
      "align_items": null,
      "align_self": null,
      "border": null,
      "bottom": null,
      "display": null,
      "flex": null,
      "flex_flow": null,
      "grid_area": null,
      "grid_auto_columns": null,
      "grid_auto_flow": null,
      "grid_auto_rows": null,
      "grid_column": null,
      "grid_gap": null,
      "grid_row": null,
      "grid_template_areas": null,
      "grid_template_columns": null,
      "grid_template_rows": null,
      "height": null,
      "justify_content": null,
      "justify_items": null,
      "left": null,
      "margin": null,
      "max_height": null,
      "max_width": null,
      "min_height": null,
      "min_width": null,
      "object_fit": null,
      "object_position": null,
      "order": null,
      "overflow": null,
      "overflow_x": null,
      "overflow_y": null,
      "padding": null,
      "right": null,
      "top": null,
      "visibility": null,
      "width": null
     }
    },
    "e8933922dad643e2b2658c9e3de407de": {
     "model_module": "@jupyter-widgets/base",
     "model_name": "LayoutModel",
     "state": {
      "_model_module": "@jupyter-widgets/base",
      "_model_module_version": "1.2.0",
      "_model_name": "LayoutModel",
      "_view_count": null,
      "_view_module": "@jupyter-widgets/base",
      "_view_module_version": "1.2.0",
      "_view_name": "LayoutView",
      "align_content": null,
      "align_items": null,
      "align_self": null,
      "border": null,
      "bottom": null,
      "display": null,
      "flex": null,
      "flex_flow": null,
      "grid_area": null,
      "grid_auto_columns": null,
      "grid_auto_flow": null,
      "grid_auto_rows": null,
      "grid_column": null,
      "grid_gap": null,
      "grid_row": null,
      "grid_template_areas": null,
      "grid_template_columns": null,
      "grid_template_rows": null,
      "height": null,
      "justify_content": null,
      "justify_items": null,
      "left": null,
      "margin": null,
      "max_height": null,
      "max_width": null,
      "min_height": null,
      "min_width": null,
      "object_fit": null,
      "object_position": null,
      "order": null,
      "overflow": null,
      "overflow_x": null,
      "overflow_y": null,
      "padding": null,
      "right": null,
      "top": null,
      "visibility": null,
      "width": null
     }
    },
    "e9337eecba8b4bfd9dd781ba9567efef": {
     "model_module": "@jupyter-widgets/base",
     "model_name": "LayoutModel",
     "state": {
      "_model_module": "@jupyter-widgets/base",
      "_model_module_version": "1.2.0",
      "_model_name": "LayoutModel",
      "_view_count": null,
      "_view_module": "@jupyter-widgets/base",
      "_view_module_version": "1.2.0",
      "_view_name": "LayoutView",
      "align_content": null,
      "align_items": null,
      "align_self": null,
      "border": null,
      "bottom": null,
      "display": null,
      "flex": null,
      "flex_flow": null,
      "grid_area": null,
      "grid_auto_columns": null,
      "grid_auto_flow": null,
      "grid_auto_rows": null,
      "grid_column": null,
      "grid_gap": null,
      "grid_row": null,
      "grid_template_areas": null,
      "grid_template_columns": null,
      "grid_template_rows": null,
      "height": null,
      "justify_content": null,
      "justify_items": null,
      "left": null,
      "margin": null,
      "max_height": null,
      "max_width": null,
      "min_height": null,
      "min_width": null,
      "object_fit": null,
      "object_position": null,
      "order": null,
      "overflow": null,
      "overflow_x": null,
      "overflow_y": null,
      "padding": null,
      "right": null,
      "top": null,
      "visibility": null,
      "width": null
     }
    },
    "ec52253bd0ac4515a14e5ec383032566": {
     "model_module": "@jupyter-widgets/base",
     "model_name": "LayoutModel",
     "state": {
      "_model_module": "@jupyter-widgets/base",
      "_model_module_version": "1.2.0",
      "_model_name": "LayoutModel",
      "_view_count": null,
      "_view_module": "@jupyter-widgets/base",
      "_view_module_version": "1.2.0",
      "_view_name": "LayoutView",
      "align_content": null,
      "align_items": null,
      "align_self": null,
      "border": null,
      "bottom": null,
      "display": null,
      "flex": null,
      "flex_flow": null,
      "grid_area": null,
      "grid_auto_columns": null,
      "grid_auto_flow": null,
      "grid_auto_rows": null,
      "grid_column": null,
      "grid_gap": null,
      "grid_row": null,
      "grid_template_areas": null,
      "grid_template_columns": null,
      "grid_template_rows": null,
      "height": null,
      "justify_content": null,
      "justify_items": null,
      "left": null,
      "margin": null,
      "max_height": null,
      "max_width": null,
      "min_height": null,
      "min_width": null,
      "object_fit": null,
      "object_position": null,
      "order": null,
      "overflow": null,
      "overflow_x": null,
      "overflow_y": null,
      "padding": null,
      "right": null,
      "top": null,
      "visibility": null,
      "width": null
     }
    }
   }
  }
 },
 "nbformat": 4,
 "nbformat_minor": 1
}
