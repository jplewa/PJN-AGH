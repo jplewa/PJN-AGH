{
 "cells": [
  {
   "cell_type": "markdown",
   "metadata": {},
   "source": [
    "# Lab2: Lemmatization and full text search (FTS)"
   ]
  },
  {
   "cell_type": "code",
   "execution_count": 1,
   "metadata": {},
   "outputs": [],
   "source": [
    "import elasticsearch\n",
    "import elasticsearch_dsl\n",
    "import os\n",
    "import re"
   ]
  },
  {
   "cell_type": "code",
   "execution_count": 2,
   "metadata": {},
   "outputs": [],
   "source": [
    "ACT_DIRECTORY = '../files'"
   ]
  },
  {
   "cell_type": "markdown",
   "metadata": {},
   "source": [
    "## 1. Install ElasticSearch (ES)."
   ]
  },
  {
   "cell_type": "markdown",
   "metadata": {},
   "source": [
    "Zamiast lokalnej instancji ES wykorzystany został obraz Dockerowy."
   ]
  },
  {
   "cell_type": "code",
   "execution_count": 3,
   "metadata": {},
   "outputs": [
    {
     "data": {
      "text/plain": [
       "{'name': '15f0fe802b8f',\n",
       " 'cluster_name': 'docker-cluster',\n",
       " 'cluster_uuid': '-gSQyVHTT1adZQVHiafp8Q',\n",
       " 'version': {'number': '7.9.2',\n",
       "  'build_flavor': 'default',\n",
       "  'build_type': 'docker',\n",
       "  'build_hash': 'd34da0ea4a966c4e49417f2da2f244e3e97b4e6e',\n",
       "  'build_date': '2020-09-23T00:45:33.626720Z',\n",
       "  'build_snapshot': False,\n",
       "  'lucene_version': '8.6.2',\n",
       "  'minimum_wire_compatibility_version': '6.8.0',\n",
       "  'minimum_index_compatibility_version': '6.0.0-beta1'},\n",
       " 'tagline': 'You Know, for Search'}"
      ]
     },
     "execution_count": 3,
     "metadata": {},
     "output_type": "execute_result"
    }
   ],
   "source": [
    "es = elasticsearch.Elasticsearch()\n",
    "elasticsearch_dsl.connections.add_connection('python_client', es)\n",
    "es.info()"
   ]
  },
  {
   "cell_type": "markdown",
   "metadata": {},
   "source": [
    "## 2. Install an ES plugin for Polish https://github.com/allegro/elasticsearch-analysis-morfologik"
   ]
  },
  {
   "cell_type": "markdown",
   "metadata": {},
   "source": [
    "Plugin Morfologik został zainstalowany zgodnie z instrukcją."
   ]
  },
  {
   "cell_type": "code",
   "execution_count": 4,
   "metadata": {},
   "outputs": [
    {
     "name": "stdout",
     "output_type": "stream",
     "text": [
      "name         component           version description\n",
      "15f0fe802b8f analysis-morfologik 7.9.2   Morfologik Polish Lemmatizer plugin for Elasticsearch\n",
      "\n"
     ]
    }
   ],
   "source": [
    "print(es.cat.plugins(params={'v': '', 'h': 'name,component,version,description'}))"
   ]
  },
  {
   "cell_type": "markdown",
   "metadata": {},
   "source": [
    "## 3. Define an ES analyzer for Polish texts containing:\n",
    "* standard tokenizer\n",
    "* synonym filter with the following definitions:\n",
    "  * kpk - kodeks postępowania karnego\n",
    "  * kpc - kodeks postępowania cywilnego\n",
    "  * kk - kodeks karny\n",
    "  * kc - kodeks cywilny\n",
    "* Morfologik-based lemmatizer\n",
    "* lowercase filter"
   ]
  },
  {
   "cell_type": "markdown",
   "metadata": {},
   "source": [
    "Zdefiniowany został analizator zgodnie z wyznacznymi z polecenia."
   ]
  },
  {
   "cell_type": "code",
   "execution_count": 5,
   "metadata": {},
   "outputs": [],
   "source": [
    "analyzer = elasticsearch_dsl.analyzer(\n",
    "    'act_analyzer',\n",
    "    type='custom',\n",
    "    tokenizer='standard',                             # standard tokenizer\n",
    "    filter=[\n",
    "        'lowercase',                                  # lowercase filter\n",
    "        elasticsearch_dsl.analysis.token_filter(      # synonym filter\n",
    "            'synonym_filter', \n",
    "            type='synonym', \n",
    "            synonyms=[\n",
    "                'kpk,kodeks postępowania karnego',\n",
    "                'kpc,kodeks postępowania cywilnego',\n",
    "                'kk,kodeks karny',\n",
    "                'kc,kodeks cywilny',\n",
    "            ],\n",
    "        ), \n",
    "        'morfologik_stem',                            # Morfologik-based lemmatizer\n",
    "    ],\n",
    ")"
   ]
  },
  {
   "cell_type": "markdown",
   "metadata": {},
   "source": [
    "## 4. Define an ES index for storing the contents of the legislative acts."
   ]
  },
  {
   "cell_type": "markdown",
   "metadata": {},
   "source": [
    "Przygotowana została klasa wrappująca analizowane dokumenty. Oprócz treści pliku uwzględniona została również nazwa pliku oraz rok, z którego pochodzi dana ustawa."
   ]
  },
  {
   "cell_type": "code",
   "execution_count": 6,
   "metadata": {},
   "outputs": [],
   "source": [
    "class Act(elasticsearch_dsl.Document):\n",
    "    file_name = elasticsearch_dsl.Text()\n",
    "    year = elasticsearch_dsl.Integer()\n",
    "    content = elasticsearch_dsl.Text(\n",
    "        analyzer=analyzer,\n",
    "    )\n",
    "    \n",
    "    class Index:\n",
    "        name = 'acts'"
   ]
  },
  {
   "cell_type": "markdown",
   "metadata": {},
   "source": [
    "Indeks został zainizjalizowany."
   ]
  },
  {
   "cell_type": "code",
   "execution_count": 7,
   "metadata": {},
   "outputs": [],
   "source": [
    "if Act._index.exists(using=es):\n",
    "    Act._index.delete(using=es)\n",
    "\n",
    "Act.init(using=es)"
   ]
  },
  {
   "cell_type": "markdown",
   "metadata": {},
   "source": [
    "## 5. Load the data to the ES index."
   ]
  },
  {
   "cell_type": "markdown",
   "metadata": {},
   "source": [
    "Do wczytania zawartości plików wykorzystany został kod z poprzednich zajęć. Każdy plik został wczytany do indeksu."
   ]
  },
  {
   "cell_type": "code",
   "execution_count": 8,
   "metadata": {},
   "outputs": [],
   "source": [
    "HEADER = r'u\\s*s\\s*t\\s*a\\s*w\\s*a[\\s\\S]*?z\\s*dnia\\s*\\d{1,2}\\s*\\w*\\s*\\d{4}'\n",
    "\n",
    "for root, _, files in os.walk(ACT_DIRECTORY):\n",
    "    for file_name in files:\n",
    "        path = os.path.join(root, file_name)\n",
    "        with open(path, encoding='utf-8') as file:\n",
    "            content = file.read()\n",
    "            date = re.findall(HEADER, content, re.IGNORECASE)\n",
    "            year = date[0][-4:] if date else os.path.splitext(file_name)[0].split('_')[0]\n",
    "            act = Act(file_name=file_name, year=year, content=content)\n",
    "            act.save(using=es)"
   ]
  },
  {
   "cell_type": "markdown",
   "metadata": {},
   "source": [
    "W celu weryfikacji liczba dokumentów w indeksie została porównana z liczbą plików w korpusie."
   ]
  },
  {
   "cell_type": "code",
   "execution_count": 9,
   "metadata": {},
   "outputs": [
    {
     "data": {
      "text/plain": [
       "True"
      ]
     },
     "execution_count": 9,
     "metadata": {},
     "output_type": "execute_result"
    }
   ],
   "source": [
    "es.search(index='acts')['hits']['total']['value'] == len(os.listdir(ACT_DIRECTORY))"
   ]
  },
  {
   "cell_type": "markdown",
   "metadata": {},
   "source": [
    "## 6. Determine the number of legislative acts containing the word ustawa (in any form)."
   ]
  },
  {
   "cell_type": "markdown",
   "metadata": {},
   "source": [
    "Liczba plików zawierających słowo \"ustawa\" to 1179, co oznacza, że tylko jeden z plików nie zawiera tego słowa."
   ]
  },
  {
   "cell_type": "code",
   "execution_count": 10,
   "metadata": {
    "scrolled": false
   },
   "outputs": [
    {
     "name": "stdout",
     "output_type": "stream",
     "text": [
      "The number of files containing the word \"ustawa\" is: 1179\n"
     ]
    }
   ],
   "source": [
    "search = elasticsearch_dsl.Search(index='acts') \\\n",
    "    .using(es) \\\n",
    "    .query('match', content='ustawa')\n",
    "\n",
    "results = search[:1500].execute()\n",
    "\n",
    "print(f'The number of files containing the word \"ustawa\" is: {len(results)}')"
   ]
  },
  {
   "cell_type": "markdown",
   "metadata": {},
   "source": [
    "## 7. Determine the number of legislative acts containing the words kodeks postępowania cywilnego in the specified order, but in an any inflection form."
   ]
  },
  {
   "cell_type": "markdown",
   "metadata": {},
   "source": [
    "Liczba plików zawierających słowa \"kodeks postępowania cywilnego\" to 100. Dla porównania zliczone zostały również wystąpienia \"kpc\" (czyli stringa, który powinien zostać potraktowany jako synonim) -- wynik również wyniósł 100."
   ]
  },
  {
   "cell_type": "code",
   "execution_count": 11,
   "metadata": {},
   "outputs": [
    {
     "name": "stdout",
     "output_type": "stream",
     "text": [
      "The number of files containing the words \"kodeks postępowania cywilnego\" is: 100\n"
     ]
    }
   ],
   "source": [
    "search = elasticsearch_dsl.Search(index='acts') \\\n",
    "    .using(es) \\\n",
    "    .query('match_phrase', content='kodeks postępowania cywilnego')\n",
    "\n",
    "results = search[:1500].execute()\n",
    "\n",
    "print(f'The number of files containing the words \"kodeks postępowania cywilnego\" is: {len(results)}')"
   ]
  },
  {
   "cell_type": "code",
   "execution_count": 16,
   "metadata": {},
   "outputs": [
    {
     "name": "stdout",
     "output_type": "stream",
     "text": [
      "The number of files containing the words \"kpc\" is: 100\n"
     ]
    }
   ],
   "source": [
    "search = elasticsearch_dsl.Search(index='acts') \\\n",
    "    .using(es) \\\n",
    "    .query('match_phrase', content='kpc')\n",
    "\n",
    "results = search[:1500].execute()\n",
    "\n",
    "print(f'The number of files containing the words \"kpc\" is: {len(results)}')"
   ]
  },
  {
   "cell_type": "markdown",
   "metadata": {},
   "source": [
    "## 8. Determine the number of legislative acts containing the words wchodzi w życie (in any form) allowing for up to 2 additional words in the searched phrase."
   ]
  },
  {
   "cell_type": "markdown",
   "metadata": {},
   "source": [
    "Liczba plików zawierających słowa \"wchodzi w życie\" to 1175, co oznacza, że pięć plików nie zawiera tych słów."
   ]
  },
  {
   "cell_type": "code",
   "execution_count": 12,
   "metadata": {},
   "outputs": [
    {
     "name": "stdout",
     "output_type": "stream",
     "text": [
      "The number of files containing the words \"wchodzi w życie\" is: 1175\n"
     ]
    }
   ],
   "source": [
    "search = elasticsearch_dsl.Search(index='acts') \\\n",
    "    .using(es) \\\n",
    "    .query(elasticsearch_dsl.query.MatchPhrase(content={'query': 'wchodzi w życie', 'slop': 2}))\n",
    "\n",
    "results = search[:1500].execute()\n",
    "\n",
    "print(f'The number of files containing the words \"wchodzi w życie\" is: {len(results)}')"
   ]
  },
  {
   "cell_type": "markdown",
   "metadata": {},
   "source": [
    "## 9. Determine the 10 documents that are the most relevant for the phrase konstytucja."
   ]
  },
  {
   "cell_type": "code",
   "execution_count": 13,
   "metadata": {},
   "outputs": [
    {
     "name": "stdout",
     "output_type": "stream",
     "text": [
      "The top 10 files containing the phrase \"konstytucja\" are: 1997_629.txt, 2000_443.txt, 1997_604.txt, 1996_350.txt, 1997_642.txt, 2001_23.txt, 1996_199.txt, 1999_688.txt, 1997_681.txt, 2001_1082.txt.\n"
     ]
    }
   ],
   "source": [
    "search = elasticsearch_dsl.Search(index='acts') \\\n",
    "    .using(es) \\\n",
    "    .query(elasticsearch_dsl.query.Match(content={'query': 'konstytucja'}))\n",
    "\n",
    "results = search[:10].execute()\n",
    "\n",
    "file_names = [hit.file_name for hit in results.hits]\n",
    "\n",
    "print(f'The top 10 files containing the phrase \"konstytucja\" are: {\", \".join(file_names)}.')"
   ]
  },
  {
   "cell_type": "markdown",
   "metadata": {},
   "source": [
    "## 10. Print the excerpts containing the word konstytucja (up to three excerpts per document) from the previous task."
   ]
  },
  {
   "cell_type": "markdown",
   "metadata": {},
   "source": [
    "W wyprintowanych fragmentach widać, że zliczone zostały różne formy słowa \"konstytucja\", co sugeruje, że działanie analizatora jest zgodne z oczekiwanym."
   ]
  },
  {
   "cell_type": "code",
   "execution_count": 14,
   "metadata": {},
   "outputs": [
    {
     "name": "stdout",
     "output_type": "stream",
     "text": [
      "The top 10 files containing the phrase \"konstytucja\" with selected excerpts:\n",
      "1. 1997_496.txt:\n",
      "  - o zmianie ustawy konstytucyjnej o trybie przygotowania\n",
      "           i uchwalenia <em>Konstytucji</em> Rzeczypospolitej\n",
      "  - W ustawie  konstytucyjnej z  dnia 23 kwietnia 1992 r. o trybie przygotowania i \n",
      "uchwalenia <em>Konstytucji</em>\n",
      "  - Do zgłoszenia projektu <em>Konstytucji</em> załącza się wykaz \n",
      "                obywateli popierających zgłoszenie\n",
      "2. 1997_496.txt:\n",
      "  - umowy międzynarodowej i nie wypełnia przesłanek określonych w art. 89\n",
      "     ust. 1 lub art. 90 <em>Konstytucji</em>\n",
      "  - międzynarodowej lub załącznika nie\n",
      "     wypełnia przesłanek określonych w art. 89 ust. 1 lub art. 90 <em>Konstytucji</em>\n",
      "  - co do zasadności wyboru\n",
      "  trybu ratyfikacji umowy międzynarodowej, o którym mowa w art. 89 ust. 2\n",
      "  <em>Konstytucji</em>\n",
      "3. 1997_496.txt:\n",
      "  - Jeżeli Trybunał Konstytucyjny wyda orzeczenie o sprzeczności celów partii \n",
      "   politycznej z <em>Konstytucją</em>\n",
      "  - Jeżeli Trybunał Konstytucyjny wyda orzeczenie o sprzeczności z <em>Konstytucją</em>\n",
      "   celów lub działalności\n",
      "  - Ciężar udowodnienia niezgodności z <em>Konstytucją</em> spoczywa\n",
      "                na wnioskodawcy, który w tym\n",
      "4. 1997_496.txt:\n",
      "  - Za naruszenie <em>Konstytucji</em> lub ustawy, w związku z zajmowanym\n",
      "              stanowiskiem lub w zakresie\n",
      "  - W zakresie określonym w art. 107 <em>Konstytucji</em> odpowiedzialność przed\n",
      "           Trybunałem Stanu ponoszą\n",
      "  - Członkowie Rady Ministrów ponoszą odpowiedzialność przed Trybunałem\n",
      "           Stanu za naruszenie <em>Konstytucji</em>\n",
      "5. 1997_496.txt:\n",
      "  - wnioskami o:\n",
      "             1) stwierdzenie zgodności ustaw i umów międzynarodowych z\n",
      "               <em>Konstytucją</em>\n",
      "  - stwierdzenie zgodności przepisów prawa wydawanych przez\n",
      "               centralne organy państwowe, z <em>Konstytucją</em>\n",
      "  - ratyfikowanymi\n",
      "               umowami międzynarodowymi i ustawami,\n",
      "             4) stwierdzenie zgodności z <em>Konstytucją</em>\n",
      "6. 1997_496.txt:\n",
      "  - W Dzienniku Ustaw Rzeczypospolitej Polskiej, zwanym dalej \"Dziennikiem\n",
      "  Ustaw\", ogłasza się:\n",
      "   1) <em>Konstytucję</em>\n",
      "  - akty prawne dotyczące:\n",
      "   1) stanu wojny i zawarcia pokoju,\n",
      "   2) referendum zatwierdzającego zmianę <em>Konstytucji</em>\n",
      "  - ministra, któremu Sejm wyraził wotum nieufności,\n",
      "     h) powoływania lub odwoływania na określone w <em>Konstytucji</em>\n",
      "7. 1997_496.txt:\n",
      "  - 2c i art. 9-11 ustawy konstytucyjnej z dnia 23 kwietnia \n",
      "1992 r. o trybie przygotowania i uchwalenia <em>Konstytucji</em>\n",
      "  - Prezydent Rzeczypospolitej Polskiej zarządza poddanie <em>Konstytucji</em> pod referendum\n",
      "   w trybie określonym\n",
      "  - Przyjęcie w referendum <em>Konstytucji</em> następuje wówczas, gdy opowiedziała \n",
      "   się za nią większość biorących\n",
      "8. 1997_496.txt:\n",
      "  - postępowania w sprawie wykonywania inicjatywy\n",
      "ustawodawczej przez obywateli, o której mowa w art. 118 ust. 2 <em>Konstytucji</em>\n",
      "  - Projekt ustawy nie może dotyczyć spraw, dla których <em>Konstytucja</em>\n",
      "Rzeczypospolitej Polskiej zastrzega wyłączną\n",
      "  - Projekt ustawy wniesiony do Marszałka Sejmu powinien odpowiadać wymogom\n",
      "  zawartym w <em>Konstytucji</em> i Regulaminie\n",
      "9. 1997_496.txt:\n",
      "  - Rzecznik Praw Dziecka, zwany dalej Rzecznikiem, stoi na straży praw dziecka\n",
      "  określonych w <em>Konstytucji</em>\n",
      "  - uroczyście, że przy wykonywaniu powierzonych mi obowiązków\n",
      "     Rzecznika Praw Dziecka dochowam wierności <em>Konstytucji</em>\n",
      "10. 1997_496.txt:\n",
      "  - Krajowa Rada Sądownictwa, zwana dalej \"Radą\", realizuje cele określone w\n",
      "  <em>Konstytucji</em> Rzeczypospolitej\n",
      "  - ) podejmuje uchwały w sprawach wystąpienia do Trybunału Konstytucyjnego o\n",
      "     zbadanie zgodności z <em>Konstytucją</em>\n"
     ]
    }
   ],
   "source": [
    "search = elasticsearch_dsl.Search(index='acts') \\\n",
    "    .using(es) \\\n",
    "    .query(elasticsearch_dsl.query.Match(content={'query': 'konstytucja'})) \\\n",
    "    .highlight('content', number_of_fragments=3)\n",
    "\n",
    "results = search[:10].execute()\n",
    "\n",
    "print(f'The top 10 files containing the phrase \"konstytucja\" with selected excerpts:')\n",
    "for index, hit in enumerate(results.hits):\n",
    "    print(f'{index +  1}. {file_name}:')\n",
    "    for highlight in hit.meta.highlight.content:\n",
    "        print(f'  - {highlight}')\n"
   ]
  }
 ],
 "metadata": {
  "kernelspec": {
   "display_name": "Python 3",
   "language": "python",
   "name": "python3"
  },
  "language_info": {
   "codemirror_mode": {
    "name": "ipython",
    "version": 3
   },
   "file_extension": ".py",
   "mimetype": "text/x-python",
   "name": "python",
   "nbconvert_exporter": "python",
   "pygments_lexer": "ipython3",
   "version": "3.6.9"
  }
 },
 "nbformat": 4,
 "nbformat_minor": 4
}
