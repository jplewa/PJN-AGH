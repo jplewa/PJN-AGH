{
 "cells": [
  {
   "cell_type": "markdown",
   "metadata": {},
   "source": [
    "# Komentarz\n",
    "Dzień dobry, \n",
    "ja się w sumie pogubiłam z tymi zmianami terminów dosyć mocno i byłam przekonana, że to zadanie jest na za tydzień, a tu czerwone \"Due yesterday\" na Teamsie zrobiło mi niespodziankę ;) Moja wina oczywiście, więc przepraszam za ewentualne niedogodności ze sprawdzaniem."
   ]
  },
  {
   "cell_type": "markdown",
   "metadata": {},
   "source": [
    "# Lab7: Word embeddings"
   ]
  },
  {
   "cell_type": "code",
   "execution_count": 37,
   "metadata": {},
   "outputs": [],
   "source": [
    "import warnings\n",
    "\n",
    "import gensim.models\n",
    "import matplotlib.pyplot as plt\n",
    "import numpy as np\n",
    "import sklearn.manifold"
   ]
  },
  {
   "cell_type": "code",
   "execution_count": 2,
   "metadata": {},
   "outputs": [],
   "source": [
    "warnings.filterwarnings('ignore', category=DeprecationWarning)\n",
    "warnings.filterwarnings('ignore', category=RuntimeWarning)"
   ]
  },
  {
   "cell_type": "markdown",
   "metadata": {},
   "source": [
    "## Read the documentation of word2vec in Gensim library."
   ]
  },
  {
   "cell_type": "markdown",
   "metadata": {},
   "source": [
    "## Download polish word embeddings for word2vec github/Google drive:"
   ]
  },
  {
   "cell_type": "markdown",
   "metadata": {},
   "source": [
    "### with 100 dimensionality"
   ]
  },
  {
   "cell_type": "markdown",
   "metadata": {},
   "source": [
    "Model pobrano z [linku podanego w instrukcji](https://github.com/sdadas/polish-nlp-resources/releases/download/v1.0/word2vec.zip)."
   ]
  },
  {
   "cell_type": "code",
   "execution_count": 7,
   "metadata": {},
   "outputs": [],
   "source": [
    "model_100 = gensim.models.KeyedVectors.load('../word2vec/word2vec_100_3_polish.bin')"
   ]
  },
  {
   "cell_type": "code",
   "execution_count": 8,
   "metadata": {},
   "outputs": [
    {
     "name": "stdout",
     "output_type": "stream",
     "text": [
      "[('pielęgniarka', 0.664936363697052)]\n",
      "[('mannon', 0.5751891136169434)]\n"
     ]
    }
   ],
   "source": [
    "print(model_100.most_similar(positive=['lekarz', 'kobieta'], negative=['meżczyzna'], topn=1))\n",
    "\n",
    "print(model_100.most_similar(positive=['lekarka', 'meżczyzna'], negative=['kobieta'], topn=1))"
   ]
  },
  {
   "cell_type": "markdown",
   "metadata": {},
   "source": [
    "### with 300 dimensionality"
   ]
  },
  {
   "cell_type": "markdown",
   "metadata": {},
   "source": [
    "Model pobrano z [linku podanego w instrukcji](https://witedupl-my.sharepoint.com/personal/dadass_wit_edu_pl/_layouts/15/onedrive.aspx?id=%2Fpersonal%2Fdadass%5Fwit%5Fedu%5Fpl%2FDocuments%2FModels%2Fword2vec%2Fword2vec%5F300%5F3%2E7z&parent=%2Fpersonal%2Fdadass%5Fwit%5Fedu%5Fpl%2FDocuments%2FModels%2Fword2vec&originalPath=aHR0cHM6Ly93aXRlZHVwbC1teS5zaGFyZXBvaW50LmNvbS86dTovZy9wZXJzb25hbC9kYWRhc3Nfd2l0X2VkdV9wbC9FUTdRQTZQa1B1cEJ0Wll5UDhrYWFmTUIwejlGZEhmTUU3a3htX3RjUldoOWhBP3J0aW1lPVdRQXVQVG1nMkVn)."
   ]
  },
  {
   "cell_type": "code",
   "execution_count": 3,
   "metadata": {},
   "outputs": [],
   "source": [
    "model_300 = gensim.models.KeyedVectors.load('../word2vec/word2vec_300_3_polish.bin')"
   ]
  },
  {
   "cell_type": "code",
   "execution_count": 4,
   "metadata": {},
   "outputs": [
    {
     "name": "stdout",
     "output_type": "stream",
     "text": [
      "[('pielęgniarka', 0.6607284545898438)]\n",
      "[('mannon', 0.4515388011932373)]\n"
     ]
    }
   ],
   "source": [
    "print(model_300.most_similar(positive=['lekarz', 'kobieta'], negative=['meżczyzna'], topn=1))\n",
    "\n",
    "print(model_300.most_similar(positive=['lekarka', 'meżczyzna'], negative=['kobieta'], topn=1))"
   ]
  },
  {
   "cell_type": "markdown",
   "metadata": {},
   "source": [
    "## Using the downloaded models find the most similar words for the following expressions:\n",
    "* kpk\n",
    "* szkoda\n",
    "* wypadek\n",
    "* kolizja\n",
    "* nieszczęście\n",
    "* rozwód\n",
    "\n",
    "## Display 5 most similar words according to each model."
   ]
  },
  {
   "cell_type": "code",
   "execution_count": 10,
   "metadata": {
    "scrolled": true
   },
   "outputs": [
    {
     "name": "stdout",
     "output_type": "stream",
     "text": [
      "kpk\n",
      "  - model_100:\n",
      "    - kilopond (0.6665806770324707)\n",
      "    - kpzs (0.6363496780395508)\n",
      "    - kpu (0.6300562024116516)\n",
      "    - sownarkomu (0.6254925727844238)\n",
      "    - wcik (0.6224358677864075)\n",
      "  - model_300:\n",
      "    - ksh (0.5774794220924377)\n",
      "    - cywilnego (0.5498510599136353)\n",
      "    - postępowania (0.5285828113555908)\n",
      "    - kilopond (0.5151568055152893)\n",
      "    - kkkw (0.48344212770462036)\n",
      "szkoda\n",
      "  - model_100:\n",
      "    - krzywda (0.6817898750305176)\n",
      "    - pożytek (0.6121943593025208)\n",
      "    - strata (0.5968126654624939)\n",
      "    - ryzyko (0.5745570659637451)\n",
      "    - uszczerbek (0.5639551877975464)\n",
      "  - model_300:\n",
      "    - uszczerbek (0.6027276515960693)\n",
      "    - krzywda (0.5920778512954712)\n",
      "    - strata (0.550269365310669)\n",
      "    - despekt (0.5382484197616577)\n",
      "    - pożytek (0.531347393989563)\n",
      "wypadek\n",
      "  - model_100:\n",
      "    - przypadek (0.7544811964035034)\n",
      "    - okoliczności (0.7268072366714478)\n",
      "    - padku (0.6788284182548523)\n",
      "    - incydent (0.6418948173522949)\n",
      "    - zdarzenie (0.6114422082901001)\n",
      "  - model_300:\n",
      "    - przypadek (0.7066895961761475)\n",
      "    - okoliczności (0.6121077537536621)\n",
      "    - padku (0.6056742072105408)\n",
      "    - padki (0.5596078634262085)\n",
      "    - incydent (0.5496981143951416)\n",
      "kolizja\n",
      "  - model_100:\n",
      "    - zderzenie (0.8431548476219177)\n",
      "    - awaria (0.7090569734573364)\n",
      "    - kraksa (0.6777161359786987)\n",
      "    - turbulencja (0.6613468527793884)\n",
      "    - poślizg (0.6391660571098328)\n",
      "  - model_300:\n",
      "    - zderzenie (0.7603178024291992)\n",
      "    - awaria (0.611009955406189)\n",
      "    - kraksa (0.5939033031463623)\n",
      "    - turbulencja (0.5664489269256592)\n",
      "    - poślizg (0.5569967031478882)\n",
      "nieszczęście\n",
      "  - model_100:\n",
      "    - niebezpieczeństwo (0.7519958019256592)\n",
      "    - cierpienia (0.7408335208892822)\n",
      "    - strapienie (0.7345459461212158)\n",
      "    - cierpienie (0.7262567281723022)\n",
      "    - utrapienie (0.7251379489898682)\n",
      "  - model_300:\n",
      "    - utrapienie (0.6610732674598694)\n",
      "    - cierpienia (0.6526124477386475)\n",
      "    - niedola (0.6478177309036255)\n",
      "    - strapienie (0.6300181150436401)\n",
      "    - cierpienie (0.6248573064804077)\n",
      "rozwód\n",
      "  - model_100:\n",
      "    - małżeństwo (0.7646843194961548)\n",
      "    - separacja (0.7547168135643005)\n",
      "    - adopcja (0.7333694696426392)\n",
      "    - ślub (0.7324203848838806)\n",
      "    - unieważnienie (0.7096400856971741)\n",
      "  - model_300:\n",
      "    - separacja (0.7053208351135254)\n",
      "    - małżeństwo (0.6689504384994507)\n",
      "    - ślub (0.6553219556808472)\n",
      "    - rozwodowy (0.614338219165802)\n",
      "    - unieważnienie (0.6127183437347412)\n"
     ]
    }
   ],
   "source": [
    "for word in ['kpk', 'szkoda', 'wypadek', 'kolizja', 'nieszczęście', 'rozwód']:\n",
    "    print(word)\n",
    "    print('  - model_100:')\n",
    "    for match in model_100.most_similar(positive=[word], topn=5):\n",
    "        print(f'    - {match[0]} ({match[1]})')\n",
    "    print('  - model_300:')\n",
    "    for match in model_300.most_similar(positive=[word], topn=5):\n",
    "        print(f'    - {match[0]} ({match[1]})')"
   ]
  },
  {
   "cell_type": "markdown",
   "metadata": {},
   "source": [
    "##  Find the most similar words for the following expressions (average the representations for each word):\n",
    "* sąd najwyższy\n",
    "* trybunał konstytucyjny\n",
    "* szkoda majątkowy\n",
    "* kodeks cywilny\n",
    "* sąd rejonowy\n",
    "\n",
    "## Display 7 most similar words according to each model."
   ]
  },
  {
   "cell_type": "code",
   "execution_count": 20,
   "metadata": {
    "scrolled": true
   },
   "outputs": [
    {
     "name": "stdout",
     "output_type": "stream",
     "text": [
      "sąd najwyższy\n",
      "  - model_100:\n",
      "    - sąd (0.8644266128540039)\n",
      "    - trybunał (0.7672435641288757)\n",
      "    - najwyższy (0.7527138590812683)\n",
      "    - trybunat (0.6843459010124207)\n",
      "    - sędzia (0.6718415021896362)\n",
      "    - areopag (0.6571060419082642)\n",
      "    - sprawiedliwość (0.6562486886978149)\n",
      "  - model_300:\n",
      "    - sąd (0.8261206150054932)\n",
      "    - trybunał (0.711520791053772)\n",
      "    - najwyższy (0.7068409323692322)\n",
      "    - sędzia (0.6023203730583191)\n",
      "    - sądowy (0.5670486688613892)\n",
      "    - trybunat (0.5525928735733032)\n",
      "    - sprawiedliwość (0.5319530367851257)\n",
      "trybunał konstytucyjny\n",
      "  - model_100:\n",
      "    - trybunał (0.9073251485824585)\n",
      "    - konstytucyjny (0.7998723387718201)\n",
      "    - sąd (0.7972990274429321)\n",
      "    - bunał (0.7729247808456421)\n",
      "    - senat (0.7585273385047913)\n",
      "    - bunału (0.7441976070404053)\n",
      "    - trybunat (0.7347140908241272)\n",
      "  - model_300:\n",
      "    - trybunał (0.8845913410186768)\n",
      "    - konstytucyjny (0.7739969491958618)\n",
      "    - sąd (0.7300779819488525)\n",
      "    - trybunat (0.6758428812026978)\n",
      "    - senat (0.6632090210914612)\n",
      "    - parlament (0.6614581346511841)\n",
      "    - bunału (0.6404117941856384)\n",
      "szkoda majątkowy\n",
      "  - model_100:\n",
      "    - szkoda (0.8172438144683838)\n",
      "    - majątkowy (0.7424530386924744)\n",
      "    - krzywda (0.6498408317565918)\n",
      "    - świadczenie (0.6419471502304077)\n",
      "    - odszkodowanie (0.6392182111740112)\n",
      "    - dochód (0.637932538986206)\n",
      "    - wydatek (0.6325603127479553)\n",
      "  - model_300:\n",
      "    - szkoda (0.7971925735473633)\n",
      "    - majątkowy (0.7278684973716736)\n",
      "    - uszczerbek (0.5841633081436157)\n",
      "    - korzyść (0.5474051237106323)\n",
      "    - krzywda (0.5431190729141235)\n",
      "    - majątek (0.525060772895813)\n",
      "    - strata (0.5228629112243652)\n",
      "kodeks cywilny\n",
      "  - model_100:\n",
      "    - kodeks (0.8756389617919922)\n",
      "    - cywilny (0.8532464504241943)\n",
      "    - pasztunwali (0.6438998579978943)\n",
      "    - deksu (0.6374959945678711)\n",
      "    - teodozjańskim (0.6283917427062988)\n",
      "    - pozakodeksowy (0.6153194904327393)\n",
      "    - sądowo (0.6136723160743713)\n",
      "  - model_300:\n",
      "    - kodeks (0.8212110996246338)\n",
      "    - cywilny (0.7886406779289246)\n",
      "    - amiatyński (0.5660314559936523)\n",
      "    - cywilnego (0.5531740188598633)\n",
      "    - deksu (0.5472918748855591)\n",
      "    - isps (0.5369160175323486)\n",
      "    - jōei (0.5361183881759644)\n",
      "sąd rejonowy\n",
      "  - model_100:\n",
      "    - sąd (0.8773891925811768)\n",
      "    - prokuratura (0.8396657705307007)\n",
      "    - rejonowy (0.7694871425628662)\n",
      "    - trybunał (0.755321204662323)\n",
      "    - sądowy (0.7153753042221069)\n",
      "    - magistrat (0.7151126861572266)\n",
      "    - prokurator (0.7081375122070312)\n",
      "  - model_300:\n",
      "    - sąd (0.8507211208343506)\n",
      "    - rejonowy (0.7344856262207031)\n",
      "    - prokuratura (0.711697518825531)\n",
      "    - trybunał (0.6748420596122742)\n",
      "    - sądowy (0.6426382064819336)\n",
      "    - okręgowy (0.6349465847015381)\n",
      "    - apelacyjny (0.599929690361023)\n"
     ]
    }
   ],
   "source": [
    "for expression in ['sąd najwyższy', 'trybunał konstytucyjny', 'szkoda majątkowy', 'kodeks cywilny', 'sąd rejonowy']:\n",
    "    print(expression)\n",
    "    \n",
    "    first_word, second_word = expression.split(' ')\n",
    "\n",
    "    print('  - model_100:')\n",
    "    \n",
    "    result_100 = [\n",
    "        np.mean(values) \n",
    "        for values \n",
    "        in zip(\n",
    "            np.array(model_100[first_word]), \n",
    "            np.array(model_100[second_word])\n",
    "        )\n",
    "    ]\n",
    "    for match in model_100.similar_by_vector(np.array(result_100))[:7]:\n",
    "        print(f'    - {match[0]} ({match[1]})')\n",
    "        \n",
    "    print('  - model_300:')\n",
    "    \n",
    "    result_300 = [\n",
    "        np.mean(values) \n",
    "        for values \n",
    "        in zip(\n",
    "            np.array(model_300[first_word]), \n",
    "            np.array(model_300[second_word])\n",
    "        )\n",
    "    ]\n",
    "    for match in model_300.similar_by_vector(np.array(result_300))[:7]:\n",
    "        print(f'    - {match[0]} ({match[1]})')"
   ]
  },
  {
   "cell_type": "markdown",
   "metadata": {},
   "source": [
    "## Find the result of the following equations (5 top results, both models):"
   ]
  },
  {
   "cell_type": "markdown",
   "metadata": {},
   "source": [
    "### sąd + konstytucja - kpk"
   ]
  },
  {
   "cell_type": "code",
   "execution_count": 23,
   "metadata": {},
   "outputs": [
    {
     "name": "stdout",
     "output_type": "stream",
     "text": [
      "model_100:\n",
      "  - trybunał (0.6436409950256348)\n",
      "  - ustawa (0.6028786897659302)\n",
      "  - elekcja (0.5823959112167358)\n",
      "  - deklaracja (0.5771891474723816)\n",
      "  - dekret (0.5759621262550354)\n",
      "model_300:\n",
      "  - trybunał (0.5860734581947327)\n",
      "  - senat (0.5112544298171997)\n",
      "  - ustawa (0.5023636817932129)\n",
      "  - dekret (0.48704710602760315)\n",
      "  - władza (0.4868926703929901)\n"
     ]
    }
   ],
   "source": [
    "print('model_100:')\n",
    "\n",
    "for match in model_100.most_similar(positive=['sąd', 'konstytucja'], negative=['kpk'], topn=5):\n",
    "    print(f'  - {match[0]} ({match[1]})')\n",
    "    \n",
    "print('model_300:')\n",
    "\n",
    "for match in model_300.most_similar(positive=['sąd', 'konstytucja'], negative=['kpk'], topn=5):\n",
    "    print(f'  - {match[0]} ({match[1]})')"
   ]
  },
  {
   "cell_type": "markdown",
   "metadata": {},
   "source": [
    "### pasażer + kobieta - mężczyzna"
   ]
  },
  {
   "cell_type": "code",
   "execution_count": 24,
   "metadata": {},
   "outputs": [
    {
     "name": "stdout",
     "output_type": "stream",
     "text": [
      "model_100:\n",
      "  - pasażerka (0.7234811186790466)\n",
      "  - stewardessa (0.6305270195007324)\n",
      "  - stewardesa (0.6282645463943481)\n",
      "  - taksówka (0.619726300239563)\n",
      "  - podróżny (0.614517092704773)\n",
      "model_300:\n",
      "  - pasażerka (0.6741673946380615)\n",
      "  - stewardesa (0.5810248255729675)\n",
      "  - stewardessa (0.5653151273727417)\n",
      "  - podróżny (0.5060371160507202)\n",
      "  - pasażerski (0.4896503686904907)\n"
     ]
    }
   ],
   "source": [
    "print('model_100:')\n",
    "\n",
    "for match in model_100.most_similar(positive=['pasażer', 'kobieta'], negative=['mężczyzna'], topn=5):\n",
    "    print(f'  - {match[0]} ({match[1]})')\n",
    "    \n",
    "print('model_300:')\n",
    "\n",
    "for match in model_300.most_similar(positive=['pasażer', 'kobieta'], negative=['mężczyzna'], topn=5):\n",
    "    print(f'  - {match[0]} ({match[1]})')"
   ]
  },
  {
   "cell_type": "markdown",
   "metadata": {},
   "source": [
    "### pilot + kobieta - mężczyzna"
   ]
  },
  {
   "cell_type": "code",
   "execution_count": 25,
   "metadata": {},
   "outputs": [
    {
     "name": "stdout",
     "output_type": "stream",
     "text": [
      "model_100:\n",
      "  - nawigator (0.6925703287124634)\n",
      "  - oblatywacz (0.6686224937438965)\n",
      "  - lotnik (0.6569937467575073)\n",
      "  - pilotka (0.6518791913986206)\n",
      "  - awionetka (0.6428645849227905)\n",
      "model_300:\n",
      "  - pilotka (0.6108255386352539)\n",
      "  - lotnik (0.6020804047584534)\n",
      "  - stewardesa (0.5943204760551453)\n",
      "  - nawigator (0.5849766731262207)\n",
      "  - oblatywacz (0.5674178600311279)\n"
     ]
    }
   ],
   "source": [
    "print('model_100:')\n",
    "\n",
    "for match in model_100.most_similar(positive=['pilot', 'kobieta'], negative=['mężczyzna'], topn=5):\n",
    "    print(f'  - {match[0]} ({match[1]})')\n",
    "    \n",
    "print('model_300:')\n",
    "\n",
    "for match in model_300.most_similar(positive=['pilot', 'kobieta'], negative=['mężczyzna'], topn=5):\n",
    "    print(f'  - {match[0]} ({match[1]})')"
   ]
  },
  {
   "cell_type": "markdown",
   "metadata": {},
   "source": [
    "### lekarz + kobieta - mężczyzna"
   ]
  },
  {
   "cell_type": "code",
   "execution_count": 83,
   "metadata": {},
   "outputs": [
    {
     "name": "stdout",
     "output_type": "stream",
     "text": [
      "model_100:\n",
      "  - lekarka (0.7690489292144775)\n",
      "  - ginekolog (0.7575511336326599)\n",
      "  - pediatra (0.7478542923927307)\n",
      "  - psychiatra (0.732271671295166)\n",
      "  - położna (0.7268943786621094)\n",
      "model_300:\n",
      "  - lekarka (0.7388788461685181)\n",
      "  - pielęgniarka (0.6719920635223389)\n",
      "  - ginekolog (0.658279299736023)\n",
      "  - psychiatra (0.6389409303665161)\n",
      "  - chirurg (0.6305986642837524)\n"
     ]
    }
   ],
   "source": [
    "print('model_100:')\n",
    "\n",
    "for match in model_100.most_similar(positive=['lekarz', 'kobieta'], negative=['mężczyzna'], topn=5):\n",
    "    print(f'  - {match[0]} ({match[1]})')\n",
    "    \n",
    "print('model_300:')\n",
    "\n",
    "for match in model_300.most_similar(positive=['lekarz', 'kobieta'], negative=['mężczyzna'], topn=5):\n",
    "    print(f'  - {match[0]} ({match[1]})')"
   ]
  },
  {
   "cell_type": "markdown",
   "metadata": {},
   "source": [
    "### nauczycielka + mężczyzna - kobieta"
   ]
  },
  {
   "cell_type": "code",
   "execution_count": 27,
   "metadata": {},
   "outputs": [
    {
     "name": "stdout",
     "output_type": "stream",
     "text": [
      "model_100:\n",
      "  - uczennica (0.7441667318344116)\n",
      "  - studentka (0.7274973392486572)\n",
      "  - nauczyciel (0.7176114916801453)\n",
      "  - wychowawczyni (0.7153530120849609)\n",
      "  - koleżanka (0.678418755531311)\n",
      "model_300:\n",
      "  - nauczyciel (0.6561620235443115)\n",
      "  - wychowawczyni (0.6211140155792236)\n",
      "  - uczennica (0.6142012476921082)\n",
      "  - koleżanka (0.5501158237457275)\n",
      "  - przedszkolanka (0.5497692823410034)\n"
     ]
    }
   ],
   "source": [
    "print('model_100:')\n",
    "\n",
    "for match in model_100.most_similar(positive=['nauczycielka', 'mężczyzna'], negative=['kobieta'], topn=5):\n",
    "    print(f'  - {match[0]} ({match[1]})')\n",
    "    \n",
    "print('model_300:')\n",
    "\n",
    "for match in model_300.most_similar(positive=['nauczycielka', 'mężczyzna'], negative=['kobieta'], topn=5):\n",
    "    print(f'  - {match[0]} ({match[1]})')"
   ]
  },
  {
   "cell_type": "markdown",
   "metadata": {},
   "source": [
    "### przedszkolanka + mężczyzna - 'kobieta"
   ]
  },
  {
   "cell_type": "code",
   "execution_count": 28,
   "metadata": {},
   "outputs": [
    {
     "name": "stdout",
     "output_type": "stream",
     "text": [
      "model_100:\n",
      "  - stażysta (0.6987776756286621)\n",
      "  - wychowawczyni (0.6618361473083496)\n",
      "  - kreślarka (0.6590923070907593)\n",
      "  - pielęgniarz (0.6492814421653748)\n",
      "  - siedmiolatek (0.6483469009399414)\n",
      "model_300:\n",
      "  - stażysta (0.5117638111114502)\n",
      "  - pierwszoklasista (0.49398648738861084)\n",
      "  - wychowawczyni (0.49037522077560425)\n",
      "  - praktykant (0.48884207010269165)\n",
      "  - pielęgniarz (0.4795262813568115)\n"
     ]
    }
   ],
   "source": [
    "print('model_100:')\n",
    "\n",
    "for match in model_100.most_similar(positive=['przedszkolanka', 'mężczyzna'], negative=['kobieta'], topn=5):\n",
    "    print(f'  - {match[0]} ({match[1]})')\n",
    "    \n",
    "print('model_300:')\n",
    "\n",
    "for match in model_300.most_similar(positive=['przedszkolanka', 'mężczyzna'], negative=['kobieta'], topn=5):\n",
    "    print(f'  - {match[0]} ({match[1]})')"
   ]
  },
  {
   "cell_type": "markdown",
   "metadata": {},
   "source": [
    "### samochód + rzeka - droga"
   ]
  },
  {
   "cell_type": "code",
   "execution_count": 29,
   "metadata": {},
   "outputs": [
    {
     "name": "stdout",
     "output_type": "stream",
     "text": [
      "model_100:\n",
      "  - jeep (0.6142987608909607)\n",
      "  - buick (0.5962571501731873)\n",
      "  - dżip (0.5938510894775391)\n",
      "  - ponton (0.580719530582428)\n",
      "  - landrower (0.5799552202224731)\n",
      "model_300:\n",
      "  - dżip (0.5567235946655273)\n",
      "  - jeep (0.5533617734909058)\n",
      "  - auto (0.5478508472442627)\n",
      "  - ciężarówka (0.5461742281913757)\n",
      "  - wóz (0.5204571485519409)\n"
     ]
    }
   ],
   "source": [
    "print('model_100:')\n",
    "\n",
    "for match in model_100.most_similar(positive=['samochód', 'rzeka'], negative=['droga'], topn=5):\n",
    "    print(f'  - {match[0]} ({match[1]})')\n",
    "    \n",
    "print('model_300:')\n",
    "\n",
    "for match in model_300.most_similar(positive=['samochód', 'rzeka'], negative=['droga'], topn=5):\n",
    "    print(f'  - {match[0]} ({match[1]})')"
   ]
  },
  {
   "cell_type": "markdown",
   "metadata": {},
   "source": [
    "## Using the t-SNE algorithm compute the projection of the random 1000 words with the following words highlighted (both models):\n",
    "* szkoda\n",
    "* strata\n",
    "* uszczerbek\n",
    "* krzywda\n",
    "* niesprawiedliwość\n",
    "* nieszczęście\n",
    "* kobieta\n",
    "* mężczyzna\n",
    "* pasażer\n",
    "* pasażerka\n",
    "* student\n",
    "* studentka\n",
    "* lekarz\n",
    "* lekarka\n"
   ]
  },
  {
   "cell_type": "code",
   "execution_count": 129,
   "metadata": {},
   "outputs": [],
   "source": [
    "words = [\n",
    "    'szkoda',\n",
    "    'strata',\n",
    "    'uszczerbek',\n",
    "    'krzywda',\n",
    "    'niesprawiedliwość',\n",
    "    'nieszczęście',\n",
    "    'kobieta',\n",
    "    'mężczyzna',\n",
    "    'pasażer',\n",
    "    'pasażerka',\n",
    "    'student',\n",
    "    'studentka',\n",
    "    'lekarz',\n",
    "    'lekarka',\n",
    "]"
   ]
  },
  {
   "cell_type": "code",
   "execution_count": 94,
   "metadata": {},
   "outputs": [
    {
     "data": {
      "text/plain": [
       "array([\"nf'\", 'makrofitowego', 'ostroszowic', 'copulaverat', 'antysaska',\n",
       "       'halannę', 'pięciomarkówek', 'tovą', 'миле', 'mililani'],\n",
       "      dtype='<U77')"
      ]
     },
     "execution_count": 94,
     "metadata": {},
     "output_type": "execute_result"
    }
   ],
   "source": [
    "random_words = np.random.choice(list(model_100.wv.vocab), 1000)\n",
    "\n",
    "random_words[:10]"
   ]
  },
  {
   "cell_type": "code",
   "execution_count": 144,
   "metadata": {},
   "outputs": [],
   "source": [
    "def draw_TSNE_plot(model, highlighted_words, random_words):\n",
    "    random_word_number = len(random_words)\n",
    "    highlighted_word_number = len(highlighted_words)\n",
    "    \n",
    "    color_map = plt.cm.jet(np.linspace(0, 1, highlighted_word_number))\n",
    "    \n",
    "    random_word_vectors = [model.wv.get_vector(word) for word in random_words]\n",
    "    highlighted_word_vectors = [model.wv.get_vector(word) for word in highlighted_words]\n",
    "    \n",
    "    result = sklearn.manifold.TSNE(n_components=2)\\\n",
    "        .fit_transform(random_word_vectors + highlighted_word_vectors)\n",
    "    \n",
    "    plt.figure(figsize=(15, 10))\n",
    "\n",
    "    plt.scatter(result[:random_word_number, 0], result[:random_word_number, 1], color='lightgray')\n",
    "\n",
    "    for index in range(highlighted_word_number):\n",
    "        plt.scatter(\n",
    "            result[random_word_number + index, 0], \n",
    "            result[random_word_number + index, 1], \n",
    "            label=highlighted_words[index], \n",
    "            color=color_map[index],\n",
    "            s=100\n",
    "        )\n",
    "\n",
    "    plt.xlim(-25, 25)\n",
    "    plt.ylim(-25, 25)\n",
    "    \n",
    "    plt.legend()\n",
    "    \n",
    "    plt.show()"
   ]
  },
  {
   "cell_type": "code",
   "execution_count": 149,
   "metadata": {},
   "outputs": [
    {
     "data": {
      "image/png": "[encoded data removed]",
      "text/plain": [
       "<Figure size 1080x720 with 1 Axes>"
      ]
     },
     "metadata": {
      "needs_background": "light"
     },
     "output_type": "display_data"
    }
   ],
   "source": [
    "draw_TSNE_plot(model_100, words, random_words)"
   ]
  },
  {
   "cell_type": "code",
   "execution_count": 148,
   "metadata": {},
   "outputs": [
    {
     "data": {
      "image/png": "[encoded data removed]",
      "text/plain": [
       "<Figure size 1080x720 with 1 Axes>"
      ]
     },
     "metadata": {
      "needs_background": "light"
     },
     "output_type": "display_data"
    }
   ],
   "source": [
    "draw_TSNE_plot(model_300, words, random_words)"
   ]
  },
  {
   "cell_type": "markdown",
   "metadata": {},
   "source": [
    "## Answer the following questions:\n",
    "### Compare results for all experiments with respect to the employed models (100 and 300-d)?\n",
    "W części przypadków wyniki różnią się, jednak mają wiele wspólnych elementów. Przykładowo wśród słów najbardziej podobnych do słowa \"rozwód\" cztery z pięciu pierwszych wyników są takie same w przypadku obydwu modeli, choć kolejność nieco się różni. Inaczej wygląda sytuacja na przykład dla skrótu \"kpk\", gdzie wśród umiarkowane sensownych wyników modelowi o wymiarowści 300 udało się zwrócić odpowiedzi takie jak \"postępowania\" czy \"cywilnego\", podczas gdy model-100 nie zwrócił żadnych słów związanych z prawem. Warto też zauważyć, że model-100 dał swoim rezultatem większy score, choć nie wydają się one wartościowe.\n",
    "\n",
    "Ze swojej strony chciałam też dodać, że osobiście miałam pewne problemy z wczytaniem modelu-300 do ograniczonej rozmiarowo pamięci swojego komputera, choć nie jest to oczywiście uwaga odnośnie wyników, a raczej odnośnie samego narzędzia.\n",
    "\n",
    "### Compare results for single words and MWEs.\n",
    "\n",
    "W obydwu przypadkach udało się uzyskać raczej sensowne wyniki uwzględniające słowa powiązane semantycznie z zadanymi frazami. W przypadku wyrażeń wielowyrazowych udało się całkiem skutecznie odnaleźć powiązane słowa klucze, jednak wśród wyników znalazło się trochę bardziej egzotycznych fraz takich jak \"teodozjańskim\" czy \"amiatyński\" oraz fragmenty słów takie jak \"bunał\" i \"bunału\". Wyniki dla MWE uwzględniają też poszczególne słowa wchodzące w skład danego wyrażenia.\n",
    "\n",
    "### How the results for MWEs could be improved?\n",
    "Można by odfiltrować spośród wyników wyrazy wchodzące bezpośrednio w skład danego MWE. Ciekawe mogłoby być również zastosowanie innej metryki niż zwykła średnia.\n",
    "\n",
    "\n",
    "### Are the results for albegraic operations biased?\n",
    "Wydaje mi się, że w modelu brakuje reprezentacji feminatywów. Przykładowo dla `anestezjolog + kobieta - mężczyzna` spodziewałabym się wyniku \"anestezjolożka\", jednak uzyskałam jedynie odpowiedzi takie jak \"lekarka\", \"pacjentka\", \"pielęgniarka\". Patrząc na inne odpowiedzi okołomedyczne, to wśród wyników w przypadku sumowania słowa \"kobieta\" często pojawiają się słowa takie jak \"położna\" czy \"ginekolog\" (a nie \"ginekolożka\"). Ma to pewien sens, ponieważ ich pacjentami w większości są kobiety (choć tak naprawdę nie tylko, ale statystycznie raczej tak by to wychodziło). Jak chodzi o analogiczną operację `lekarka + mężczyzna - kobieta`, to nie jestem pewna, czy istnieje \"męski odpowiednik ginekologa\" - wyszukiwarka sugeruje odpowiedź \"androlog\", ale w sumie nigdy nie słyszałam tej nazwy, więc nie oczekiwałabym że znajdę ją w wynikach tej operacji. \n",
    "\n",
    "Wydaje mi się, że słyszałam legendy o tym, że takie modele za odpowiednika lekarza uznawały pielęgniarkę, a za odpowiednika szefa sekretarkę, jednak teraz na pierwszym miejscu działania `lekarz + kobieta - mężczyzna` faktycznie znalazła się \"lekarka\". Zaskoczył mnie też stosunkowo dobry wynik \"pilotki\". \"Informatyczka\" wypadła słabo, ale \"programistce\" udało się zająć zaszczytne drugie miejsce w modelu-300 tuż za \"oprogramowaniem\"."
   ]
  },
  {
   "cell_type": "markdown",
   "metadata": {},
   "source": [
    "#### Informatyczka?"
   ]
  },
  {
   "cell_type": "code",
   "execution_count": 84,
   "metadata": {},
   "outputs": [
    {
     "name": "stdout",
     "output_type": "stream",
     "text": [
      "model_100:\n",
      "  - informatyczny (0.7079552412033081)\n",
      "  - cybernetyk (0.6913930177688599)\n",
      "  - informatyka (0.6769238710403442)\n",
      "  - elektronik (0.6690592169761658)\n",
      "  - komputeryzacja (0.6623849868774414)\n",
      "model_300:\n",
      "  - cybernetyk (0.6038252115249634)\n",
      "  - informatyczny (0.5885249376296997)\n",
      "  - matematyk (0.5742408037185669)\n",
      "  - informatyka (0.5728007555007935)\n",
      "  - teleinformatyka (0.5630858540534973)\n"
     ]
    }
   ],
   "source": [
    "print('model_100:')\n",
    "\n",
    "for match in model_100.most_similar(positive=['informatyk', 'kobieta'], negative=['mężczyzna'], topn=5):\n",
    "    print(f'  - {match[0]} ({match[1]})')\n",
    "    \n",
    "print('model_300:')\n",
    "\n",
    "for match in model_300.most_similar(positive=['informatyk', 'kobieta'], negative=['mężczyzna'], topn=5):\n",
    "    print(f'  - {match[0]} ({match[1]})')"
   ]
  },
  {
   "cell_type": "markdown",
   "metadata": {},
   "source": [
    "#### Programistka?"
   ]
  },
  {
   "cell_type": "code",
   "execution_count": 85,
   "metadata": {},
   "outputs": [
    {
     "name": "stdout",
     "output_type": "stream",
     "text": [
      "model_100:\n",
      "  - kompilator (0.6839914321899414)\n",
      "  - oprogramowanie (0.6807354688644409)\n",
      "  - edytor (0.6688310503959656)\n",
      "  - aplikacja (0.6596279144287109)\n",
      "  - implementacja (0.6587384343147278)\n",
      "model_300:\n",
      "  - oprogramowanie (0.601147472858429)\n",
      "  - programistka (0.5788481831550598)\n",
      "  - aplikacja (0.5774339437484741)\n",
      "  - kompilator (0.5652058124542236)\n",
      "  - edytor (0.5385540723800659)\n"
     ]
    }
   ],
   "source": [
    "print('model_100:')\n",
    "\n",
    "for match in model_100.most_similar(positive=['programista', 'kobieta'], negative=['mężczyzna'], topn=5):\n",
    "    print(f'  - {match[0]} ({match[1]})')\n",
    "    \n",
    "print('model_300:')\n",
    "\n",
    "for match in model_300.most_similar(positive=['programista', 'kobieta'], negative=['mężczyzna'], topn=5):\n",
    "    print(f'  - {match[0]} ({match[1]})')"
   ]
  },
  {
   "cell_type": "markdown",
   "metadata": {},
   "source": [
    "W pewnym sensie analogiczne problemy wystąpiły przy operacji `przedszkolanka + mężczyzna - kobieta`, jednak wydaje mi się, że utworzenie formy męskiej od tego słowa nadal sprawia nam trochę większy problem słowotwórczy niż \"anestezjolożka\" czy \"informatyczka\".\n",
    "\n",
    "Przy powyższych rozważaniach poczyniłam założenie, że taki model algebraiczny ma w ogóle sens dla języka, jednak prawdę mówiąc, nie jestem co do tego do końca przekonana i nie do końca wiem, jakie odpowiedzi byłyby pozbawione _biasu_."
   ]
  },
  {
   "cell_type": "markdown",
   "metadata": {},
   "source": [
    "### According to t-SNE: do representations of similar word cluster together?\n",
    "\n",
    "Powstały w przybliżeniu następujące klastry:\n",
    "* 'szkoda', 'strata', 'uszczerbek', 'krzywda', 'niesprawiedliwość', 'nieszczęście',\n",
    "* 'kobieta', 'mężczyzna',\n",
    "* 'pasażer', 'pasażerka',\n",
    "* 'student', 'studentka', 'lekarz', 'lekarka'.\n",
    "\n",
    "Wydaje mi się, że jest to całkiem sensowny podział tych pojęć. Słowa opisujące ludzi znajdują się bliżej siebie nawzajem niż słów związanych z katastrofą."
   ]
  },
  {
   "cell_type": "code",
   "execution_count": null,
   "metadata": {},
   "outputs": [],
   "source": []
  }
 ],
 "metadata": {
  "kernelspec": {
   "display_name": "Python 3",
   "language": "python",
   "name": "python3"
  },
  "language_info": {
   "codemirror_mode": {
    "name": "ipython",
    "version": 3
   },
   "file_extension": ".py",
   "mimetype": "text/x-python",
   "name": "python",
   "nbconvert_exporter": "python",
   "pygments_lexer": "ipython3",
   "version": "3.6.9"
  }
 },
 "nbformat": 4,
 "nbformat_minor": 4
}
